{
 "cells": [
  {
   "cell_type": "markdown",
   "metadata": {},
   "source": [
    "# Turtle mit Jupyter\n",
    "\n",
    "![]()\n",
    "\n",
    "[github.com/gkvoelkl/ipython-turtle-widget](https://github.com/gkvoelkl/ipython-turtle-widget)\n",
    "\n",
    "In diesem Abschnitt lernen Sie die Grundbegriffe um mit Turtle-Graphik Bilder zu erzeugen. Befehle für diese Aufgabe findet man in der Bibliothek `ipyturtle`. Mit dieser Bibliothek können wir eine *Schildkröte* erzeugen welche beim Bewegen eine Spur hinterlässt. \n",
    "\n",
    "Damit wir die Bibliothek benutzen können müssen wir sie erst laden. Im Anschluss müssen wir unsere eigenen Schildkröte erzeugen. Dies macht man mit dem Befehl `Turtle()`"
   ]
  },
  {
   "cell_type": "markdown",
   "metadata": {},
   "source": [
    "## Grundlagen\n",
    "\n",
    "Turtle-Graphics ist eine einfache Umgebung um Graphiken zu erzeugen. Es gibt diese Umgebung als eigene Sprache Logo aber auch als Modul in Python. \n",
    "Ein Modul ist einfach gesagt eine Python-Datei mit vorgefertigten Befehlen die man weiterbenutzen darf. Man kann eigene Module erstellen, es gibt aber sehr viele Module/Bibliotheken.\n",
    "\n",
    "~~~python\n",
    "from ipyturtle import *\n",
    "sam = Turtle(width=300, height=300)\n",
    "sam\n",
    "~~~\n",
    "\n",
    "Mit der ersten Zeile laden wir die benötigten Befehle, die zweite Zeile erzeugt die Schildkröte und gibt an, wie gross die Zeichenfläche sein soll.\n",
    "Mit der letzten Zeile gibt man den Befehl, dass sich die Schildkröte mit dem Namen `sam`.  \n"
   ]
  },
  {
   "cell_type": "code",
   "execution_count": 1,
   "metadata": {},
   "outputs": [
    {
     "data": {
      "application/vnd.jupyter.widget-view+json": {
       "model_id": "68cb7bfe07fd426db5f88ac0cf7ef53a",
       "version_major": 2,
       "version_minor": 0
      },
      "text/plain": [
       "Turtle()"
      ]
     },
     "metadata": {},
     "output_type": "display_data"
    }
   ],
   "source": [
    "from ipyturtle import *\n",
    "sam = Turtle(width=300, height=300)\n",
    "sam"
   ]
  },
  {
   "cell_type": "markdown",
   "metadata": {},
   "source": [
    "Der Befehl bewirkt nichts von aussen sichtbares. Die Schildkröte mit Namen *sam* ist nun bereit und erwartet unsere Befehle. Die wichtigsten Befehle sind:\n",
    "\n",
    "| Befehl | Parameter | Bedeutung |\n",
    "|  --- | ---     | :---     |\n",
    "| sam.reset() |  - | leert die Zeichnungsfläche |\n",
    "| sam.forward(length) | Schrittlänge | Bewegt die Schildkröte length Schritte vorwärts |\n",
    "| sam.backwards(length) | Schrittlänge | |\n",
    "| sam.right(alpha) | Winkel | Dreht die Schildkröte um alpha Grad nach rechts |\n",
    "| sam.penup() | | Stift anheben, ab jetzt wird nicht mehr gezeichnet.|\n",
    "| sam.pendown()| | Stift senken, ab jetzt wird gezeichnet. |\n",
    "| sam.pencolor(r,g,b) | Stiftfarbe | RGB-Werte |\n",
    "\n",
    "\n",
    ">Natürlich schreiben sie anstelle von sam den Namen ihrer Schildkröte.\n",
    "\n",
    "\n",
    "Beispiele für Farbcodes findet man hier: (https://www.farb-tabelle.de/de/farbtabelle.htm). Für den Farbwert muss man angeben, wie der Bildschirm die Farbe mischen muss. \n",
    "Jeder der Werte r,g und b nimmt einen der Zahlenwerte zwischen 0 und 255 an. Man kann die Werte auch als Hexadezimalwerte 0x00 - 0xFF angeben. "
   ]
  },
  {
   "cell_type": "code",
   "execution_count": 4,
   "metadata": {},
   "outputs": [],
   "source": [
    "sam.reset()\n",
    "sam.pencolor(0xFF, 0x7F, 0x24)\n",
    "sam.forward(100)"
   ]
  },
  {
   "cell_type": "markdown",
   "metadata": {},
   "source": [
    "## Schleifen mit range()\n",
    "\n",
    "Anstelle von der Reihe von Befehlen können wir auch hier längere Befehlslisten abkürzen:\n",
    "\n",
    "~~~python\n",
    "sam.right(90)\n",
    "sam.forward(100)\n",
    "sam.right(90)\n",
    "sam.forward(100)\n",
    "sam.right(90)\n",
    "sam.forward(100)\n",
    "sam.right(90)\n",
    "sam.forward(100)\n",
    "~~~\n",
    "\n",
    "wird zu \n",
    "\n",
    "~~~python\n",
    "for i in range(4):\n",
    "    sam.right(90)\n",
    "    sam.forward(100)\n",
    "~~~"
   ]
  },
  {
   "cell_type": "code",
   "execution_count": 7,
   "metadata": {},
   "outputs": [],
   "source": [
    "sam.right(90)\n",
    "sam.forward(100)\n",
    "sam.right(90)\n",
    "sam.forward(100)\n",
    "sam.right(90)\n",
    "sam.forward(100)\n",
    "sam.right(90)\n",
    "sam.forward(100)"
   ]
  },
  {
   "cell_type": "code",
   "execution_count": 6,
   "metadata": {},
   "outputs": [],
   "source": [
    "sam.reset()\n",
    "for i in range(4):\n",
    "    sam.right(90)\n",
    "    sam.forward(100)"
   ]
  },
  {
   "cell_type": "code",
   "execution_count": 5,
   "metadata": {},
   "outputs": [],
   "source": [
    "sam.reset()\n",
    "def circle():\n",
    "    for i in range(360):\n",
    "        sam.forward(1)\n",
    "        sam.right(1)\n",
    "circle()"
   ]
  },
  {
   "cell_type": "markdown",
   "metadata": {},
   "source": [
    "### Aufgaben\n",
    "\n",
    "1. Schreiben Sie ein Programm welches die folgenden Bilder zeichnet:\n",
    "    * vier Quadrate mit Seitenlängen 100\n",
    "    * Burgzinnen: horizontal\n",
    "1. Zeichnen Sie eine Treppe mit 5 Stufen. Wie viele Zeilen Code haben sie gebraucht?\n",
    "1. Schreiben Sie ein Programm so, dass der Benutzer angibt, wie viele Stufen gezeichnet werden soll."
   ]
  },
  {
   "cell_type": "markdown",
   "metadata": {},
   "source": [
    "## Prozeduren/eigene Befehle"
   ]
  },
  {
   "cell_type": "code",
   "execution_count": 14,
   "metadata": {},
   "outputs": [],
   "source": [
    "sam.reset()\n",
    "square(100)\n",
    "sam.penup()\n",
    "sam.left(90)\n",
    "sam.forward(30)\n",
    "sam.pendown()\n",
    "square(50)"
   ]
  },
  {
   "cell_type": "code",
   "execution_count": 105,
   "metadata": {},
   "outputs": [],
   "source": [
    "t.reset()\n",
    "def circle():\n",
    "    for i in range(360):\n",
    "        t.forward(1)\n",
    "        t.right(1)\n",
    "circle()"
   ]
  },
  {
   "cell_type": "code",
   "execution_count": 108,
   "metadata": {},
   "outputs": [],
   "source": [
    "t.reset()\n",
    "def square(size):\n",
    "    for i in range(4):\n",
    "        t.forward(size)\n",
    "        t.right(90)\n",
    "square(30)"
   ]
  },
  {
   "cell_type": "markdown",
   "metadata": {},
   "source": [
    "> Ein Programmierer sucht in seinem Code Strukturen die sich wiederholen. Diese kann man in einer Schleife zusammenfassen. Auf diese Weise wird der Code kürzer und übersichtlicher.\n",
    "\n",
    "### Aufgaben\n",
    "\n",
    "1. Schreiben Sie eine Methode welche ein gleichseitiges Fünfeck zeichnet mit der Seitenlänge 100 Pixel.\n",
    "2. "
   ]
  },
  {
   "cell_type": "code",
   "execution_count": null,
   "metadata": {},
   "outputs": [],
   "source": []
  },
  {
   "cell_type": "markdown",
   "metadata": {},
   "source": [
    "> Eine Programmiererin versucht Codeabschnitte zu recyclen. Kann man einen Codeabschnitt mehrfach benutzen, so lohnt es sich den Code in eine eigene Prozedur zu verwandeln und im Anwendungsfall aufrufen."
   ]
  },
  {
   "cell_type": "code",
   "execution_count": 9,
   "metadata": {},
   "outputs": [],
   "source": [
    "def quadrat():\n",
    "    for i in range(4):\n",
    "        sam.forward(100)\n",
    "        sam.right(90)    "
   ]
  },
  {
   "cell_type": "markdown",
   "metadata": {},
   "source": [
    "Benutzen von Parametern"
   ]
  },
  {
   "cell_type": "code",
   "execution_count": 15,
   "metadata": {},
   "outputs": [],
   "source": [
    "def square(length):\n",
    "    for i in range(4):\n",
    "        sam.forward(length)\n",
    "        sam.right(90)"
   ]
  },
  {
   "cell_type": "code",
   "execution_count": 16,
   "metadata": {},
   "outputs": [],
   "source": [
    "square(30)"
   ]
  },
  {
   "cell_type": "code",
   "execution_count": 6,
   "metadata": {},
   "outputs": [],
   "source": [
    "t.reset()\n",
    "t.pencolor(0,0,0)\n",
    "t.penup()\n",
    "t.forward(10)\n",
    "t.pendown()\n",
    "t.forward(10)\n",
    "t.hideturtle()\n",
    "t.pencolor(200,0,0)\n",
    "t.forward(10)\n",
    "#t.showturtle()"
   ]
  },
  {
   "cell_type": "markdown",
   "metadata": {},
   "source": [
    "# Methoden mit Parameter\n",
    "Wie sie wahrscheinlich gemerkt haben, wäre es sehr nützlich, wenn man nicht für jede Quadratgrösse eine eigene Prozedur schreiben müsste. Die Klammern hinter dem Namen der Funktion sind dazu da, alle benötig-ten Parameter für die Funktion angeben zu können. Wir müssen nur in die Klammern alle Parameter mit Kommas getrennt auflisten.\n",
    "\n",
    "Benötigte Angaben kann man mit einer Variablen angeben. Man benützt diese Variable wie ein Platzhalter für den eingegebenen Zahlenwert. Wir können mit dieser Variable somit rechnen.\n"
   ]
  },
  {
   "cell_type": "code",
   "execution_count": 17,
   "metadata": {},
   "outputs": [],
   "source": [
    "def square(length):\n",
    "    for i in range(4):\n",
    "        sam.forward(length)\n",
    "        sam.right(90)"
   ]
  },
  {
   "cell_type": "markdown",
   "metadata": {},
   "source": [
    "Sollten wir mehrere Schildkröten im Rennen haben, können wir auch den Namen der Schildkröte angeben. Dies hat den Vorteil, dass man die Prozedur unabhängig der Schildkröte benutzen kann."
   ]
  },
  {
   "cell_type": "code",
   "execution_count": 20,
   "metadata": {},
   "outputs": [],
   "source": [
    "def square(length, t=sam):\n",
    "    for i in range(4):\n",
    "        t.forward(length)\n",
    "        t.right(90)\n",
    "        \n"
   ]
  },
  {
   "cell_type": "markdown",
   "metadata": {},
   "source": [
    "Der obige Code ist aber nur eine Erklärung für die Schildkröte, was sie im Falle der Fälle machen soll. Wir haben ihr aber nicht gesagt, dass sie diese Prozedur ausführen soll.\n",
    "\n",
    "Dies machen wir durch aufrufen des Befehls.\n",
    "\n",
    "~~~ python\n",
    "square(100)\n",
    "~~~ \n",
    "\n",
    "Wir müssen jetzt alle Variablen durch konkrete Werte ersetzen. Dies kann in Form einer Variable geschehen oder mit einem konkreten fixen Zahlenwert. Die Variable muss aber schon mit einem Wert inizialisiert sein."
   ]
  },
  {
   "cell_type": "code",
   "execution_count": 23,
   "metadata": {},
   "outputs": [],
   "source": [
    "sam.reset()\n",
    "for i in [10,20,30,40,50]:\n",
    "    square(i)\n",
    "    sam.right(30)\n"
   ]
  },
  {
   "cell_type": "markdown",
   "metadata": {},
   "source": [
    "### Aufgaben\n",
    "1.\tDie folgenden Programme zeichnen unterschiedlich grosse Kreise:\n",
    "~~~ python\n",
    "#kleiner Kreis\n",
    "for i in range(360):\n",
    "\tforward(1)\n",
    "right(1)\n",
    "\n",
    "#grösserer Kreis\n",
    "for i in range(360):\n",
    "\tforward(15)\n",
    "right(1)\n",
    "~~~\n",
    "Schreibe ein Programm mit einem Parameter, mit dem man beliebig grosse Kreise zeichnen kann, und probiere es für die Parametergrössen 1, 2, 3, 4 und 5 aus. Den Namen des Programms und den Namen des Parameters darfst Du Dir selber aussuchen.\n",
    "2.\tSchreibe ein Programm mit einem Parameter, das ein beliebig grosses, gleichseitiges Dreieck zeichnet. Zeichne dann mit diesem Programm nacheinander Dreiecke der Grösse 20, 40, 60, 80, 100, 120, 140, 160 und 180. Was entsteht dabei?\n",
    "\n",
    "3.\tSchreibe ein Programm welches eine Reihe von Quadraten zeichnet die alle den gleichen Seitenmittel-punkt haben. Man soll die Anzahl der Quadrate angeben können, die Schrittgrösse in welchen die Quadrate grösser werden und natürlich die Größe des ersten Quadrates.\n"
   ]
  },
  {
   "cell_type": "raw",
   "metadata": {},
   "source": [
    "position(self)\n",
    "forward(self, length)\n",
    "back(self, length)\n",
    "heading(self)\n",
    "--goto(self, x, y=None)\n",
    "--setpos(self, x, y=None)\n",
    "--setposition(self, x, y=None)\n",
    "left(self, degree=None)\n",
    "right(self, degree=None)\n",
    "penup(self)\n",
    "pendown(self)\n",
    "isdown(self)\n",
    "hideturtle(self)\n",
    "showturtle(self)\n",
    "isvisible(self)\n",
    "reset(self)\n",
    "pencolor(self,r=-1,g=-1,b=-1)"
   ]
  }
 ],
 "metadata": {
  "kernelspec": {
   "display_name": "Python 3",
   "language": "python",
   "name": "python3"
  },
  "language_info": {
   "codemirror_mode": {
    "name": "ipython",
    "version": 3
   },
   "file_extension": ".py",
   "mimetype": "text/x-python",
   "name": "python",
   "nbconvert_exporter": "python",
   "pygments_lexer": "ipython3",
   "version": "3.7.3"
  }
 },
 "nbformat": 4,
 "nbformat_minor": 4
}
