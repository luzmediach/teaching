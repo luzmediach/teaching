{
 "cells": [
  {
   "cell_type": "markdown",
   "metadata": {},
   "source": [
    "# Daten aus dem Internet laden: 'Wo ist die ISS?'\n",
    "## Vorbereitungen\n",
    "\n",
    "Damit wird Daten aus dem Internet laden können, müssen wir einige Befehls-Bibliotheken. Dies müssen wir zu Beginn des Programmes machen. Zudem brauchen wir eine eigene Prozedur welche die technischen Details erledigen.\n",
    "Die Prozedur `getiss()` fragt die adresse [Link](http://api.open-notify.org/iss-now.json) nach Daten an. Die Antwort `response` muss erst entziffert werden da sie 'nur' eine Reihe von Bits ist. Die gelesenen Daten werden vom Programm zurückgegeben."
   ]
  },
  {
   "cell_type": "code",
   "execution_count": 1,
   "metadata": {},
   "outputs": [],
   "source": [
    "from datetime import datetime\n",
    "from math import radians, degrees, sin, cos, asin, acos, sqrt\n",
    "import time\n",
    "import urllib.request\n",
    "import json\n",
    "\n",
    "def getiss():\n",
    "    response = urllib.request.urlopen('http://api.open-notify.org/iss-now.json')\n",
    "    mydata = response.read()\n",
    "    return(mydata)"
   ]
  },
  {
   "cell_type": "markdown",
   "metadata": {},
   "source": [
    "Die Daten haben diese Form: \n",
    "~~~ json\n",
    "{\"message\": \"success\", \"timestamp\": 1552692781, \"iss_position\": {\"latitude\": \"-16.1479\", \"longitude\": \"131.3330\"}}\n",
    "~~~\n",
    "Diese Art von Datenformat nennt man **JSON**\n",
    "\n",
    "Vergleicht man die Struktur der Daten mit den Datentypen in Python so sieht man, dass dies ein Dictionary ist mit den Keys:\n",
    "- \"message\"\n",
    "- \"timestamp\"\n",
    "- \"iss_position\"\n",
    "\n",
    "Dabei ist der Wert des Schlüssels \"iss_position\" selbst ein Dicionary mit den Keys \"latitude\" und \"longitude\". \n",
    "\n",
    "Wir müssen nur noch die Informationen aus den einzelnen 'Fächern' herauskopieren und in Variabeln speichern. Der Befehl `json.loads()` verwandelt den Text in ein richtiges Dictionary."
   ]
  },
  {
   "cell_type": "code",
   "execution_count": 2,
   "metadata": {},
   "outputs": [
    {
     "name": "stdout",
     "output_type": "stream",
     "text": [
      "ISS Location for 05 Apr 2022 14:39:58 Lat: 46.6390 Long: 9.6612\n",
      "Ausgabe für GoogleMaps 46.6390,9.6612\n"
     ]
    }
   ],
   "source": [
    "iss_data = str(getiss(),'utf-8')\n",
    "pos = json.loads(iss_data)\n",
    "lat = pos['iss_position']['latitude']\n",
    "lon = pos['iss_position']['longitude']\n",
    "when = datetime.now()\n",
    "print(f'ISS Location for {when.strftime(\"%d %b %Y %H:%M:%S\")} Lat: {lat} Long: {lon}')\n",
    "print(f'Ausgabe für GoogleMaps {lat},{lon}')"
   ]
  },
  {
   "cell_type": "markdown",
   "metadata": {},
   "source": [
    "\n",
    "\n",
    "[Websites mit öffentlichen API's](https://github.com/public-apis/public-apis)  \n",
    "\n",
    "https://github.com/public-apis/public-apis\n",
    "\n",
    "\n",
    "## Die Bibliothek iss\n",
    "\n",
    "Die Datei `iss.py` enthält zwei kurze Programme. "
   ]
  },
  {
   "cell_type": "code",
   "execution_count": 3,
   "metadata": {},
   "outputs": [
    {
     "name": "stdout",
     "output_type": "stream",
     "text": [
      "Help on function iss_location in module iss:\n",
      "\n",
      "iss_location()\n",
      "    call opennotify api\n",
      "    returns list of [lat, lon time]\n",
      "\n",
      "Help on function great_circle in module iss:\n",
      "\n",
      "great_circle(coord1, coord2, height=0)\n",
      "    coord = [lat, lon]\n",
      "    height = height above 0 in km , default=0\n",
      "    returns distance in km\n",
      "\n"
     ]
    }
   ],
   "source": [
    "from iss import iss_location, great_circle\n",
    "help(iss_location)\n",
    "help(great_circle)"
   ]
  },
  {
   "cell_type": "markdown",
   "metadata": {},
   "source": [
    "Die Funktion `iss_location()` liefert wie das Programm oben die Koordinaten der ISS und den Zeitstempel in [Unix-Timestamp-Format](https://www.unixtimestamp.com/) was nur bedeutet, dass es dir Sekunden seit dem 1.1.1970 zählt. Die Funktion braucht keine Parameter."
   ]
  },
  {
   "cell_type": "code",
   "execution_count": null,
   "metadata": {},
   "outputs": [],
   "source": [
    "iss_location()"
   ]
  },
  {
   "cell_type": "markdown",
   "metadata": {},
   "source": [
    "Die Funktion `great_circle(coord1, coord1, height)` gibt den Abstand zwischen zwei Punkten auf der Erdkugel an. Man braucht als Eingabe die Koordinaten der beiden Punkte als Liste und, falls es nicht auf Meereshöhe ist, die Höhe über dem Meeresspiegel."
   ]
  },
  {
   "cell_type": "code",
   "execution_count": null,
   "metadata": {},
   "outputs": [],
   "source": [
    "# Distanz zwischen der Kantonsschule Enge und dem BigBen in London\n",
    "great_circle([47.364750, 8.527544], [2.2198, -141.7479])"
   ]
  },
  {
   "cell_type": "markdown",
   "metadata": {},
   "source": [
    "### Aufgabe\n",
    "\n",
    "1. **Ort** Benutzen Sie das Programm `iss_location()` um die aktuellen Koordinaten der ISS zu bestimmen. Schlagen sie mit [Google-Maps](https://www.google.ch/maps/) nach, wo die ISS im Moment ist.  Kopieren Sie dazu die ausgegebenen Koordinaten in das Suchfenster von Google-Maps. Wahrscheinlich müssen sie rauszoomen damit sie sehen, wo sie gerade sind.\n",
    "1. **Geschwindigkeit der ISS** Benutzen Sie die Funktion unten um die Geschwindigkeit der ISS zu bestimmen. Sie brauchen zwei verschiedene Positionen der ISS zu verschiedenen Zeitpunkten. Die Flughöhe der ISS beträgt rund 400km.\n",
    "$$ v = \\frac{\\Delta s}{\\Delta t}$$"
   ]
  },
  {
   "cell_type": "code",
   "execution_count": null,
   "metadata": {},
   "outputs": [],
   "source": []
  },
  {
   "cell_type": "code",
   "execution_count": null,
   "metadata": {},
   "outputs": [],
   "source": []
  },
  {
   "cell_type": "code",
   "execution_count": null,
   "metadata": {},
   "outputs": [],
   "source": []
  }
 ],
 "metadata": {
  "kernelspec": {
   "display_name": "Python 3",
   "language": "python",
   "name": "python3"
  },
  "language_info": {
   "codemirror_mode": {
    "name": "ipython",
    "version": 3
   },
   "file_extension": ".py",
   "mimetype": "text/x-python",
   "name": "python",
   "nbconvert_exporter": "python",
   "pygments_lexer": "ipython3",
   "version": "3.7.3"
  }
 },
 "nbformat": 4,
 "nbformat_minor": 2
}
