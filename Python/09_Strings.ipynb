{
 "cells": [
  {
   "cell_type": "markdown",
   "metadata": {},
   "source": [
    "# Strings\n",
    "## Arbeiten mit Strings\n",
    "Sehr viele Daten werden in Python als Zeichenketten, Strings, gespeichert. Wie wir das letzte Mal gesehen haben, wird jeder Eingabe als String gespeichert. \n",
    "### Der String im Arbeitsspeicher\n",
    "Eine Zeichenkette wird, wie alle Daten, im Speicher gesichert. Anders aber als eine Zahl oder ein Wahrheitswert braucht ein String viel Speicherplatz. In den meisten Programmiersprachen muss ein Speicherbereich freigegeben werden. Dann merkt sich der Computer die Adresse des String-anfangs. Der String ist so lang, bis im Speicher das Zeichen \\0 (NULL) erscheint.\n",
    "\n",
    "![Strings im Arbeitsspeicher](https://i.imgur.com/zDIlpVy.png)\n",
    "\n",
    "Im Arbeitsspeicher wird aber alles gespeichert was der Computer zum Arbeiten braucht. Viele Speicherblöcke sind schon von anderen Programmen/Variablen besetzt. Aus diesem Grund muss der Computer mit dem Platz im Arbeitsspeicher etwas haushalten. Strings zu ändern ist etwas mühsam da immer ganze Speicherblöcke freigegeben werden müssen.\n",
    "     \n",
    "## Methoden für Strings\n",
    "Mit den folgenden Methoden kann man den String manipulieren. Wichtig dabei ist, dass der String selbst nicht verändert wird, sondern ein neuer String erzeugt wird mit den gewünschten Veränderungen.\n",
    "\n",
    "| Methode | Bedeutung |\n",
    "| ------- | ---------- |\n",
    "| `str.lower()` | Wandelt alle Zeichen in str in Kleinbuchstaben um. |\n",
    "| `str.upper()` | Wandelt alle Zeichen in str in Grossbuchstaben um. |\n",
    "| `len(str)` | Gibt die Anzahl Zeichen in diesem Text aus.|\n",
    "| `str.replace(old,new) `| Ersetzt den alten Teilstring old durch den Neuen new |\n",
    "| `str.split() `| Teilt den String str in mehrere Teile und macht daraus eine Liste |\n",
    "| `str.find(s, index)` | Gibt an, an welcher Stelle der Teilstring s zu finden ist. Gesucht wird ab dem vorgegebenen Index. |\n",
    "\n",
    "Das Ergebnis einer solchen Methode ist immer der manipulierte Text. Der ursprüngliche Text wird nicht verändert. \n",
    "\n",
    "\n",
    "Strings in Python haben viele eingebaute *Methoden*, mit denen sie manipuliert werden können. Lassen Sie uns einige gängige String-Methoden ausprobieren.\n",
    "\n",
    "> **Methoden**: Methoden sind Funktionen, die mit Datentypen verbunden sind und auf die mit der Notation `.` zugegriffen wird, z.B. `Variablenname.methode()` oder `\"ein String\".methode()`. Methoden sind eine leistungsfähige Technik, um allgemeine Operationen mit Werten bestimmter Datentypen zu verknüpfen.\n",
    "\n",
    "Die Methoden `.lower()`, `.upper()` und `.capitalize()` werden verwendet, um die Groß- und Kleinschreibung der Zeichen zu ändern."
   ]
  },
  {
   "cell_type": "code",
   "execution_count": null,
   "metadata": {
    "scrolled": true
   },
   "outputs": [],
   "source": [
    "text = \"Dies ist ein einfacher Text!\"\n",
    "text = text.lower()\n",
    "print(text)\n",
    "print(len(text))"
   ]
  },
  {
   "cell_type": "code",
   "execution_count": null,
   "metadata": {},
   "outputs": [],
   "source": [
    "today.lower()"
   ]
  },
  {
   "cell_type": "code",
   "execution_count": null,
   "metadata": {},
   "outputs": [],
   "source": [
    "\"saturday\".upper()"
   ]
  },
  {
   "cell_type": "code",
   "execution_count": null,
   "metadata": {},
   "outputs": [],
   "source": [
    "\"monday\".capitalize() # changes first character to uppercase"
   ]
  },
  {
   "cell_type": "markdown",
   "metadata": {},
   "source": [
    "Sie können auf einzelne Zeichen innerhalb einer Zeichenkette zugreifen, indem Sie die Indizierungsschreibweise `[]` verwenden. Beachten Sie, dass die Zeichenindizes von `0` bis `n-1` reichen, wobei `n` die Länge der Zeichenkette ist."
   ]
  },
  {
   "cell_type": "code",
   "execution_count": null,
   "metadata": {},
   "outputs": [],
   "source": [
    "today = \"Saturday\""
   ]
  },
  {
   "cell_type": "code",
   "execution_count": null,
   "metadata": {},
   "outputs": [],
   "source": [
    "today[0]"
   ]
  },
  {
   "cell_type": "code",
   "execution_count": null,
   "metadata": {},
   "outputs": [],
   "source": [
    "today[3]"
   ]
  },
  {
   "cell_type": "code",
   "execution_count": null,
   "metadata": {},
   "outputs": [],
   "source": [
    "today[7]"
   ]
  },
  {
   "cell_type": "markdown",
   "metadata": {},
   "source": [
    "Sie können auf einen Teil einer Zeichenkette zugreifen, indem Sie einen `Start:Ende`-Bereich anstelle eines einzelnen Index in `[]` angeben."
   ]
  },
  {
   "cell_type": "code",
   "execution_count": null,
   "metadata": {},
   "outputs": [],
   "source": [
    "today[5:8]"
   ]
  },
  {
   "cell_type": "markdown",
   "metadata": {},
   "source": [
    "Sie können auch mit dem Operator `in` prüfen, ob eine Zeichenkette einen bestimmten Text enthält. "
   ]
  },
  {
   "cell_type": "code",
   "execution_count": null,
   "metadata": {},
   "outputs": [],
   "source": [
    "'day' in today"
   ]
  },
  {
   "cell_type": "code",
   "execution_count": null,
   "metadata": {},
   "outputs": [],
   "source": [
    "'Sun' in today"
   ]
  },
  {
   "cell_type": "markdown",
   "metadata": {},
   "source": [
    "## String Slicing\n",
    "Man kann auch einzelne Zeichen aus einem String auslesen. Die Zeichen einer Zeichenkette sind nummeriert. Das erste Zeichen hat die Nummer 0. Schreibt man in eckigen Klammern eine Zahl, so wird das entsprechende Zeichen ausgegeben. Stehen zwei Zahlen, so werden alle Zeichen zwischen diesen Nummern ausgegeben.\n",
    "\n",
    "![Slicing](https://i.imgur.com/syex1ye.png)\n",
    "\n",
    "~~~ python \n",
    "txt = \"Hallo Welt!\"\n",
    "txt = txt[1:5]\n",
    "# txt ist jetzt 'allo'\n",
    "~~~ \n",
    "oder\n",
    "~~~ python\n",
    "print(txt[0:5])\n",
    "'Hallo'\n",
    "~~~ \n",
    "Gibt man bei einem Text die Anweisung variable[::-1] an, so wird der Text rückwärts ausgegeben."
   ]
  },
  {
   "cell_type": "code",
   "execution_count": null,
   "metadata": {},
   "outputs": [],
   "source": [
    "text = \"Hier steht ein Text!\"\n",
    "print(text[::-1])"
   ]
  },
  {
   "cell_type": "markdown",
   "metadata": {},
   "source": [
    "### Aufgaben\n",
    "1. **Nielk** Das Programm nimmt einen Text entgegen und gibt ihn mit Kleinbuchstaben, rückwärts wieder aus.\n",
    "2. **Benutzername** Schreiben Sie ein Programm, welches nach dem Benutzernamen fragt und kontrolliert ob der Benutzername einem von Ihnen vorgegebenen Text entspricht. Die Gross- oder Kleinschreibung darf keine Rolle spielen.\n",
    "3. **Umlaute** Schreiben Sie ein Programm, welches einen Text entgegennimmt und ihn ohne Umlaute wieder zurückgibt. Schreiben Sie eine Prozedur, welche dies bewerkstelligt.\n",
    "4. **Markieren** Erstellen Sie eine Funktion welche zwei Zeichenketten entgegennimmt. Die erste Zeichenkette hat die Form \"<<>>\" oder \"-><-\". Die zweite Zeichenkette soll zwischen die Zeichen der ersten Zeichenkette geklemmt werden. `markieren(\"<<>>\", \"hallo\")` liefert `<<hallo>>` zurück. \n",
    "4. **Ubbi Dubbi** In Ubbi Dubbi wird jedem Vokal (a, e, i, o oder u) ein ub vorangestellt. So wird Milch zu mubilch (m-ub-ilch) und Programm zu prubogrubam (prub-ogrub-am). Schreiben Sie ein Programm in welchem der Benutzer ein Wort eingeben kann und das Wort in Ubbi Dubbi ausgegeben wird.\n",
    "[Wikipedia Ubbi Dubbi](https://en.wikipedia.org/wiki/Ubbi_dubbi)"
   ]
  },
  {
   "cell_type": "code",
   "execution_count": null,
   "metadata": {},
   "outputs": [],
   "source": [
    "# Aufgabe 1\n"
   ]
  },
  {
   "cell_type": "code",
   "execution_count": null,
   "metadata": {},
   "outputs": [],
   "source": [
    "# Aufgabe 2\n"
   ]
  },
  {
   "cell_type": "code",
   "execution_count": null,
   "metadata": {},
   "outputs": [],
   "source": [
    "# Aufgabe 3\n"
   ]
  },
  {
   "cell_type": "code",
   "execution_count": null,
   "metadata": {},
   "outputs": [],
   "source": []
  }
 ],
 "metadata": {
  "kernelspec": {
   "display_name": "Python 3",
   "language": "python",
   "name": "python3"
  },
  "language_info": {
   "codemirror_mode": {
    "name": "ipython",
    "version": 3
   },
   "file_extension": ".py",
   "mimetype": "text/x-python",
   "name": "python",
   "nbconvert_exporter": "python",
   "pygments_lexer": "ipython3",
   "version": "3.7.3"
  }
 },
 "nbformat": 4,
 "nbformat_minor": 2
}
