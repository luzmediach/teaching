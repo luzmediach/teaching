{
 "cells": [
  {
   "cell_type": "markdown",
   "metadata": {},
   "source": [
    "# Eine kurze Einführung über Datentypen in Python\n",
    "\n",
    "<img src=\"https://i.imgur.com/FqtUbJd.png\" width=800 />\n"
   ]
  },
  {
   "cell_type": "markdown",
   "metadata": {},
   "source": [
    "Dieses Tutorial behandelt die folgenden Themen:\n",
    "\n",
    "- Speichern von Informationen mit Variablen\n",
    "- Primitive Datentypen in Python: Integer, Float, Boolean, None und String\n",
    "- Eingebaute Datenstrukturen in Python: Liste, Tupel und Wörterbuch\n",
    "- Von eingebauten Datentypen unterstützte Methoden und Operatoren"
   ]
  },
  {
   "cell_type": "markdown",
   "metadata": {},
   "source": [
    "## Speichern von Informationen mit Hilfe von Variablen\n",
    "\n",
    "Computer sind für zwei Zwecke nützlich: zum Speichern von Informationen (auch Daten genannt) und zum Ausführen von Operationen mit gespeicherten Daten. Wenn Sie mit einer Programmiersprache wie Python arbeiten, werden Daten in Variablen gespeichert. Man kann sich Variablen als Behälter zum Speichern von Daten vorstellen. Die Daten, die in einer Variablen gespeichert sind, werden als ihr Wert bezeichnet. Das Erstellen von Variablen in Python ist ziemlich einfach, wie wir bereits im [vorherigen Lernprogramm](https://jovian.ml/aakashns/first-steps-with-python/v/4#C15) gesehen haben.\n",
    "\n"
   ]
  },
  {
   "cell_type": "code",
   "execution_count": 7,
   "metadata": {},
   "outputs": [],
   "source": [
    "meine_lieblingsfarbe = \"grün\""
   ]
  },
  {
   "cell_type": "code",
   "execution_count": 2,
   "metadata": {},
   "outputs": [],
   "source": [
    "meine_lieblingsfarbe = \"grün\""
   ]
  },
  {
   "cell_type": "code",
   "execution_count": 8,
   "metadata": {},
   "outputs": [
    {
     "data": {
      "text/plain": [
       "'grün'"
      ]
     },
     "execution_count": 8,
     "metadata": {},
     "output_type": "execute_result"
    }
   ],
   "source": [
    "meine_lieblingsfarbe"
   ]
  },
  {
   "cell_type": "markdown",
   "metadata": {},
   "source": [
    "Eine Variable wird mit einer Zuweisungsanweisung erstellt. Sie beginnt mit dem Variablennamen, gefolgt von dem Zuweisungsoperator `=` und dem Wert, der in der Variablen gespeichert werden soll.  Beachten Sie, dass der Zuweisungsoperator `=` sich von dem Gleichheitsvergleichsoperator `==` unterscheidet.\n",
    "\n",
    "Sie können auch mehreren Variablen in einer einzigen Anweisung Werte zuweisen, indem Sie die Variablennamen und -werte mit Kommas trennen."
   ]
  },
  {
   "cell_type": "code",
   "execution_count": 3,
   "metadata": {},
   "outputs": [],
   "source": [
    "color1, color2, color3 = \"rot\", \"grün\", \"blau\""
   ]
  },
  {
   "cell_type": "code",
   "execution_count": 4,
   "metadata": {},
   "outputs": [
    {
     "data": {
      "text/plain": [
       "'rot'"
      ]
     },
     "execution_count": 4,
     "metadata": {},
     "output_type": "execute_result"
    }
   ],
   "source": [
    "color1"
   ]
  },
  {
   "cell_type": "code",
   "execution_count": 5,
   "metadata": {},
   "outputs": [
    {
     "data": {
      "text/plain": [
       "'grün'"
      ]
     },
     "execution_count": 5,
     "metadata": {},
     "output_type": "execute_result"
    }
   ],
   "source": [
    "color2"
   ]
  },
  {
   "cell_type": "code",
   "execution_count": 6,
   "metadata": {},
   "outputs": [
    {
     "data": {
      "text/plain": [
       "'blau'"
      ]
     },
     "execution_count": 6,
     "metadata": {},
     "output_type": "execute_result"
    }
   ],
   "source": [
    "color3"
   ]
  },
  {
   "cell_type": "markdown",
   "metadata": {},
   "source": [
    "Sie können mehreren Variablen denselben Wert zuweisen, indem Sie mehrere Zuweisungsoperationen innerhalb einer einzigen Anweisung verketten."
   ]
  },
  {
   "cell_type": "code",
   "execution_count": 9,
   "metadata": {},
   "outputs": [],
   "source": [
    "color4 = color5 = color6 = \"magenta\""
   ]
  },
  {
   "cell_type": "code",
   "execution_count": 10,
   "metadata": {},
   "outputs": [
    {
     "data": {
      "text/plain": [
       "'magenta'"
      ]
     },
     "execution_count": 10,
     "metadata": {},
     "output_type": "execute_result"
    }
   ],
   "source": [
    "color4"
   ]
  },
  {
   "cell_type": "code",
   "execution_count": 11,
   "metadata": {},
   "outputs": [
    {
     "data": {
      "text/plain": [
       "'magenta'"
      ]
     },
     "execution_count": 11,
     "metadata": {},
     "output_type": "execute_result"
    }
   ],
   "source": [
    "color5"
   ]
  },
  {
   "cell_type": "code",
   "execution_count": 12,
   "metadata": {},
   "outputs": [
    {
     "data": {
      "text/plain": [
       "'magenta'"
      ]
     },
     "execution_count": 12,
     "metadata": {},
     "output_type": "execute_result"
    }
   ],
   "source": [
    "color6"
   ]
  },
  {
   "cell_type": "markdown",
   "metadata": {},
   "source": [
    "Sie können den in einer Variablen gespeicherten Wert ändern, indem Sie ihr mit einer anderen Zuweisungsanweisung einen neuen Wert zuweisen. Seien Sie bei der Neuzuweisung von Variablen vorsichtig: Wenn Sie der Variablen einen neuen Wert zuweisen, geht der alte Wert verloren und ist nicht mehr zugänglich."
   ]
  },
  {
   "cell_type": "code",
   "execution_count": 13,
   "metadata": {},
   "outputs": [],
   "source": [
    "lieblingsfarbe = \"grün\""
   ]
  },
  {
   "cell_type": "code",
   "execution_count": 14,
   "metadata": {},
   "outputs": [
    {
     "data": {
      "text/plain": [
       "'grün'"
      ]
     },
     "execution_count": 14,
     "metadata": {},
     "output_type": "execute_result"
    }
   ],
   "source": [
    "lieblingsfarbe"
   ]
  },
  {
   "cell_type": "markdown",
   "metadata": {},
   "source": [
    "Wenn Sie eine Variable neu zuweisen, können Sie auch den vorherigen Wert der Variable verwenden, um den neuen Wert zu berechnen."
   ]
  },
  {
   "cell_type": "code",
   "execution_count": 15,
   "metadata": {},
   "outputs": [],
   "source": [
    "zaehler = 10"
   ]
  },
  {
   "cell_type": "code",
   "execution_count": 16,
   "metadata": {},
   "outputs": [],
   "source": [
    "zaehler = zaehler + 1"
   ]
  },
  {
   "cell_type": "code",
   "execution_count": 17,
   "metadata": {},
   "outputs": [
    {
     "data": {
      "text/plain": [
       "11"
      ]
     },
     "execution_count": 17,
     "metadata": {},
     "output_type": "execute_result"
    }
   ],
   "source": [
    "zaehler"
   ]
  },
  {
   "cell_type": "markdown",
   "metadata": {},
   "source": [
    "Das Muster `var = var op irgendwas` (wobei `op` ein arithmetischer Operator wie `+`, `-`, `*`, `/` ist) ist sehr gebräuchlich, daher bietet Python eine *Kurzschrift* dafür."
   ]
  },
  {
   "cell_type": "code",
   "execution_count": null,
   "metadata": {},
   "outputs": [],
   "source": [
    "zaehler = 10"
   ]
  },
  {
   "cell_type": "code",
   "execution_count": null,
   "metadata": {},
   "outputs": [],
   "source": [
    "# das gleiche wie `zaehler = zaehler + 4`\n",
    "zaehler += 4"
   ]
  },
  {
   "cell_type": "code",
   "execution_count": null,
   "metadata": {},
   "outputs": [],
   "source": [
    "zaehler"
   ]
  },
  {
   "cell_type": "markdown",
   "metadata": {},
   "source": [
    "### gültige Variablennamen\n",
    "\n",
    "Variablennamen können kurz (`a`, `x`, `y`, usw.) oder beschreibend sein ( `my_favorite_color`, `profit_margin`, `the_3_musketeers`, usw.). Bei der Benennung von Python-Variablen müssen Sie jedoch die folgenden Regeln beachten:\n",
    "\n",
    "* Der Name einer Variablen muss mit einem Buchstaben oder dem Unterstrich `_` beginnen. Er darf nicht mit einer Zahl beginnen.\n",
    "* Ein Variablenname darf nur Klein- oder Großbuchstaben, Ziffern oder Unterstriche enthalten (`a`-`z`, `A`-`Z`, `0`-`9` und `_`).\n",
    "* Bei Variablennamen wird zwischen Groß- und Kleinschreibung unterschieden, d.h. `a_variable`, `A_Variable` und `A_VARIABLE` sind alle unterschiedliche Variablen.\n",
    "\n",
    "Hier sind einige gültige Variablennamen:"
   ]
  },
  {
   "cell_type": "code",
   "execution_count": null,
   "metadata": {},
   "outputs": [],
   "source": [
    "a_variable = 23\n",
    "is_today_Saturday = False\n",
    "my_favorite_car = \"Delorean\"\n",
    "the_3_musketeers = [\"Athos\", \"Porthos\", \"Aramis\"] "
   ]
  },
  {
   "cell_type": "markdown",
   "metadata": {},
   "source": [
    "Lassen Sie uns versuchen, einige Variablen mit ungültigen Namen zu erstellen. Python gibt einen Syntaxfehler aus, wenn der Name Ihrer Variablen ungültig ist.\n",
    "\n",
    "> **Syntax**: Die Syntax einer Programmiersprache bezieht sich auf die Regeln, die die Struktur einer gültigen Anweisung oder *Anweisung* bestimmen. Wenn eine Anweisung diesen Regeln nicht folgt, hält Python die Ausführung an und informiert Sie über einen *Syntaxfehler*. Sie können sich die Syntax als die Regeln der Grammatik einer Programmiersprache vorstellen."
   ]
  },
  {
   "cell_type": "code",
   "execution_count": null,
   "metadata": {},
   "outputs": [],
   "source": [
    "a variable = 23"
   ]
  },
  {
   "cell_type": "code",
   "execution_count": null,
   "metadata": {},
   "outputs": [],
   "source": [
    "is_today_$aturday = False"
   ]
  },
  {
   "cell_type": "code",
   "execution_count": null,
   "metadata": {},
   "outputs": [],
   "source": [
    "my-favorite-car = \"Delorean\""
   ]
  },
  {
   "cell_type": "code",
   "execution_count": null,
   "metadata": {},
   "outputs": [],
   "source": [
    "3_musketeers = [\"Athos\", \"Porthos\", \"Aramis\"]"
   ]
  },
  {
   "cell_type": "markdown",
   "metadata": {},
   "source": [
    "## Eingebaute Datentypen in Python\n",
    "\n",
    "Alle Daten oder Informationen, die in einer Python-Variablen gespeichert sind, haben einen *Typ*. Sie können den Typ der in einer Variablen gespeicherten Daten mit der Funktion `type` anzeigen."
   ]
  },
  {
   "cell_type": "code",
   "execution_count": null,
   "metadata": {},
   "outputs": [],
   "source": [
    "a_variable"
   ]
  },
  {
   "cell_type": "code",
   "execution_count": null,
   "metadata": {},
   "outputs": [],
   "source": [
    "type(a_variable)"
   ]
  },
  {
   "cell_type": "code",
   "execution_count": null,
   "metadata": {},
   "outputs": [],
   "source": [
    "is_today_Saturday"
   ]
  },
  {
   "cell_type": "code",
   "execution_count": null,
   "metadata": {},
   "outputs": [],
   "source": [
    "type(is_today_Saturday)"
   ]
  },
  {
   "cell_type": "code",
   "execution_count": null,
   "metadata": {},
   "outputs": [],
   "source": [
    "my_favorite_car"
   ]
  },
  {
   "cell_type": "code",
   "execution_count": null,
   "metadata": {},
   "outputs": [],
   "source": [
    "type(my_favorite_car)"
   ]
  },
  {
   "cell_type": "code",
   "execution_count": null,
   "metadata": {},
   "outputs": [],
   "source": [
    "the_3_musketeers"
   ]
  },
  {
   "cell_type": "code",
   "execution_count": null,
   "metadata": {},
   "outputs": [],
   "source": [
    "type(the_3_musketeers)"
   ]
  },
  {
   "cell_type": "markdown",
   "metadata": {},
   "source": [
    "Python hat mehrere eingebaute Datentypen, um verschiedene Arten von Informationen in Variablen zu speichern. Im Folgenden sind einige häufig verwendete Datentypen aufgeführt:\n",
    "\n",
    "1. integer (Ganzzahl)\n",
    "2. float (Fließkomma)\n",
    "3. boolean (Boolescher Wert)\n",
    "4. None (Kein Wert)\n",
    "5. String (Zeichenfolge)\n",
    "6. Liste\n",
    "7. Tupel\n",
    "8. Dictionary (Wörterbuch)\n",
    "\n",
    "Integer, Float, Boolean, None und String sind *primitive Datentypen*, weil sie einen einzigen Wert darstellen. Andere Datentypen wie Liste, Tupel und Wörterbuch werden oft als *Datenstrukturen* oder *Container* bezeichnet, weil sie mehrere Daten zusammenhalten. Container betrachten wir hier nur kurz. Wir werden später diese genauer untersuchen."
   ]
  },
  {
   "cell_type": "markdown",
   "metadata": {},
   "source": [
    "### Integer\n",
    "\n",
    "Ganzzahlen stehen für positive oder negative ganze Zahlen, von negativ unendlich bis unendlich. Beachten Sie, dass Ganzzahlen keine Dezimalpunkte enthalten sollten. Ganzzahlen haben den Typ `int`."
   ]
  },
  {
   "cell_type": "code",
   "execution_count": null,
   "metadata": {},
   "outputs": [],
   "source": [
    "current_year = 2020"
   ]
  },
  {
   "cell_type": "code",
   "execution_count": null,
   "metadata": {},
   "outputs": [],
   "source": [
    "current_year"
   ]
  },
  {
   "cell_type": "code",
   "execution_count": null,
   "metadata": {},
   "outputs": [],
   "source": [
    "type(current_year)"
   ]
  },
  {
   "cell_type": "markdown",
   "metadata": {},
   "source": [
    "Im Gegensatz zu einigen anderen Programmiersprachen können ganze Zahlen in Python beliebig groß (oder klein) sein. Es gibt keinen niedrigsten oder höchsten Wert für Ganzzahlen, und es gibt nur einen `int`-Typ (im Gegensatz zu `short`, `int`, `long`, `long long`, `unsigned int`, etc. in C/C++/Java)."
   ]
  },
  {
   "cell_type": "code",
   "execution_count": 4,
   "metadata": {},
   "outputs": [],
   "source": [
    "a_large_negative_number = -23374038374832934334234317348343"
   ]
  },
  {
   "cell_type": "code",
   "execution_count": 5,
   "metadata": {},
   "outputs": [
    {
     "data": {
      "text/plain": [
       "-23374038374832934334234317348343"
      ]
     },
     "execution_count": 5,
     "metadata": {},
     "output_type": "execute_result"
    }
   ],
   "source": [
    "a_large_negative_number"
   ]
  },
  {
   "cell_type": "code",
   "execution_count": 6,
   "metadata": {},
   "outputs": [
    {
     "data": {
      "text/plain": [
       "int"
      ]
     },
     "execution_count": 6,
     "metadata": {},
     "output_type": "execute_result"
    }
   ],
   "source": [
    "type(a_large_negative_number)"
   ]
  },
  {
   "cell_type": "markdown",
   "metadata": {},
   "source": [
    "### Fließkommazahl\n",
    "\n",
    "Fließkommazahlen (oder Gleitkommazahlen) sind Zahlen mit einem Dezimalpunkt. Es gibt keine Grenzen für den Wert oder die Anzahl der Stellen vor oder nach dem Dezimalpunkt. Fließkommazahlen haben den Typ `Float`."
   ]
  },
  {
   "cell_type": "code",
   "execution_count": 7,
   "metadata": {},
   "outputs": [],
   "source": [
    "pi = 3.141592653589793238"
   ]
  },
  {
   "cell_type": "code",
   "execution_count": 8,
   "metadata": {},
   "outputs": [
    {
     "data": {
      "text/plain": [
       "3.141592653589793"
      ]
     },
     "execution_count": 8,
     "metadata": {},
     "output_type": "execute_result"
    }
   ],
   "source": [
    "pi"
   ]
  },
  {
   "cell_type": "code",
   "execution_count": 9,
   "metadata": {
    "scrolled": true
   },
   "outputs": [
    {
     "data": {
      "text/plain": [
       "float"
      ]
     },
     "execution_count": 9,
     "metadata": {},
     "output_type": "execute_result"
    }
   ],
   "source": [
    "type(pi)"
   ]
  },
  {
   "cell_type": "code",
   "execution_count": 11,
   "metadata": {},
   "outputs": [
    {
     "name": "stdout",
     "output_type": "stream",
     "text": [
      "1 <class 'int'>\n",
      "1.5 <class 'float'>\n",
      "2.0 <class 'float'>\n",
      "2.5 <class 'float'>\n",
      "3.0 <class 'float'>\n",
      "3.5 <class 'float'>\n",
      "4.0 <class 'float'>\n",
      "4.5 <class 'float'>\n"
     ]
    }
   ],
   "source": [
    "k = 1\n",
    "for i in range(8):\n",
    "    print(k, type(k))\n",
    "    k+=0.5"
   ]
  },
  {
   "cell_type": "markdown",
   "metadata": {},
   "source": [
    "Beachten Sie, dass eine ganze Zahl als Fließkommazahl behandelt wird, wenn sie mit einem Dezimalpunkt geschrieben wird, auch wenn der Dezimalteil der Zahl Null ist."
   ]
  },
  {
   "cell_type": "code",
   "execution_count": null,
   "metadata": {},
   "outputs": [],
   "source": [
    "a_number = 3.0"
   ]
  },
  {
   "cell_type": "code",
   "execution_count": null,
   "metadata": {},
   "outputs": [],
   "source": [
    "a_number"
   ]
  },
  {
   "cell_type": "code",
   "execution_count": null,
   "metadata": {},
   "outputs": [],
   "source": [
    "type(a_number)"
   ]
  },
  {
   "cell_type": "code",
   "execution_count": null,
   "metadata": {},
   "outputs": [],
   "source": [
    "another_number = 4."
   ]
  },
  {
   "cell_type": "code",
   "execution_count": null,
   "metadata": {},
   "outputs": [],
   "source": [
    "another_number"
   ]
  },
  {
   "cell_type": "code",
   "execution_count": null,
   "metadata": {},
   "outputs": [],
   "source": [
    "type(another_number)"
   ]
  },
  {
   "cell_type": "markdown",
   "metadata": {},
   "source": [
    "Fließkommazahlen können auch in wissenschaftlicher Notation geschrieben werden, wobei ein \"e\" die Potenz von 10 angibt."
   ]
  },
  {
   "cell_type": "code",
   "execution_count": null,
   "metadata": {},
   "outputs": [],
   "source": [
    "one_hundredth = 1e-2"
   ]
  },
  {
   "cell_type": "code",
   "execution_count": null,
   "metadata": {},
   "outputs": [],
   "source": [
    "one_hundredth"
   ]
  },
  {
   "cell_type": "code",
   "execution_count": null,
   "metadata": {},
   "outputs": [],
   "source": [
    "type(one_hundredth)"
   ]
  },
  {
   "cell_type": "code",
   "execution_count": null,
   "metadata": {},
   "outputs": [],
   "source": [
    "avogadro_number = 6.02214076e23"
   ]
  },
  {
   "cell_type": "code",
   "execution_count": null,
   "metadata": {},
   "outputs": [],
   "source": [
    "avogadro_number"
   ]
  },
  {
   "cell_type": "code",
   "execution_count": null,
   "metadata": {},
   "outputs": [],
   "source": [
    "type(avogadro_number)"
   ]
  },
  {
   "cell_type": "markdown",
   "metadata": {},
   "source": [
    "Mit den Funktionen `float` und `int` können Sie Fließkommazahlen in Ganzzahlen umwandeln und umgekehrt. Der Vorgang der Umwandlung eines Wertes in einen anderen Typ wird als *Casting* bezeichnet."
   ]
  },
  {
   "cell_type": "code",
   "execution_count": null,
   "metadata": {},
   "outputs": [],
   "source": [
    "float(current_year)"
   ]
  },
  {
   "cell_type": "code",
   "execution_count": null,
   "metadata": {},
   "outputs": [],
   "source": [
    "float(a_large_negative_number)"
   ]
  },
  {
   "cell_type": "code",
   "execution_count": null,
   "metadata": {},
   "outputs": [],
   "source": [
    "int(pi)"
   ]
  },
  {
   "cell_type": "code",
   "execution_count": null,
   "metadata": {},
   "outputs": [],
   "source": [
    "int(avogadro_number)"
   ]
  },
  {
   "cell_type": "markdown",
   "metadata": {},
   "source": [
    "Bei der Durchführung arithmetischer Operationen werden Ganzzahlen automatisch in Fließkommazahlen umgewandelt, wenn einer der Operanden eine Fließkommazahl ist. Auch der Divisionsoperator `/` gibt immer eine \"Fließkommazahl\" zurück, selbst wenn beide Operanden Ganzzahlen sind. Verwenden Sie den `//`-Operator, wenn das Ergebnis der Division eine `Inte` sein soll."
   ]
  },
  {
   "cell_type": "code",
   "execution_count": null,
   "metadata": {},
   "outputs": [],
   "source": [
    "type(45 * 3.0)"
   ]
  },
  {
   "cell_type": "code",
   "execution_count": null,
   "metadata": {},
   "outputs": [],
   "source": [
    "type(45 * 3)"
   ]
  },
  {
   "cell_type": "code",
   "execution_count": null,
   "metadata": {},
   "outputs": [],
   "source": [
    "type(10/3)"
   ]
  },
  {
   "cell_type": "code",
   "execution_count": null,
   "metadata": {},
   "outputs": [],
   "source": [
    "type(10/2)"
   ]
  },
  {
   "cell_type": "code",
   "execution_count": null,
   "metadata": {},
   "outputs": [],
   "source": [
    "type(10//2)"
   ]
  },
  {
   "cell_type": "markdown",
   "metadata": {},
   "source": [
    "### Boolesche Variablen\n",
    "\n",
    "Boolesche Werte stellen einen von 2 Werten dar: `True` und `False`. Boolesche Werte haben den Typ `bool`."
   ]
  },
  {
   "cell_type": "code",
   "execution_count": null,
   "metadata": {},
   "outputs": [],
   "source": [
    "ist_heute_Sonntag = True"
   ]
  },
  {
   "cell_type": "code",
   "execution_count": null,
   "metadata": {},
   "outputs": [],
   "source": [
    "ist_heute_Sonntag"
   ]
  },
  {
   "cell_type": "code",
   "execution_count": null,
   "metadata": {},
   "outputs": [],
   "source": [
    "type(ist_heute_Sonntag)"
   ]
  },
  {
   "cell_type": "markdown",
   "metadata": {},
   "source": [
    "Boolesche Werte sind im Allgemeinen das Ergebnis einer Vergleichsoperation, z. B. `==`, `>=` usw."
   ]
  },
  {
   "cell_type": "code",
   "execution_count": null,
   "metadata": {},
   "outputs": [],
   "source": [
    "cost_of_ice_bag = 1.25\n",
    "is_ice_bag_expensive = cost_of_ice_bag >= 10"
   ]
  },
  {
   "cell_type": "code",
   "execution_count": null,
   "metadata": {},
   "outputs": [],
   "source": [
    "is_ice_bag_expensive"
   ]
  },
  {
   "cell_type": "code",
   "execution_count": null,
   "metadata": {},
   "outputs": [],
   "source": [
    "type(is_ice_bag_expensive)"
   ]
  },
  {
   "cell_type": "markdown",
   "metadata": {},
   "source": [
    "Boolesche Werte werden automatisch in `int` umgewandelt, wenn sie in arithmetischen Operationen verwendet werden. Wahr\" wird in \"1\" und \"Falsch\" in \"0\" umgewandelt."
   ]
  },
  {
   "cell_type": "code",
   "execution_count": null,
   "metadata": {},
   "outputs": [],
   "source": [
    "5 + False"
   ]
  },
  {
   "cell_type": "code",
   "execution_count": null,
   "metadata": {},
   "outputs": [],
   "source": [
    "3. + True"
   ]
  },
  {
   "cell_type": "markdown",
   "metadata": {},
   "source": [
    "Jeder Wert in Python kann mit der Funktion `bool` in einen boolschen Wert umgewandelt werden. \n",
    "\n",
    "Nur die folgenden Werte werden als `False` ausgewertet (sie werden oft *falsy* Werte genannt):\n",
    "\n",
    "1. Der Wert `False` selbst\n",
    "2. Die Ganzzahl `0`\n",
    "3. Die Fließkommazahl `0.0`\n",
    "4. Der leere Wert `None`\n",
    "5. Der leere Text `\"\"`\n",
    "6. Die leere Liste `[]`\n",
    "7. Das leere Tupel `()`\n",
    "8. Das leere Wörterbuch `{}`\n",
    "9. Die leere Menge `set()`\n",
    "10. Der leere Bereich `Bereich(0)`\n",
    "\n",
    "Alles andere wird als `Wahr` ausgewertet (ein Wert, der als `Wahr` ausgewertet wird, wird oft ein *wahrer* Wert genannt)."
   ]
  },
  {
   "cell_type": "code",
   "execution_count": null,
   "metadata": {},
   "outputs": [],
   "source": [
    "bool(False)"
   ]
  },
  {
   "cell_type": "code",
   "execution_count": null,
   "metadata": {},
   "outputs": [],
   "source": [
    "bool(0)"
   ]
  },
  {
   "cell_type": "code",
   "execution_count": null,
   "metadata": {},
   "outputs": [],
   "source": [
    "bool(0.0)"
   ]
  },
  {
   "cell_type": "code",
   "execution_count": null,
   "metadata": {},
   "outputs": [],
   "source": [
    "bool(None)"
   ]
  },
  {
   "cell_type": "code",
   "execution_count": null,
   "metadata": {},
   "outputs": [],
   "source": [
    "bool(\"\")"
   ]
  },
  {
   "cell_type": "code",
   "execution_count": null,
   "metadata": {},
   "outputs": [],
   "source": [
    "bool([])"
   ]
  },
  {
   "cell_type": "code",
   "execution_count": null,
   "metadata": {},
   "outputs": [],
   "source": [
    "bool(())"
   ]
  },
  {
   "cell_type": "code",
   "execution_count": null,
   "metadata": {},
   "outputs": [],
   "source": [
    "bool({})"
   ]
  },
  {
   "cell_type": "code",
   "execution_count": null,
   "metadata": {},
   "outputs": [],
   "source": [
    "bool(set())"
   ]
  },
  {
   "cell_type": "code",
   "execution_count": null,
   "metadata": {},
   "outputs": [],
   "source": [
    "bool(range(0))"
   ]
  },
  {
   "cell_type": "code",
   "execution_count": null,
   "metadata": {},
   "outputs": [],
   "source": [
    "bool(True), bool(1), bool(2.0), bool(\"hello\"), bool([1,2]), bool((2,3)), bool(range(10))"
   ]
  },
  {
   "cell_type": "markdown",
   "metadata": {},
   "source": [
    "### None\n",
    "\n",
    "Der Typ None umfasst einen einzigen Wert `None`, der verwendet wird, um das Fehlen eines Wertes anzuzeigen. `None` hat den Typ `NoneType`. Er wird häufig verwendet, um eine Variable zu deklarieren, deren Wert später zugewiesen werden kann."
   ]
  },
  {
   "cell_type": "code",
   "execution_count": 1,
   "metadata": {},
   "outputs": [],
   "source": [
    "nothing = None"
   ]
  },
  {
   "cell_type": "code",
   "execution_count": 2,
   "metadata": {},
   "outputs": [
    {
     "data": {
      "text/plain": [
       "NoneType"
      ]
     },
     "execution_count": 2,
     "metadata": {},
     "output_type": "execute_result"
    }
   ],
   "source": [
    "type(nothing)"
   ]
  },
  {
   "cell_type": "markdown",
   "metadata": {},
   "source": [
    "### Zeichenketten (Strings)\n",
    "\n",
    "Ein String wird in Python zur Darstellung von Text (*eine Zeichenkette*) verwendet. Strings müssen in Anführungszeichen gesetzt werden (entweder das einfache Anführungszeichen `'` oder das doppelte Anführungszeichen `\"`). Strings haben den Typ `string`."
   ]
  },
  {
   "cell_type": "code",
   "execution_count": null,
   "metadata": {},
   "outputs": [],
   "source": [
    "today = \"Saturday\""
   ]
  },
  {
   "cell_type": "code",
   "execution_count": null,
   "metadata": {},
   "outputs": [],
   "source": [
    "today"
   ]
  },
  {
   "cell_type": "code",
   "execution_count": null,
   "metadata": {},
   "outputs": [],
   "source": [
    "type(today)"
   ]
  },
  {
   "cell_type": "markdown",
   "metadata": {},
   "source": [
    "Sie können einfache Anführungszeichen innerhalb einer mit doppelten Anführungszeichen geschriebenen Zeichenfolge verwenden und umgekehrt."
   ]
  },
  {
   "cell_type": "code",
   "execution_count": null,
   "metadata": {},
   "outputs": [],
   "source": [
    "my_favorite_movie = \"One Flew over the Cuckoo's Nest\" "
   ]
  },
  {
   "cell_type": "code",
   "execution_count": null,
   "metadata": {},
   "outputs": [],
   "source": [
    "my_favorite_movie"
   ]
  },
  {
   "cell_type": "code",
   "execution_count": null,
   "metadata": {},
   "outputs": [],
   "source": [
    "my_favorite_pun = 'Thanks for explaining the word \"many\" to me, it means a lot.'"
   ]
  },
  {
   "cell_type": "code",
   "execution_count": null,
   "metadata": {},
   "outputs": [],
   "source": [
    "my_favorite_pun"
   ]
  },
  {
   "cell_type": "markdown",
   "metadata": {},
   "source": [
    "Um ein doppeltes Anführungszeichen innerhalb einer mit doppelten Anführungszeichen geschriebenen Zeichenfolge zu verwenden, *entfernen* Sie die inneren Anführungszeichen, indem Sie ihnen das Zeichen `\\` voranstellen."
   ]
  },
  {
   "cell_type": "code",
   "execution_count": null,
   "metadata": {},
   "outputs": [],
   "source": [
    "another_pun = \"The first time I got a universal remote control, I thought to myself \\\"This changes everything\\\".\""
   ]
  },
  {
   "cell_type": "code",
   "execution_count": null,
   "metadata": {},
   "outputs": [],
   "source": [
    "another_pun"
   ]
  },
  {
   "cell_type": "markdown",
   "metadata": {},
   "source": [
    "Mit einfachen oder doppelten Anführungszeichen erstellte Zeichenketten müssen in derselben Zeile beginnen und enden. Um mehrzeilige Zeichenfolgen zu erstellen, verwenden Sie drei einfache Anführungszeichen `'''` oder drei doppelte Anführungszeichen `\"\"\"`, um die Zeichenfolge zu beginnen und zu beenden. Zeilenumbrüche werden mit dem Zeilenumbruchzeichen `\\n` dargestellt."
   ]
  },
  {
   "cell_type": "code",
   "execution_count": null,
   "metadata": {},
   "outputs": [],
   "source": [
    "yet_another_pun = '''Son: \"Dad, can you tell me what a solar eclipse is?\" \n",
    "Dad: \"No sun.\"'''"
   ]
  },
  {
   "cell_type": "code",
   "execution_count": null,
   "metadata": {},
   "outputs": [],
   "source": [
    "yet_another_pun"
   ]
  },
  {
   "cell_type": "markdown",
   "metadata": {},
   "source": [
    "Mehrzeilige Zeichenketten werden am besten mit der Funktion `print` angezeigt."
   ]
  },
  {
   "cell_type": "code",
   "execution_count": null,
   "metadata": {},
   "outputs": [],
   "source": [
    "print(yet_another_pun)"
   ]
  },
  {
   "cell_type": "code",
   "execution_count": null,
   "metadata": {},
   "outputs": [],
   "source": [
    "a_music_pun = \"\"\"\n",
    "Two windmills are standing in a field and one asks the other, \n",
    "\"What kind of music do you like?\"  \n",
    "\n",
    "The other says, \n",
    "\"I'm a big metal fan.\"\n",
    "\"\"\""
   ]
  },
  {
   "cell_type": "code",
   "execution_count": null,
   "metadata": {},
   "outputs": [],
   "source": [
    "print(a_music_pun)"
   ]
  },
  {
   "cell_type": "markdown",
   "metadata": {},
   "source": [
    "Sie können die Länge einer Zeichenkette mit der Funktion `len` überprüfen."
   ]
  },
  {
   "cell_type": "code",
   "execution_count": null,
   "metadata": {},
   "outputs": [],
   "source": [
    "len(my_favorite_movie)"
   ]
  },
  {
   "cell_type": "markdown",
   "metadata": {},
   "source": [
    "Beachten Sie, dass Sonderzeichen wie `\\n` und maskierte Zeichen wie `\\\"` als ein einziges Zeichen zählen, auch wenn sie als zwei Zeichen geschrieben und manchmal auch gedruckt werden."
   ]
  },
  {
   "cell_type": "code",
   "execution_count": null,
   "metadata": {},
   "outputs": [],
   "source": [
    "multiline_string = \"\"\"a\n",
    "b\"\"\"\n",
    "multiline_string"
   ]
  },
  {
   "cell_type": "code",
   "execution_count": null,
   "metadata": {},
   "outputs": [],
   "source": [
    "len(multiline_string)"
   ]
  },
  {
   "cell_type": "markdown",
   "metadata": {},
   "source": [
    "Zwei oder mehr Zeichenketten können mit dem Operator `+` verbunden oder *verkettet* werden. Seien Sie vorsichtig beim Verketten von Zeichenketten, manchmal müssen Sie ein Leerzeichen `\" \"` zwischen den Wörtern einfügen."
   ]
  },
  {
   "cell_type": "code",
   "execution_count": null,
   "metadata": {},
   "outputs": [],
   "source": [
    "full_name = \"Derek O'Brien\""
   ]
  },
  {
   "cell_type": "code",
   "execution_count": null,
   "metadata": {},
   "outputs": [],
   "source": [
    "greeting = \"Hello\""
   ]
  },
  {
   "cell_type": "code",
   "execution_count": null,
   "metadata": {},
   "outputs": [],
   "source": [
    "greeting + full_name"
   ]
  },
  {
   "cell_type": "code",
   "execution_count": null,
   "metadata": {},
   "outputs": [],
   "source": [
    "greeting + \" \" + full_name + \"!\" # additional space"
   ]
  },
  {
   "cell_type": "markdown",
   "metadata": {},
   "source": [
    "## Datenstrukturen\n",
    "\n",
    "Wir haben uns mit den primitiven Datentypen in Python beschäftigt. Die nicht-primitiven Datenstrukturen sehen wir uns später an. Hier nur das wichtigste:\n",
    "\n",
    "- Eine Liste ist eine Datenstruktur welche viele verschiedene Daten in einer frei wählbaren Reihenfolge zusammenfasst.\n",
    "- Ein Tupel ist ähnlich wie eine Liste nur kann man die Werte nach dem erstellen nicht mehr ändern.\n",
    "- Wörterbücher (Dictionarys) ist eine Sammlung von Objekten welche über einen Schlüssel identifiziert wird. Ein Schlüssel kann dabei eine Zahl oder ein Text sein.\n",
    "\n",
    "Genaueres lernen wir in den entsprechenden Abschnitten:\n",
    "- [Listen und Tupel](09_Listen.ipynb)\n",
    "- [Wörterbücher](10_Dictionarys.ipynb)\n",
    "\n",
    "\n",
    "### Listen\n",
    "\n",
    "Wie der Name schon sagt eine Liste von Werten. Eine Liste wird mit eckigen Klammern geschrieben. Die einzelnen Elemente können über eine interne Nummerierung referenziert werden.\n",
    "\n",
    "~~~python\n",
    "a = [3,\"hi\", None, 2.71828]\n",
    "b = a[1]  # b wird der Wert \"hi\" zugewiesen\n",
    "~~~\n",
    "\n",
    "### Tupel\n",
    "\n",
    "Ein Tupel ist eine Liste bei welcher die einzelnen Elemente nicht mehr verändert werden können. Ein Tupel wird mit runden Klammen geschrieben.\n",
    "\n",
    "~~~python\n",
    "t = (3,2,\"hi there\")\n",
    "~~~\n",
    "\n",
    "[Was ist mutable/immutable?](https://www.data-science-architect.de/mutable-und-immutable-objects/)\n",
    "\n",
    "\n",
    "### Wörterbuch/Dictionary\n",
    "\n",
    "Ein Wörterbuch sammelt mehrere Objekte in einer Einheit zusammen. Im Gegensatz zu einer Liste kann man die Informationen aber über einen Schlüsselbegriff identifizieren. Wörterbücher schreibt man mit geschweiften Klammern.\n",
    "\n",
    "~~~python\n",
    "d = {\"hi\": 4, 2: None, 3.14: \"Pi\"}\n",
    "e = d[3.14]  # e nimmt den Wert \"pi\" an.\n",
    "~~~"
   ]
  }
 ],
 "metadata": {
  "kernelspec": {
   "display_name": "Python 3",
   "language": "python",
   "name": "python3"
  },
  "language_info": {
   "codemirror_mode": {
    "name": "ipython",
    "version": 3
   },
   "file_extension": ".py",
   "mimetype": "text/x-python",
   "name": "python",
   "nbconvert_exporter": "python",
   "pygments_lexer": "ipython3",
   "version": "3.7.3"
  }
 },
 "nbformat": 4,
 "nbformat_minor": 4
}
