{
 "cells": [
  {
   "cell_type": "markdown",
   "metadata": {},
   "source": [
    "# Listen\n",
    "Listen sind flexibler als Strings. Strings und Tuples sind 'immutable', d.h. sie können nicht verän-dert werden. Listen sind im Gegensatz dazu veränderbar. Eine Liste ist was der Name schon sagt: eine Liste von Werten. Die Werte können jeden beliebigen Typ haben. Wir können Werte hinzu-fügen oder entfernen. Die Länge muss nicht wie in vielen anderen Programmiersprachen vorher definiert werden.\n",
    " \n",
    "Der erste Eintrag in einer Liste wird mit einer Null angesprochen. Der Computer realisiert eine Liste in Python als Kette von Knoten. Jeder Knoten enthält zwei Dinge: die Daten und die Adres-se des nächsten Elementes. Diese Adressen können wir aber nur indirekt beeinflussen.\n",
    " \n",
    "Wir können auch jeden String in eine Liste umwandeln. Viele der Techniken der Strings funktionieren hier gleich. \n",
    "\n",
    "Eine Liste in Python ist eine geordnete Sammlung von Werten. Listen können Werte verschiedener Datentypen enthalten und unterstützen Operationen zum Hinzufügen, Entfernen und Ändern von Werten. Listen haben den Typ `list`.\n",
    "\n",
    "Um eine Liste zu erstellen, schließen Sie eine Folge von Werten in eckige Klammern `[` und `]` ein, getrennt durch Kommas."
   ]
  },
  {
   "cell_type": "code",
   "execution_count": null,
   "metadata": {},
   "outputs": [],
   "source": [
    "fruechte = ['Äpfel', 'Bananen', 'Kirschen']"
   ]
  },
  {
   "cell_type": "markdown",
   "metadata": {},
   "source": [
    "Wie man sieht gibt die obige Anweisung kein Ergebnis an. Damit wir die Liste sehen, muss man den Namen der Liste auf einer eigenen Zeile angeben oder mit dem `print`-Befehl ausgeben. "
   ]
  },
  {
   "cell_type": "code",
   "execution_count": null,
   "metadata": {},
   "outputs": [],
   "source": [
    "fruechte"
   ]
  },
  {
   "cell_type": "code",
   "execution_count": null,
   "metadata": {},
   "outputs": [],
   "source": [
    "print(fruechte)"
   ]
  },
  {
   "cell_type": "markdown",
   "metadata": {},
   "source": [
    "Die erste Variante funktioniert nur hier in einem Jupyter-Notebook. In einem Programm sollte man die zweite Veriante benutzen. Den Typ der Variable können wir wie gehabt mit `type()` bestimmen."
   ]
  },
  {
   "cell_type": "code",
   "execution_count": null,
   "metadata": {},
   "outputs": [],
   "source": [
    "type(fruechte)"
   ]
  },
  {
   "cell_type": "markdown",
   "metadata": {},
   "source": [
    "Versuchen wir, eine Liste zu erstellen, die Werte verschiedener Datentypen enthält, einschließlich einer anderen Liste."
   ]
  },
  {
   "cell_type": "code",
   "execution_count": null,
   "metadata": {},
   "outputs": [],
   "source": [
    "a_list = [23, 'hello', None, 3.14, fruits, 3 <= 5]\n",
    "print(a_list)"
   ]
  },
  {
   "cell_type": "code",
   "execution_count": null,
   "metadata": {},
   "outputs": [],
   "source": [
    "leere_liste=[]\n",
    "print(leere_liste)"
   ]
  },
  {
   "cell_type": "markdown",
   "metadata": {},
   "source": [
    "Um die Anzahl der Werte in einer Liste zu bestimmen, verwenden Sie die Funktion `len`. Mit \"len\" können Sie die Anzahl der Werte in verschiedenen anderen Datentypen ermitteln."
   ]
  },
  {
   "cell_type": "code",
   "execution_count": null,
   "metadata": {},
   "outputs": [],
   "source": [
    "len(fruechte)"
   ]
  },
  {
   "cell_type": "code",
   "execution_count": null,
   "metadata": {},
   "outputs": [],
   "source": [
    "print(f\"Anzahl der Früchte: {len(fruechte)}\")"
   ]
  },
  {
   "cell_type": "code",
   "execution_count": null,
   "metadata": {},
   "outputs": [],
   "source": [
    "len(a_list)"
   ]
  },
  {
   "cell_type": "code",
   "execution_count": null,
   "metadata": {},
   "outputs": [],
   "source": [
    "len(leere_liLste)"
   ]
  },
  {
   "cell_type": "markdown",
   "metadata": {},
   "source": [
    "Sie können auf ein Element der Liste über seinen *Index* zugreifen, z. B. gibt `fruechte[2]` das Element bei Index 2 in der Liste `fruechte` zurück. Der Startindex einer Liste ist 0."
   ]
  },
  {
   "cell_type": "code",
   "execution_count": null,
   "metadata": {},
   "outputs": [],
   "source": [
    "fruechte[0]"
   ]
  },
  {
   "cell_type": "code",
   "execution_count": null,
   "metadata": {},
   "outputs": [],
   "source": [
    "fruechte[1]"
   ]
  },
  {
   "cell_type": "code",
   "execution_count": null,
   "metadata": {},
   "outputs": [],
   "source": [
    "fruechte[2]"
   ]
  },
  {
   "cell_type": "markdown",
   "metadata": {},
   "source": [
    "Wenn Sie versuchen, auf einen Index zuzugreifen, der gleich oder größer als die Länge der Liste ist, gibt Python einen `IndexError` zurück."
   ]
  },
  {
   "cell_type": "code",
   "execution_count": null,
   "metadata": {},
   "outputs": [],
   "source": [
    "fruechte[4]"
   ]
  },
  {
   "cell_type": "markdown",
   "metadata": {},
   "source": [
    "Sie können negative Indizes verwenden, um auf Elemente am Ende einer Liste zuzugreifen, z. B. gibt `fruechte[-1]` das letzte Element zurück, `fruechte[-2]` das vorletzte Element und so weiter."
   ]
  },
  {
   "cell_type": "code",
   "execution_count": null,
   "metadata": {},
   "outputs": [],
   "source": [
    "fruechte[-1]"
   ]
  },
  {
   "cell_type": "markdown",
   "metadata": {},
   "source": [
    "Sie können auch auf einen Bereich von Werten aus der Liste zugreifen. Das Ergebnis ist selbst eine Liste. Sehen wir uns einige Beispiele an."
   ]
  },
  {
   "cell_type": "code",
   "execution_count": null,
   "metadata": {},
   "outputs": [],
   "source": [
    "a_list = [23, 'hello', None, 3.14, fruits, 3 <= 5]\n",
    "print(a_list)"
   ]
  },
  {
   "cell_type": "code",
   "execution_count": null,
   "metadata": {},
   "outputs": [],
   "source": [
    "len(a_list)"
   ]
  },
  {
   "cell_type": "code",
   "execution_count": null,
   "metadata": {},
   "outputs": [],
   "source": [
    "a_list[2:5]"
   ]
  },
  {
   "cell_type": "markdown",
   "metadata": {},
   "source": [
    "Beachten Sie, dass der Bereich `2:5` das Element am Startindex `2` einschließt, aber nicht das Element am Endindex `5`. Das Ergebnis hat also 3 Werte (Index `2`, `3`, und `4`).\n",
    "\n",
    "Hier sind einige Experimente, die Sie ausprobieren sollten (verwenden Sie die leeren Zellen unten):\n",
    "\n",
    "* Versuchen Sie, einen oder beide Indizes des Bereichs größer als die Größe der Liste zu setzen, z. B. `a_list[2:10]`.\n",
    "* Versuchen Sie, den Startindex des Bereichs größer als den Endindex zu setzen, z. B. `a_list[12:10]`.\n",
    "* Versuchen Sie, den Start- oder Endindex eines Bereichs wegzulassen, z. B. `a_list[2:]` oder `a_list[:5]`.\n",
    "* Versuchen Sie, negative Indizes für den Bereich zu verwenden, z.B. `a_list[-2:-5]` oder `a_list[-5:-2]` (können Sie die Ergebnisse erklären?)\n",
    "\n",
    "> Die flexible und interaktive Natur von Jupyter-Notebooks macht sie zu einem ausgezeichneten Werkzeug zum Lernen und Experimentieren. Wenn Sie neu in Python sind, können Sie die meisten Fragen sofort lösen, wenn sie auftauchen, indem Sie den Code in eine Zelle eingeben und ausführen. Lassen Sie Ihrer Neugier freien Lauf und entdecken Sie, wozu Python fähig ist und wozu nicht! "
   ]
  },
  {
   "cell_type": "markdown",
   "metadata": {},
   "source": [
    "Eine Zeichenkette kann man in eine Liste umwandeln indem man die `list`-Funtion anwendet."
   ]
  },
  {
   "cell_type": "code",
   "execution_count": null,
   "metadata": {},
   "outputs": [],
   "source": [
    "list(\"Dies ist ein Text\")"
   ]
  },
  {
   "cell_type": "markdown",
   "metadata": {},
   "source": [
    "### Liste anpassen\n",
    "\n",
    "Sie können auch den Wert an einem bestimmten Index innerhalb einer Liste ändern, indem Sie die Zuweisungsoperation verwenden."
   ]
  },
  {
   "cell_type": "code",
   "execution_count": null,
   "metadata": {},
   "outputs": [],
   "source": [
    "print(fruechte)"
   ]
  },
  {
   "cell_type": "code",
   "execution_count": null,
   "metadata": {},
   "outputs": [],
   "source": [
    "fruechte[1] = \"Orangen\"\n",
    "print(fruechte)"
   ]
  },
  {
   "cell_type": "markdown",
   "metadata": {},
   "source": [
    "Mit der Methode `append` kann ein neuer Wert an das Ende einer Liste angefügt werden."
   ]
  },
  {
   "cell_type": "code",
   "execution_count": null,
   "metadata": {},
   "outputs": [],
   "source": [
    "fruechte.append(\"Datteln\")\n",
    "print(fruechte)"
   ]
  },
  {
   "cell_type": "markdown",
   "metadata": {},
   "source": [
    "Ein neuer Wert kann auch mit der Methode `insert` an einem bestimmten Index eingefügt werden."
   ]
  },
  {
   "cell_type": "code",
   "execution_count": null,
   "metadata": {},
   "outputs": [],
   "source": [
    "fruechte.insert(1,\"Blaubeeren\")\n",
    "print(fruechte)"
   ]
  },
  {
   "cell_type": "markdown",
   "metadata": {},
   "source": [
    "Mit der Methode `remove` können Sie einen Wert aus einer Liste entfernen."
   ]
  },
  {
   "cell_type": "code",
   "execution_count": null,
   "metadata": {},
   "outputs": [],
   "source": [
    "fruechte.remove(\"Blaubeeren\")\n",
    "print(fruechte)"
   ]
  },
  {
   "cell_type": "markdown",
   "metadata": {},
   "source": [
    "Was passiert, wenn eine Liste mehrere Instanzen des Wertes hat, der an `.remove` übergeben wurde? Probieren Sie es aus."
   ]
  },
  {
   "cell_type": "code",
   "execution_count": null,
   "metadata": {},
   "outputs": [],
   "source": []
  },
  {
   "cell_type": "code",
   "execution_count": null,
   "metadata": {},
   "outputs": [],
   "source": []
  },
  {
   "cell_type": "code",
   "execution_count": null,
   "metadata": {},
   "outputs": [],
   "source": []
  },
  {
   "cell_type": "markdown",
   "metadata": {},
   "source": [
    "Um ein Element von einem bestimmten Index zu entfernen, verwenden Sie die Methode `pop`. Die Methode gibt auch das entfernte Element zurück."
   ]
  },
  {
   "cell_type": "code",
   "execution_count": null,
   "metadata": {},
   "outputs": [],
   "source": [
    "fruechte.pop(1)\n",
    "print(fruechte)"
   ]
  },
  {
   "cell_type": "markdown",
   "metadata": {},
   "source": [
    "Wenn kein Index angegeben wird, entfernt die Methode `pop` das letzte Element der Liste."
   ]
  },
  {
   "cell_type": "code",
   "execution_count": null,
   "metadata": {},
   "outputs": [],
   "source": [
    "fruechte.pop()\n",
    "print(fruechte)"
   ]
  },
  {
   "cell_type": "markdown",
   "metadata": {},
   "source": [
    "### Ist ein vorgegebener Wert in der Liste einthalten?\n",
    "Mit dem Operator `in` können Sie prüfen, ob eine Liste einen Wert enthält."
   ]
  },
  {
   "cell_type": "code",
   "execution_count": null,
   "metadata": {},
   "outputs": [],
   "source": [
    "\"Äpfel\" in fruechten"
   ]
  },
  {
   "cell_type": "code",
   "execution_count": null,
   "metadata": {},
   "outputs": [],
   "source": [
    "'Ananas' in fruechten"
   ]
  },
  {
   "cell_type": "markdown",
   "metadata": {},
   "source": [
    "Um zwei oder mehr Listen zu kombinieren, verwenden Sie den Operator +. Diese Operation wird auch Verkettung genannt."
   ]
  },
  {
   "cell_type": "code",
   "execution_count": null,
   "metadata": {},
   "outputs": [],
   "source": [
    "mehr_fruechte = fruechte + ['Ananas','Tomate','Birnen']\n",
    "print(fruechte)\n",
    "print(mehr_fruechte)"
   ]
  },
  {
   "cell_type": "markdown",
   "metadata": {},
   "source": [
    "Um eine Kopie einer Liste zu erstellen, verwenden Sie die Methode `copy`. Die Änderung der kopierten Liste hat keine Auswirkungen auf das Original."
   ]
  },
  {
   "cell_type": "code",
   "execution_count": null,
   "metadata": {},
   "outputs": [],
   "source": []
  },
  {
   "cell_type": "code",
   "execution_count": null,
   "metadata": {},
   "outputs": [],
   "source": []
  },
  {
   "cell_type": "code",
   "execution_count": null,
   "metadata": {},
   "outputs": [],
   "source": []
  },
  {
   "cell_type": "code",
   "execution_count": null,
   "metadata": {},
   "outputs": [],
   "source": []
  },
  {
   "cell_type": "markdown",
   "metadata": {},
   "source": [
    ">Beachten Sie, dass Sie keine Kopie einer Liste erstellen können, indem Sie einfach eine neue Variable mit dem Zuweisungsoperator `=` erzeugen. Die neue Variable verweist auf dieselbe Liste, und alle Änderungen, die mit einer der beiden Variablen vorgenommen werden, wirken sich auch auf die andere aus."
   ]
  },
  {
   "cell_type": "code",
   "execution_count": null,
   "metadata": {},
   "outputs": [],
   "source": []
  },
  {
   "cell_type": "code",
   "execution_count": null,
   "metadata": {},
   "outputs": [],
   "source": []
  },
  {
   "cell_type": "code",
   "execution_count": null,
   "metadata": {},
   "outputs": [],
   "source": []
  },
  {
   "cell_type": "markdown",
   "metadata": {},
   "source": [
    "Genau wie bei Strings gibt es mehrere eingebaute Methoden zur Bearbeitung von Listen. Im Gegensatz zu Strings verändern die meisten Listenmethoden jedoch die ursprüngliche Liste, anstatt eine neue zurückzugeben. Hier finden Sie einige gängige Listenoperationen: https://www.w3schools.com/python/python_ref_list.asp.\n",
    "\n",
    "\n",
    "Im Folgenden finden Sie einige Übungen, die Sie mit Listenmethoden ausprobieren können (verwenden Sie die leeren Codezellen unten):\n",
    "\n",
    "* Umkehrung der Reihenfolge der Elemente in einer Liste\n",
    "* Hinzufügen der Elemente einer Liste am Ende einer anderen Liste\n",
    "* Sortieren einer Liste von Zeichenketten in alphabetischer Reihenfolge\n",
    "* Sortieren einer Liste von Zahlen in absteigender Reihenfolge"
   ]
  },
  {
   "cell_type": "code",
   "execution_count": null,
   "metadata": {},
   "outputs": [],
   "source": []
  },
  {
   "cell_type": "code",
   "execution_count": null,
   "metadata": {},
   "outputs": [],
   "source": []
  },
  {
   "cell_type": "code",
   "execution_count": null,
   "metadata": {},
   "outputs": [],
   "source": []
  },
  {
   "cell_type": "markdown",
   "metadata": {},
   "source": [
    "## weitere Beispiele\n",
    "\n",
    "Man kann eine Liste auch erzeugen, wenn man einen Liste als Text aufspalten lässt. Der Befehl `.split(char)` teilt eine Textkette am angegebenen Zeichen `char` auf.  "
   ]
  },
  {
   "cell_type": "code",
   "execution_count": null,
   "metadata": {},
   "outputs": [],
   "source": [
    "farben = 'rot,grün,blau,gelb'\n",
    "colors = farben.split(',')\n",
    "print(colors)"
   ]
  },
  {
   "cell_type": "markdown",
   "metadata": {},
   "source": [
    "Mit dem Befehl Split kann man Listen erzeugen. Mit append oder insert kann man Werte in eine Liste einfügen."
   ]
  },
  {
   "cell_type": "code",
   "execution_count": null,
   "metadata": {},
   "outputs": [],
   "source": [
    "mylist=['Das', 'Wetter']\n",
    "mylist.append('schön')\n",
    "mylist[1]='Leben'\n",
    "mylist.insert(2, 'ist')\n",
    "print(mylist)  # Das Ergebnis?\n",
    "\n",
    "print(\"Ist\" in mylist)\n"
   ]
  },
  {
   "cell_type": "markdown",
   "metadata": {},
   "source": []
  },
  {
   "cell_type": "markdown",
   "metadata": {},
   "source": [
    "## Liste von Befehlen\n",
    "Wie für die Strings gibt es auch für Listen verschiedene Befehle. Einige sind genau gleich wie für Strings.\n",
    "\n",
    "| Methode | Bedeutung |\n",
    "| ------- | --------- |\n",
    "| `liste.append(obj)` | Fügt obj am Ende der Liste ein. |\n",
    "| `liste.insert(index, obj)` | Fügt einen Neuen Wert obj an der Stelle index in die Liste ein |\n",
    "| `liste.remove(value)` | Löscht den Wert value aus der Liste. |\n",
    "| `liste.reverse()` | Dreht die Reihenfolge der Werte um. |\n",
    "| `liste.sort()` | Sortiert die Liste. |\n",
    "| `liste.index(value)` | Gibt zurück, wo der Wert value in der Liste steht. |\n",
    "| `liste.count(value)` | Zählt, wie oft der Wert value in der Liste vorkommt. |\n"
   ]
  },
  {
   "cell_type": "markdown",
   "metadata": {},
   "source": [
    "## Aufgaben\n",
    "1. Schreiben Sie ein Programm das fünf Werte entgegen nimmt und diese in einer Liste speichert. Nun soll das Programm die Liste normal, in umgekehrter Reihenfolge und sortiert ausgeben. Am Ende sollte der Wert in der Mitte entfernt werden.\n",
    "2. Was macht das folgende Programm:\n",
    " ~~~ python \n",
    " import random\n",
    " basenpaare = ['a','c','g','t']\n",
    " text=''\n",
    " for i in range(100):\n",
    "     zeichen = random.choice(basenpaare)\n",
    "     text = text +zeichen\n",
    " print(text)\n",
    " ~~~\n",
    "3. **Hugo** Schreiben Sie ein Programm, welches von 1 bis n zählt. Der Wert von n soll durch den Be-nutzer eingegeben werden. Die Ausgabe des Programmes sind die Zahlen von 1 bis n ausser, die Zahl ist durch 7 teilbar `(zahl%7 ==0)` oder enthält die Ziffer 7 `(‘7’ in zahl)`. In diesen Fällen soll das Wort \"Hugo\" geschrieben werden. \n",
    "1, 2, 3, 4, 5, 6, Hugo, 8, 9, 10, 11, 12, 13, Hugo, 16, Hugo, 18, …\n",
    "Sie brauchen für diese Aufgabe eine Selektion mit if und den %-Operator (Rest bei einer Di-vision). Zudem brauchen Sie noch die Bedingung «in»:\n",
    "~~~ python\n",
    "if ‘7’ in zahl:\n",
    "    #Codeblock falls die Ziffer 7 enthalten ist.\n",
    "else:\n",
    "    pass() # Codeblock falls die Ziffer 7 nicht enthalten ist\n",
    "~~~\n",
    "\n",
    "4. **Summe der Kehrwerte** Dieses Programm nimmt eine Liste von Zahlen entgegen und gibt die Summe der Kehrwerte als Ergebnis zurück:\n",
    "~~~python\n",
    "[1,3,5,8] --> 1/1 + 1/3 + 1/5 + 1/8 = 1.6583333\n",
    "~~~"
   ]
  },
  {
   "cell_type": "code",
   "execution_count": null,
   "metadata": {},
   "outputs": [],
   "source": [
    "\n"
   ]
  },
  {
   "cell_type": "code",
   "execution_count": null,
   "metadata": {},
   "outputs": [],
   "source": []
  },
  {
   "cell_type": "code",
   "execution_count": null,
   "metadata": {},
   "outputs": [],
   "source": []
  },
  {
   "cell_type": "code",
   "execution_count": null,
   "metadata": {},
   "outputs": [],
   "source": []
  },
  {
   "cell_type": "markdown",
   "metadata": {},
   "source": [
    "# Tupel\n",
    "Ein Tupel ist eine geordnete Sammlung von Werten, ähnlich wie eine Liste. Es ist jedoch nicht möglich, Werte in einem Tupel hinzuzufügen, zu entfernen oder zu ändern. Ein Tupel wird durch Einschließen von Werten in Klammern `(` und `)`, getrennt durch Kommas, erstellt.\n",
    "\n",
    "> Jede Datenstruktur, die nach der Erstellung nicht verändert werden kann, wird als *immutable* bezeichnet. Sie können sich Tupel als unveränderliche Listen vorstellen.\n",
    "\n",
    "Lassen Sie uns einige Experimente mit Tupeln durchführen."
   ]
  },
  {
   "cell_type": "code",
   "execution_count": null,
   "metadata": {},
   "outputs": [],
   "source": [
    "fruits = ('apple', 'cherry', 'dates')"
   ]
  },
  {
   "cell_type": "code",
   "execution_count": null,
   "metadata": {},
   "outputs": [],
   "source": [
    "# check no. of elements\n",
    "len(fruits)"
   ]
  },
  {
   "cell_type": "code",
   "execution_count": null,
   "metadata": {},
   "outputs": [],
   "source": [
    "# get an element (positive index)\n",
    "fruits[0]"
   ]
  },
  {
   "cell_type": "code",
   "execution_count": null,
   "metadata": {},
   "outputs": [],
   "source": [
    "# get an element (negative index)\n",
    "fruits[-2]"
   ]
  },
  {
   "cell_type": "code",
   "execution_count": null,
   "metadata": {},
   "outputs": [],
   "source": [
    "# check if it contains an element\n",
    "'dates' in fruits"
   ]
  },
  {
   "cell_type": "code",
   "execution_count": null,
   "metadata": {},
   "outputs": [],
   "source": [
    "# try to change an element\n",
    "fruits[0] = 'avocado'"
   ]
  },
  {
   "cell_type": "code",
   "execution_count": null,
   "metadata": {},
   "outputs": [],
   "source": [
    "# try to append an element\n",
    "fruits.append('blueberry')"
   ]
  },
  {
   "cell_type": "code",
   "execution_count": null,
   "metadata": {},
   "outputs": [],
   "source": [
    "# try to remove an element\n",
    "fruits.remove('apple')"
   ]
  },
  {
   "cell_type": "markdown",
   "metadata": {},
   "source": [
    "Sie können auch die Klammern `(` und `)` beim Erstellen eines Tupels weglassen. Python wandelt kommagetrennte Werte automatisch in ein Tupel um."
   ]
  },
  {
   "cell_type": "code",
   "execution_count": null,
   "metadata": {},
   "outputs": [],
   "source": [
    "the_3_musketeers = 'Athos', 'Porthos', 'Aramis'"
   ]
  },
  {
   "cell_type": "code",
   "execution_count": null,
   "metadata": {},
   "outputs": [],
   "source": [
    "the_3_musketeers"
   ]
  },
  {
   "cell_type": "markdown",
   "metadata": {},
   "source": [
    "Sie können auch ein Tupel mit nur einem Element erstellen, indem Sie ein Komma dahinter setzen. Die Klammerung mit `(` und `)` macht es nicht zu einem Tupel."
   ]
  },
  {
   "cell_type": "code",
   "execution_count": null,
   "metadata": {},
   "outputs": [],
   "source": [
    "single_element_tuple = 4,"
   ]
  },
  {
   "cell_type": "code",
   "execution_count": null,
   "metadata": {},
   "outputs": [],
   "source": [
    "single_element_tuple"
   ]
  },
  {
   "cell_type": "code",
   "execution_count": null,
   "metadata": {},
   "outputs": [],
   "source": [
    "another_single_element_tuple = (4,)"
   ]
  },
  {
   "cell_type": "code",
   "execution_count": null,
   "metadata": {},
   "outputs": [],
   "source": [
    "another_single_element_tuple"
   ]
  },
  {
   "cell_type": "code",
   "execution_count": null,
   "metadata": {},
   "outputs": [],
   "source": [
    "not_a_tuple = (4)"
   ]
  },
  {
   "cell_type": "code",
   "execution_count": null,
   "metadata": {},
   "outputs": [],
   "source": [
    "not_a_tuple"
   ]
  },
  {
   "cell_type": "markdown",
   "metadata": {},
   "source": [
    "Tupel werden häufig verwendet, um mehrere Variablen mit einer einzigen Anweisung zu erstellen."
   ]
  },
  {
   "cell_type": "code",
   "execution_count": null,
   "metadata": {},
   "outputs": [],
   "source": [
    "point = (3, 4)"
   ]
  },
  {
   "cell_type": "code",
   "execution_count": null,
   "metadata": {},
   "outputs": [],
   "source": [
    "point_x, point_y = point"
   ]
  },
  {
   "cell_type": "code",
   "execution_count": null,
   "metadata": {},
   "outputs": [],
   "source": [
    "point_x"
   ]
  },
  {
   "cell_type": "code",
   "execution_count": null,
   "metadata": {},
   "outputs": [],
   "source": [
    "point_y"
   ]
  },
  {
   "cell_type": "markdown",
   "metadata": {},
   "source": [
    "Sie können eine Liste in ein Tupel umwandeln, indem Sie die Funktion `Tupel` verwenden, und umgekehrt, indem Sie die Funktion `Liste` verwenden."
   ]
  },
  {
   "cell_type": "code",
   "execution_count": null,
   "metadata": {},
   "outputs": [],
   "source": [
    "tuple(['one', 'two', 'three'])"
   ]
  },
  {
   "cell_type": "code",
   "execution_count": null,
   "metadata": {},
   "outputs": [],
   "source": [
    "list(('Athos', 'Porthos', 'Aramis'))"
   ]
  },
  {
   "cell_type": "markdown",
   "metadata": {},
   "source": [
    "Tupel haben nur zwei eingebaute Methoden: `count` und `index`. Kannst du herausfinden, was sie tun? Du könntest zwar online nach Dokumentation und Beispielen suchen, aber es gibt einen einfacheren Weg, die Dokumentation einer Methode zu überprüfen, indem du die Funktion \"help\" verwendest."
   ]
  },
  {
   "cell_type": "code",
   "execution_count": null,
   "metadata": {},
   "outputs": [],
   "source": [
    "a_tuple = 23, \"hello\", False, None, 23, 37, \"hello\""
   ]
  },
  {
   "cell_type": "code",
   "execution_count": null,
   "metadata": {},
   "outputs": [],
   "source": [
    "help(a_tuple.count)"
   ]
  },
  {
   "cell_type": "markdown",
   "metadata": {},
   "source": [
    "In einem Jupyter-Notizbuch können Sie auch eine Codezelle mit `?` beginnen und den Namen einer Funktion oder Methode eingeben. Wenn Sie diese Zelle ausführen, wird die Dokumentation der Funktion/Methode in einem Pop-up-Fenster angezeigt."
   ]
  },
  {
   "cell_type": "code",
   "execution_count": null,
   "metadata": {},
   "outputs": [],
   "source": [
    "?a_tuple.index"
   ]
  },
  {
   "cell_type": "markdown",
   "metadata": {},
   "source": [
    "Versuchen Sie, `count` und `index` mit `a_tuple` in den unten stehenden Codezellen zu verwenden."
   ]
  },
  {
   "cell_type": "markdown",
   "metadata": {},
   "source": [
    "## Weitere Lektüre\n",
    "\n",
    "Wir haben nun unsere Erkundung von Variablen und allgemeinen Datentypen in Python abgeschlossen. Im Folgenden finden Sie einige Ressourcen, um mehr über Datentypen in Python zu erfahren:\n",
    "\n",
    "* Offizielle Python-Dokumentation: https://docs.python.org/3/tutorial/index.html\n",
    "* Python-Tutorial bei W3Schools: https://www.w3schools.com/python/\n",
    "* Praktische Python-Programmierung: https://dabeaz-course.github.io/practical-python/Notes/Contents.html"
   ]
  }
 ],
 "metadata": {
  "kernelspec": {
   "display_name": "Python 3",
   "language": "python",
   "name": "python3"
  },
  "language_info": {
   "codemirror_mode": {
    "name": "ipython",
    "version": 3
   },
   "file_extension": ".py",
   "mimetype": "text/x-python",
   "name": "python",
   "nbconvert_exporter": "python",
   "pygments_lexer": "ipython3",
   "version": "3.7.3"
  }
 },
 "nbformat": 4,
 "nbformat_minor": 2
}
