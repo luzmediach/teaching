{
 "cells": [
  {
   "cell_type": "markdown",
   "metadata": {},
   "source": [
    "# Ein Textabenteuer entwickeln\n",
    "\n",
    "## Grundlagen\n",
    "\n",
    "Ausgabe von Text für den Benutzer. \n",
    "Wir müssen der Spielerin die Situation beschreiben und erklären was passiert. Dies geschieht mit dem Befehl `print(prompt)`. Das Wort prompt steht als Platzhalter für den Text den Sie ausgeben wollen. \n",
    "\n",
    "Meist wird direkt Textz ausgegeben. Damit der Computer versteht, ob er den Inhalt einer Variable ausgeben soll oder direkt den Text den Sie eingegeben haben, markiert man den Text durch Anführungszeichen \"Text\" oder 'Text'.  "
   ]
  },
  {
   "cell_type": "code",
   "execution_count": null,
   "metadata": {},
   "outputs": [],
   "source": [
    "print(\"Höhle des Terrors!\")"
   ]
  },
  {
   "cell_type": "markdown",
   "metadata": {},
   "source": [
    "Damit man den Titel nicht jedesmal neu schreiben muss, kann man ihn auch in eine Variable verstauen und diese ausgeben. Python ist klar, dass man den Inhalt ausgeben soll."
   ]
  },
  {
   "cell_type": "code",
   "execution_count": null,
   "metadata": {},
   "outputs": [],
   "source": [
    "titel = \"Höhle des Terrors!\"\n",
    "print(titel)"
   ]
  },
  {
   "cell_type": "markdown",
   "metadata": {},
   "source": [
    "## Anfang des Abenteuers\n",
    "\n",
    "Damit das Abenteuer starten kann muss man die Situation der Hauptperson beschreiben und diese der Spielerin bekanntgeben. Damit der Code auf dieser Seite nicht all zu gross wird, speichern wir beschreibungen in einer separaten Datei. Dies wird uns helfen den Überblick zu behalten.\n",
    "\n",
    "Damit das Spiel übersichtlich bleibt machen wir eine Datei 'descriptions.py' und speichern dort alle Beschreibungen welche wir im folgenden entwickeln werden.\n",
    "\n",
    "Damit die Daten aber im Porgramm verwendet werden können, müssen wir diese erst laden.\n",
    "\n",
    "\n",
    "~~~python\n",
    "import descriptions as dc\n",
    "~~~\n",
    "\n",
    "oder \n",
    "\n",
    "~~~python\n",
    "from decriptions import *\n",
    "~~~\n",
    "\n",
    "Mit der eresten Variante muss man jeder Variable das Kürzel dc (frei wählbar beim Import) angeben. In der zweiten Version ist dies nicht nötig, kann aber zu problemen führen wenn ein Variablenname schon benutzt wird."
   ]
  },
  {
   "cell_type": "code",
   "execution_count": 2,
   "metadata": {},
   "outputs": [
    {
     "name": "stdout",
     "output_type": "stream",
     "text": [
      " \n",
      "Hier beginnt das Abenteuer:\n",
      "Sie wachen in einer schwach beleuchteten Höhle mit starken Kopfschmerzen auf. \n",
      "Bla bla bla,\n",
      "\n"
     ]
    }
   ],
   "source": [
    "import descriptions as dc\n",
    "\n",
    "print(dc.intro)"
   ]
  },
  {
   "cell_type": "markdown",
   "metadata": {},
   "source": [
    "## Eingabe der Spielerin\n",
    "\n",
    "Ein Spiel setzt voraus, dass die Spielerin den Verlauf des Spieles beeinflussen kann. Zu diesem Zweck gibt es in Python einen Befehl `input(prompt)`. Wie bei print steht der Text prompt als Platzhalter für was auch immer wir der Spielerin genau sagen wollen.\n",
    "\n",
    "Die Eingabe muss für eine Weiterverarbeitung gespeichert werden. \n",
    "\n",
    "~~~python\n",
    "eingabe = input(\"Geben Sie etwas ein!\")\n",
    "~~~\n",
    "\n",
    "- Eingaben dieser Art werden als Text gespeichert.\n",
    "\n",
    "Der Computer nimmt nur entgegen, welche Tasten auf der Tastatur gedrückt werden."
   ]
  },
  {
   "cell_type": "code",
   "execution_count": null,
   "metadata": {},
   "outputs": [],
   "source": [
    "user_input = input(\"Type some text: \")\n",
    "print(user_input)"
   ]
  },
  {
   "cell_type": "markdown",
   "metadata": {},
   "source": []
  },
  {
   "cell_type": "code",
   "execution_count": 3,
   "metadata": {},
   "outputs": [
    {
     "name": "stdout",
     "output_type": "stream",
     "text": [
      " \n",
      "0=====================================0\n",
      "|  Flucht aus der Höhle des Terrors!  |\n",
      "0=====================================0\n",
      "\n",
      " \n",
      "Hier beginnt das Abenteuer:\n",
      "Sie wachen in einer schwach beleuchteten Höhle mit starken Kopfschmerzen auf. \n",
      "Bla bla bla,\n",
      "\n"
     ]
    },
    {
     "ename": "KeyboardInterrupt",
     "evalue": "Interrupted by user",
     "output_type": "error",
     "traceback": [
      "\u001b[0;31m---------------------------------------------------------------------------\u001b[0m",
      "\u001b[0;31mKeyboardInterrupt\u001b[0m                         Traceback (most recent call last)",
      "\u001b[0;32m<ipython-input-3-7f889c4fe710>\u001b[0m in \u001b[0;36m<module>\u001b[0;34m\u001b[0m\n\u001b[1;32m      1\u001b[0m \u001b[0mprint\u001b[0m\u001b[0;34m(\u001b[0m\u001b[0mdc\u001b[0m\u001b[0;34m.\u001b[0m\u001b[0mtitle\u001b[0m\u001b[0;34m)\u001b[0m\u001b[0;34m\u001b[0m\u001b[0;34m\u001b[0m\u001b[0m\n\u001b[1;32m      2\u001b[0m \u001b[0mprint\u001b[0m\u001b[0;34m(\u001b[0m\u001b[0mdc\u001b[0m\u001b[0;34m.\u001b[0m\u001b[0mintro\u001b[0m\u001b[0;34m)\u001b[0m\u001b[0;34m\u001b[0m\u001b[0;34m\u001b[0m\u001b[0m\n\u001b[0;32m----> 3\u001b[0;31m \u001b[0maction_input\u001b[0m \u001b[0;34m=\u001b[0m \u001b[0minput\u001b[0m\u001b[0;34m(\u001b[0m\u001b[0;34m'Aktion: '\u001b[0m\u001b[0;34m)\u001b[0m\u001b[0;34m\u001b[0m\u001b[0;34m\u001b[0m\u001b[0m\n\u001b[0m\u001b[1;32m      4\u001b[0m \u001b[0mprint\u001b[0m\u001b[0;34m(\u001b[0m\u001b[0maction_input\u001b[0m\u001b[0;34m)\u001b[0m\u001b[0;34m\u001b[0m\u001b[0;34m\u001b[0m\u001b[0m\n",
      "\u001b[0;32m/opt/jupyterhub/lib/python3.7/site-packages/ipykernel/kernelbase.py\u001b[0m in \u001b[0;36mraw_input\u001b[0;34m(self, prompt)\u001b[0m\n\u001b[1;32m    861\u001b[0m             \u001b[0mself\u001b[0m\u001b[0;34m.\u001b[0m\u001b[0m_parent_ident\u001b[0m\u001b[0;34m,\u001b[0m\u001b[0;34m\u001b[0m\u001b[0;34m\u001b[0m\u001b[0m\n\u001b[1;32m    862\u001b[0m             \u001b[0mself\u001b[0m\u001b[0;34m.\u001b[0m\u001b[0m_parent_header\u001b[0m\u001b[0;34m,\u001b[0m\u001b[0;34m\u001b[0m\u001b[0;34m\u001b[0m\u001b[0m\n\u001b[0;32m--> 863\u001b[0;31m             \u001b[0mpassword\u001b[0m\u001b[0;34m=\u001b[0m\u001b[0;32mFalse\u001b[0m\u001b[0;34m,\u001b[0m\u001b[0;34m\u001b[0m\u001b[0;34m\u001b[0m\u001b[0m\n\u001b[0m\u001b[1;32m    864\u001b[0m         )\n\u001b[1;32m    865\u001b[0m \u001b[0;34m\u001b[0m\u001b[0m\n",
      "\u001b[0;32m/opt/jupyterhub/lib/python3.7/site-packages/ipykernel/kernelbase.py\u001b[0m in \u001b[0;36m_input_request\u001b[0;34m(self, prompt, ident, parent, password)\u001b[0m\n\u001b[1;32m    902\u001b[0m             \u001b[0;32mexcept\u001b[0m \u001b[0mKeyboardInterrupt\u001b[0m\u001b[0;34m:\u001b[0m\u001b[0;34m\u001b[0m\u001b[0;34m\u001b[0m\u001b[0m\n\u001b[1;32m    903\u001b[0m                 \u001b[0;31m# re-raise KeyboardInterrupt, to truncate traceback\u001b[0m\u001b[0;34m\u001b[0m\u001b[0;34m\u001b[0m\u001b[0;34m\u001b[0m\u001b[0m\n\u001b[0;32m--> 904\u001b[0;31m                 \u001b[0;32mraise\u001b[0m \u001b[0mKeyboardInterrupt\u001b[0m\u001b[0;34m(\u001b[0m\u001b[0;34m\"Interrupted by user\"\u001b[0m\u001b[0;34m)\u001b[0m \u001b[0;32mfrom\u001b[0m \u001b[0;32mNone\u001b[0m\u001b[0;34m\u001b[0m\u001b[0;34m\u001b[0m\u001b[0m\n\u001b[0m\u001b[1;32m    905\u001b[0m             \u001b[0;32mexcept\u001b[0m \u001b[0mException\u001b[0m \u001b[0;32mas\u001b[0m \u001b[0me\u001b[0m\u001b[0;34m:\u001b[0m\u001b[0;34m\u001b[0m\u001b[0;34m\u001b[0m\u001b[0m\n\u001b[1;32m    906\u001b[0m                 \u001b[0mself\u001b[0m\u001b[0;34m.\u001b[0m\u001b[0mlog\u001b[0m\u001b[0;34m.\u001b[0m\u001b[0mwarning\u001b[0m\u001b[0;34m(\u001b[0m\u001b[0;34m\"Invalid Message:\"\u001b[0m\u001b[0;34m,\u001b[0m \u001b[0mexc_info\u001b[0m\u001b[0;34m=\u001b[0m\u001b[0;32mTrue\u001b[0m\u001b[0;34m)\u001b[0m\u001b[0;34m\u001b[0m\u001b[0;34m\u001b[0m\u001b[0m\n",
      "\u001b[0;31mKeyboardInterrupt\u001b[0m: Interrupted by user"
     ]
    }
   ],
   "source": [
    "print(dc.title)\n",
    "print(dc.intro)\n",
    "action_input = input('Aktion: ')\n",
    "print(action_input)"
   ]
  },
  {
   "cell_type": "markdown",
   "metadata": {},
   "source": [
    "## Reagieren auf Input\n",
    "\n",
    "Hat die Spielerin etwas eingegeben, sollte das Spiel entsprechend auf die Eingabe reagieren. Eine solche Entscheidung kann der Computer nur fällen, wenn die Eingabe \n",
    "\n",
    " ~~~python\n",
    "action_input = input('Action: ')\n",
    "if action_input == 'n' or action_input == 'N':\n",
    "    print(\"Go North!\")\n",
    "elif action_input == 's' or action_input == 'S':\n",
    "    print(\"Go South!\")\n",
    "elif action_input == 'e' or action_input == 'E':\n",
    "    print(\"Go East!\")\n",
    "elif action_input == 'w' or action_input == 'W':\n",
    "    print(\"Go West!\")\n",
    "else:\n",
    "    print(\"Invalid action!\")\n",
    "~~~\n",
    "\n",
    "\n"
   ]
  },
  {
   "cell_type": "code",
   "execution_count": null,
   "metadata": {},
   "outputs": [],
   "source": [
    "print(title)\n",
    "action_input = input('Action: (n,e,s,w)')\n",
    "if action_input == 'n' or action_input == 'N':\n",
    "    print(\"Go North!\")\n",
    "elif action_input == 's' or action_input == 'S':\n",
    "    print(\"Go South!\")\n",
    "elif action_input == 'e' or action_input == 'E':\n",
    "    print(\"Go East!\")\n",
    "elif action_input == 'w' or action_input == 'W':\n",
    "    print(\"Go West!\")\n",
    "else:\n",
    "    print(\"Invalid action!\")"
   ]
  },
  {
   "cell_type": "code",
   "execution_count": null,
   "metadata": {},
   "outputs": [],
   "source": [
    "def play():\n",
    "    print(\"Escape from Cave Terror!\")\n",
    "    action_input = get_player_command()\n",
    "    if action_input == 'n' or action_input == 'N':\n",
    "        print(\"Go North!\")\n",
    "    elif action_input == 's' or action_input == 'S':\n",
    "        print(\"Go South!\")\n",
    "    elif action_input == 'e' or action_input == 'E':\n",
    "        print(\"Go East!\")\n",
    "    elif action_input == 'w' or action_input == 'W':\n",
    "        print(\"Go West!\")\n",
    "    else:\n",
    "        print(\"Invalid action!\")\n",
    "\n",
    "\n",
    "def get_player_command():\n",
    "    return input('Action: ')\n",
    "\n",
    "\n",
    "play()"
   ]
  }
 ],
 "metadata": {
  "kernelspec": {
   "display_name": "Python 3",
   "language": "python",
   "name": "python3"
  },
  "language_info": {
   "codemirror_mode": {
    "name": "ipython",
    "version": 3
   },
   "file_extension": ".py",
   "mimetype": "text/x-python",
   "name": "python",
   "nbconvert_exporter": "python",
   "pygments_lexer": "ipython3",
   "version": "3.7.3"
  }
 },
 "nbformat": 4,
 "nbformat_minor": 4
}
