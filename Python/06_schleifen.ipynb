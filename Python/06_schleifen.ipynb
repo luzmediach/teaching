{
 "cells": [
  {
   "cell_type": "markdown",
   "metadata": {},
   "source": [
    "# Verzweigungen und Schleifen in Python\n",
    "\n",
    "<img src=\"https://i.imgur.com/TSH0mLP.png\" width=1000/>\n"
   ]
  },
  {
   "cell_type": "markdown",
   "metadata": {},
   "source": [
    "Dieses Tutorial behandelt die folgenden Themen:\n",
    "\n",
    "- Iteration mit \"while\"-Schleifen\n",
    "- Iteration über Container mit \"for\"-Schleifen\n",
    "- Verschachtelte Schleifen, `break` und `continue`-Anweisungen"
   ]
  },
  {
   "cell_type": "markdown",
   "metadata": {},
   "source": [
    "# Wie können wir Python dazu bringen Anweisungen mehrfach aus zu führen?\n",
    "\n",
    "Schleifen oder auch Iterationen kommen in fast allen Programmen vor. Sehr oft müssen Teile eines Programms immer und immer wieder ausgeführt werden.\n",
    "Es gibt zwei verschiedene Arten von Schleifen:\n",
    "\n",
    "- bedingungsgesteuerte Schleifen\n",
    "- zählgesteuerte Schleifen\n",
    "\n",
    "In Python haben wir auch diese zwei verschiedene Arten um Befehle zu wiederholen. \n",
    "\n",
    "## Zählschleifen\n",
    "Will man eine feste Anzahl von Wiederholungen, so schreibt man anstelle von my_list  `range(n)`. Der Befehl `range(n)` erzeugt eine Liste mit den Werten 0 bis n-1:\n",
    "~~~ python\n",
    "[0,1,2,3,...,n-1]\n",
    "~~~\n",
    "Damit können wir einfach eine Schleife machen die eine feste Anzahl von Wiederholungen durchläuft. DIe Variable nummer geht dabei jeden Wert in der Liste [0,1,2,3,4,5,6,7,8,9] durch. Die Variable `nummer` **zählt** mit, wie oft der Befehlsblock schon wiederholt wurde. Man muss aber beachtenm dass die Zählvariable in der Regel bei *Null* beginnt.\n",
    "~~~ python\n",
    "for nummer in range(10):\n",
    "    #diese Befehle werden wiederholt.\n",
    "    print(' Dies ist die ', nummer, '-te Wiederholung.')\n",
    "#wiederholung ist beendet\n",
    "~~~\n",
    "Wir können Python mitteilen, dass alles was folgt und eingerückt wurde, eine fixe Anzahl Wiederholt werden soll. Der **Doppelpunkt** gibt an, dass jetzt der Codeblock kommt der wiederholt werden muss.\n",
    "Damit Python weiss was wiederholt werden muss, rückt man alles einmal (4 Leerschläge) ein:\n",
    "\n",
    "~~~ python\n",
    "for i in range(12):\n",
    "    print(i)\n",
    "print(\"fertig\")\n",
    "~~~\n",
    "Das Programm listet die Zahlen 0 bis 11 auf und schreibt am Schluss \"fertig\" hin. Die Variablee i nimmt die Werte 0,...,11 an, in jedem Durchlauf eins mehr.\n",
    "\n",
    "#### Beispiel\n",
    "Haben wir eine Liste (my_list) mit Daten die man Schritt für Schritt durchgehen kann oder eine feste Anzahl Wieder-holungen geplant, so können wir eine for-Schleife benutzen.\n",
    "\n",
    "~~~ python\n",
    "for item in my_list:\n",
    "    # diese Befehle werden wiederholt.\n",
    "    print('Dies sind die Einträge in der Liste: ', item)\n",
    "#wiederholung ist beendet\n",
    "~~~\n",
    "\n",
    "Das Beispiel unten zeigt, wie man einen beliebigen Befehl mehrfach anwenden kann ohne ihn mehrfach zu schreiben. Die Zählvariable kann benannt werden wie man will. Diese Zahlvariable nimmt in diesem Beispiel die Werte 0, 1, 2 und 3 an. \n",
    "Die Variable `name` wir bei jedem Durchgang überschrieben."
   ]
  },
  {
   "cell_type": "code",
   "execution_count": null,
   "metadata": {},
   "outputs": [],
   "source": [
    "for juhui in range(4):\n",
    "    name = input(f\"Namen? {juhui}\")\n",
    "print(\"fertig\")"
   ]
  },
  {
   "cell_type": "markdown",
   "metadata": {},
   "source": [
    "### Aufgaben\n",
    "1. **30 Hallo** Schreiben Sie ein Programm das \"Hallo Welt!\" 30mal ausdruckt.\n",
    "2. **Namen** Schreiben Sie Programm, das Benutzer nach dem Namen fragt und wie oft er wiederholt werden soll. Anschliessend wird der eingegebene Name so oft wiederholt wie es gewünscht wurde.\n",
    "> Denken sie daran die Eingabe in eine ganze Zahl zu verwandeln\n"
   ]
  },
  {
   "cell_type": "code",
   "execution_count": null,
   "metadata": {},
   "outputs": [],
   "source": [
    "#Aufgabe 1\n"
   ]
  },
  {
   "cell_type": "code",
   "execution_count": null,
   "metadata": {
    "scrolled": true
   },
   "outputs": [],
   "source": [
    "#Aufgabe 2\n"
   ]
  },
  {
   "cell_type": "markdown",
   "metadata": {},
   "source": [
    "## Iteration mit `while`-Schleifen\n",
    "\n",
    "Eine weitere mächtige Funktion von Programmiersprachen, die eng mit der Verzweigung zusammenhängt, ist die mehrfache Ausführung einer oder mehrerer Anweisungen. Diese Funktion wird oft als *Iteration* oder *Looping* bezeichnet, und es gibt zwei Möglichkeiten, dies in Python zu tun: mit `while`-Schleifen und `for`-Schleifen. \n",
    "\n",
    "`while`-Schleifen haben die folgende Syntax:\n",
    "\n",
    "```python\n",
    "while Bedingung:\n",
    "    # wiederholen\n",
    "    print(\"Dies wird wiederholt\")\n",
    "#wiederholung beendet\n",
    "```\n",
    "\n",
    "Die Anweisungen im Codeblock unter `while` werden wiederholt ausgeführt, solange die `Bedingung` als `True` ausgewertet wird. Im Allgemeinen ändert eine der Anweisungen unter `while` eine Variable, die bewirkt, dass die Bedingung nach einer bestimmten Anzahl von Iterationen auf `False` ausgewertet wird.\n",
    "\n",
    "### Bedingungen\n",
    "Mit Bedingungen steuern wir, ob ein Befehlsblock wiederholt wird oder nicht. Eine Bedingung ist dabei ein Ausdruck, den der Computer entscheiden kann ob er wahr (`True`) oder falsch (`False`) ist.\n",
    "~~~ python\n",
    "a == 3        # zwei Gleichheitszeichen damit es keine Zuordnung wird!\n",
    "3 <= 4\n",
    "a > 5\n",
    "a != 'ja'     # nicht gleich\n",
    "'e' in a\n",
    "~~~\n",
    "\n",
    "Versuchen wir, die Fakultät von `15` mit Hilfe einer `while`-Schleife zu berechnen. Die Fakultät einer Zahl `n` ist das Produkt (Multiplikation) aller Zahlen von `1` bis `n`, d.h. `1*2*3*...*(n-2)*(n-1)*n`.\n",
    "\n",
    "\n",
    "~~~python\n",
    "result = 1\n",
    "i = 1\n",
    "\n",
    "while i <= 15:\n",
    "    result = result * i\n",
    "    i = i+1\n",
    "\n",
    "print(f'Die Fakultät von 15 ist: {result}')\n",
    "~~~\n"
   ]
  },
  {
   "cell_type": "code",
   "execution_count": null,
   "metadata": {},
   "outputs": [],
   "source": [
    "result = 1\n",
    "i = 1\n",
    "\n",
    "while i <= 15:\n",
    "    result = result * i\n",
    "    i = i+1\n",
    "\n",
    "print(f'Die Fakultät von 15 ist: {result}')"
   ]
  },
  {
   "cell_type": "markdown",
   "metadata": {},
   "source": [
    "[Visualisierung](https://pythontutor.com/visualize.html#code=result%20%3D%201%0Ai%20%3D%201%0A%0Awhile%20i%20%3C%3D%2015%3A%0A%20%20%20%20result%20%3D%20result%20*%20i%0A%20%20%20%20i%20%3D%20i%2B1%0A%0Aprint%28f'Die%20Fakult%C3%A4t%20von%20100%20ist%3A%20%7Bresult%7D'%29&cumulative=false&curInstr=0&heapPrimitives=nevernest&mode=display&origin=opt-frontend.js&py=3&rawInputLstJSON=%5B%5D&textReferences=false)\n",
    "\n",
    "Der obige Code funktioniert folgendermaßen:\n",
    "\n",
    "* Wir initialisieren zwei Variablen, `Ergebnis` und `i`. `Ergebnis` enthält das Endergebnis. Und `i` wird verwendet, um die nächste Zahl zu verfolgen, die mit `Ergebnis` multipliziert wird. Beide sind auf 1 initialisiert (können Sie erklären, warum?)\n",
    "\n",
    "* Die Bedingung `i <= 100` ist erfüllt (da `i` anfangs `1` ist), also wird der `while` Block ausgeführt.\n",
    "\n",
    "* Das `Ergebnis` wird zu `Ergebnis * i` aktualisiert, `i` wird um `1` erhöht und hat nun den Wert `2`.\n",
    "\n",
    "* An diesem Punkt wird die Bedingung `i <= 100` erneut ausgewertet. Da sie weiterhin erfüllt ist, wird `Ergebnis` erneut auf `Ergebnis * i` aktualisiert, und `i` wird auf `3` erhöht.\n",
    "\n",
    "* Dieser Vorgang wird wiederholt, bis die Bedingung falsch wird, was geschieht, wenn `i` den Wert `101` hat. Sobald die Bedingung `False` ergibt, endet die Ausführung der Schleife und die darunter liegende Anweisung `print` wird ausgeführt. \n",
    "\n",
    "Können Sie erkennen, warum `result` am Ende den Wert der Fakultät von 100 enthält? Wenn nicht, versuchen Sie, innerhalb des \"while\"-Blocks \"print\"-Anweisungen einzufügen, um \"result\" und \"i\" in jeder Iteration zu drucken.\n",
    "\n",
    "\n",
    "> Iteration ist eine mächtige Technik, weil sie Computern einen enormen Vorteil gegenüber Menschen verschafft, indem sie Tausende oder sogar Millionen von sich wiederholenden Operationen sehr schnell ausführen kann. Mit nur 4-5 Zeilen Code konnten wir 100 Zahlen fast augenblicklich multiplizieren. Mit demselben Code lassen sich tausend Zahlen in wenigen Sekunden multiplizieren (man muss nur die Bedingung in \"i <= 1000\" ändern).\n",
    "\n",
    "Sie können überprüfen, wie lange eine Zelle für die Ausführung braucht, indem Sie den *magischen* Befehl `%%time` am Anfang einer Zelle einfügen. Probieren Sie aus, wie lange es dauert, die Fakultät von `100`, `1000`, `10000`, `100000` usw. zu berechnen. "
   ]
  },
  {
   "cell_type": "code",
   "execution_count": null,
   "metadata": {},
   "outputs": [],
   "source": [
    "%%time\n",
    "\n",
    "result = 1\n",
    "i = 1\n",
    "\n",
    "while i <= 1000:\n",
    "    result *= i # same as result = result * i\n",
    "    i += 1 # same as i = i+1\n",
    "\n",
    "print(result)"
   ]
  },
  {
   "cell_type": "markdown",
   "metadata": {},
   "source": [
    "Hier ist ein weiteres Beispiel, das zwei \"while\"-Schleifen verwendet, um ein interessantes Muster zu erstellen."
   ]
  },
  {
   "cell_type": "markdown",
   "metadata": {},
   "source": [
    "## Aufgaben\n",
    "1. **Passwort** Schreiben Sie ein Programm das den Benutzer nach einem Passwort fragt und erst aufhört, wenn man das richtige Passwort eingegeben hat. Benutzen sie eine while-Schleife.\n",
    "   \n",
    "1. **Million** Schreiben Sie ein Programm welches eine eingegebene Zahl so lange verdoppelt bis die Zahl grösser ist als 1 Million. Beginnen sie mit einer Zahl zwischen 1 und 10. In einer `while-Schleife` wird die Zahl verdoppelt und unter dem gleichen Namen gespeichert und ausgegeben. Die Schleife wird wiederholt, solange (*while*) die Zahl kleiner ist als 1e6."
   ]
  },
  {
   "cell_type": "code",
   "execution_count": null,
   "metadata": {},
   "outputs": [],
   "source": [
    "# Aufgabe 1"
   ]
  },
  {
   "cell_type": "code",
   "execution_count": null,
   "metadata": {},
   "outputs": [],
   "source": [
    "# Aufgabe 2"
   ]
  },
  {
   "cell_type": "markdown",
   "metadata": {},
   "source": [
    "## Unendliche Schleifen\n",
    "\n",
    "Angenommen, die Bedingung in einer `while`-Schleife ist immer erfüllt. In diesem Fall führt Python den Code innerhalb der Schleife immer wieder aus, und die Ausführung des Codes wird nie abgeschlossen. Diese Situation nennt man eine Endlosschleife. Sie zeigt im Allgemeinen an, dass Sie einen Fehler in Ihrem Code gemacht haben. Sie könnten zum Beispiel die falsche Bedingung angegeben oder vergessen haben, eine Variable innerhalb der Schleife zu aktualisieren, wodurch die Bedingung schließlich verfälscht wurde.\n",
    "\n",
    "Wenn Ihr Code während der Ausführung in einer Endlosschleife *feststeckt*, drücken Sie einfach die Schaltfläche \"Stopp\" in der Symbolleiste (neben \"Ausführen\") oder wählen Sie \"Kernel > Unterbrechen\" in der Menüleiste. Dadurch wird die Ausführung des Codes *unterbrochen*. Die folgenden beiden Zellen führen beide zu Endlosschleifen und müssen unterbrochen werden."
   ]
  },
  {
   "cell_type": "code",
   "execution_count": null,
   "metadata": {},
   "outputs": [],
   "source": [
    "# INFINITE LOOP - INTERRUPT THIS CELL\n",
    "\n",
    "result = 1\n",
    "i = 1\n",
    "\n",
    "while i <= 100:\n",
    "    result = result * i\n",
    "    # forgot to increment i"
   ]
  },
  {
   "cell_type": "code",
   "execution_count": null,
   "metadata": {},
   "outputs": [],
   "source": [
    "# INFINITE LOOP - INTERRUPT THIS CELL\n",
    "\n",
    "result = 1\n",
    "i = 1\n",
    "\n",
    "while i > 0 : # wrong condition\n",
    "    result *= i\n",
    "    i += 1"
   ]
  },
  {
   "cell_type": "markdown",
   "metadata": {},
   "source": [
    "### Ausbrechen aus einer Schleife `break` und `continue` Anweisungen\n",
    "\n",
    "Sie können die Anweisung `break` innerhalb des Schleifenkörpers verwenden, um die Ausführung sofort zu stoppen und aus der Schleife auszubrechen (auch wenn die Bedingung für `while` noch erfüllt ist)."
   ]
  },
  {
   "cell_type": "code",
   "execution_count": null,
   "metadata": {},
   "outputs": [],
   "source": [
    "i = 1\n",
    "result = 1\n",
    "\n",
    "while i <= 100:\n",
    "    result *= i\n",
    "    if i == 42:\n",
    "        print('Magic number 42 reached! Stopping execution..')\n",
    "        break\n",
    "    i += 1\n",
    "    \n",
    "print('i:', i)\n",
    "print('result:', result)"
   ]
  },
  {
   "cell_type": "markdown",
   "metadata": {},
   "source": [
    "Wie Sie oben sehen können, ist der Wert von `i` am Ende der Ausführung 42. Dieses Beispiel zeigt auch, wie Sie eine \"if\"-Anweisung innerhalb einer \"while\"-Schleife verwenden können.\n",
    "\n",
    "Manchmal möchte man die Schleife nicht ganz beenden, sondern einfach die verbleibenden Anweisungen in der Schleife überspringen und mit der nächsten Schleife *fortfahren*. Dies können Sie mit der Anweisung `continue` erreichen."
   ]
  },
  {
   "cell_type": "code",
   "execution_count": null,
   "metadata": {},
   "outputs": [],
   "source": [
    "i = 1\n",
    "result = 1\n",
    "\n",
    "while i < 20:\n",
    "    i += 1\n",
    "    if i % 2 == 0:\n",
    "        print(f'Überspringe {i}')\n",
    "        continue\n",
    "    print(f'Multipliziere {i}')\n",
    "    result = result * i\n",
    "    \n",
    "print('i:', i)\n",
    "print('result:', result)"
   ]
  },
  {
   "cell_type": "markdown",
   "metadata": {},
   "source": [
    "Im obigen Beispiel wird die Anweisung `Ergebnis = Ergebnis * i` innerhalb der Schleife übersprungen, wenn `i` gerade ist, wie aus den während der Ausführung ausgegebenen Meldungen hervorgeht.\n",
    "\n",
    "> **Protokollierung**: Der Prozess des Hinzufügens von \"print\"-Anweisungen an verschiedenen Stellen im Code (oft innerhalb von Schleifen und bedingten Anweisungen), um die Werte von Variablen in verschiedenen Phasen der Ausführung zu überprüfen, wird als Protokollierung bezeichnet. Wenn unsere Programme größer werden, werden sie natürlich anfällig für menschliche Fehler. Die Protokollierung kann dabei helfen, zu überprüfen, ob das Programm wie erwartet funktioniert. In vielen Fällen werden \"print\"-Anweisungen beim Schreiben und Testen von Code hinzugefügt und später wieder entfernt."
   ]
  },
  {
   "cell_type": "markdown",
   "metadata": {},
   "source": [
    "## Iteration mit \"for\"-Schleifen\n",
    "\n",
    "Eine \"for\"-Schleife wird zur Iteration oder Schleifenbildung über Sequenzen, d.h. Listen, Tupel, Dictionaries, Strings und *Ranges* verwendet. For-Schleifen haben die folgende Syntax:\n",
    "\n",
    "```python\n",
    "for Wert in Sequenz:\n",
    "    Anweisung(en)\n",
    "```\n",
    "\n",
    "Die Anweisungen innerhalb der Schleife werden für jedes Element in `Sequence` einmal ausgeführt. Hier ist ein Beispiel, das alle Elemente einer Liste ausgibt."
   ]
  },
  {
   "cell_type": "code",
   "execution_count": null,
   "metadata": {},
   "outputs": [],
   "source": [
    "days = ['Monday', 'Tuesday', 'Wednesday', 'Thursday', 'Friday']\n",
    "\n",
    "for day in days:\n",
    "    print(day)"
   ]
  },
  {
   "cell_type": "markdown",
   "metadata": {},
   "source": [
    "Versuchen wir die Verwendung von `for`-Schleifen mit einigen anderen Datentypen."
   ]
  },
  {
   "cell_type": "code",
   "execution_count": null,
   "metadata": {},
   "outputs": [],
   "source": [
    "# Looping over a string\n",
    "for char in 'Monday':\n",
    "    print(char)"
   ]
  },
  {
   "cell_type": "code",
   "execution_count": null,
   "metadata": {},
   "outputs": [],
   "source": [
    "# Looping over a tuple\n",
    "for fruit in ['Apple', 'Banana', 'Guava']:\n",
    "    print(\"Here's a fruit:\", fruit)"
   ]
  },
  {
   "cell_type": "code",
   "execution_count": null,
   "metadata": {},
   "outputs": [],
   "source": [
    "# Looping over a dictionary\n",
    "person = {\n",
    "    'name': 'John Doe',\n",
    "    'sex': 'Male',\n",
    "    'age': 32,\n",
    "    'married': True\n",
    "}\n",
    "\n",
    "for key in person:\n",
    "    print(\"Key:\", key, \",\", \"Value:\", person[key])"
   ]
  },
  {
   "cell_type": "markdown",
   "metadata": {},
   "source": [
    "Beachten Sie, dass bei der Verwendung eines Wörterbuchs mit einer `for`-Schleife die Iteration über die Schlüssel des Wörterbuchs erfolgt. Der Schlüssel kann innerhalb der Schleife verwendet werden, um auf den Wert zuzugreifen. Sie können auch direkt über die Werte mit der Methode `values` oder über Schlüssel-Wert-Paare mit der Methode `items` iterieren."
   ]
  },
  {
   "cell_type": "code",
   "execution_count": null,
   "metadata": {},
   "outputs": [],
   "source": [
    "for value in person.values():\n",
    "    print(value)"
   ]
  },
  {
   "cell_type": "code",
   "execution_count": null,
   "metadata": {},
   "outputs": [],
   "source": [
    "for key_value_pair in person.items():\n",
    "    print(key_value_pair)"
   ]
  },
  {
   "cell_type": "markdown",
   "metadata": {},
   "source": [
    "Da ein Schlüssel-Wert-Paar ein Tupel ist, können wir den Schlüssel und den Wert auch in separate Variablen extrahieren."
   ]
  },
  {
   "cell_type": "code",
   "execution_count": null,
   "metadata": {},
   "outputs": [],
   "source": [
    "for key, value in person.items():\n",
    "    print(\"Key:\", key, \",\", \"Value:\", value)"
   ]
  },
  {
   "cell_type": "markdown",
   "metadata": {},
   "source": [
    "### Iterieren mit `range`\n",
    "\n",
    "Die Funktion \"range\" wird verwendet, um eine Folge von Zahlen zu erstellen, die in einer \"for\"-Schleife durchlaufen werden kann. Sie kann auf 3 Arten verwendet werden:\n",
    " \n",
    "* `range(n)` - Erzeugt eine Folge von Zahlen von `0` bis `n-1`.\n",
    "* `range(a, b)` - Erzeugt eine Folge von Zahlen von `a` bis `b-1`.\n",
    "* `range(a, b, step)` - Erzeugt eine Folge von Zahlen von `a` bis `b-1` mit Schritten von `step`\n",
    "\n",
    "Probieren wir es aus."
   ]
  },
  {
   "cell_type": "code",
   "execution_count": null,
   "metadata": {},
   "outputs": [],
   "source": [
    "for i in range(7):\n",
    "    print(i)"
   ]
  },
  {
   "cell_type": "code",
   "execution_count": null,
   "metadata": {},
   "outputs": [],
   "source": [
    "for i in range(3, 10):\n",
    "    print(i)"
   ]
  },
  {
   "cell_type": "code",
   "execution_count": null,
   "metadata": {},
   "outputs": [],
   "source": [
    "for i in range(3, 14, 4):\n",
    "    print(i)"
   ]
  },
  {
   "cell_type": "markdown",
   "metadata": {},
   "source": [
    "Ranges werden für die Iteration über Listen verwendet, wenn Sie den Index der Elemente während der Iteration verfolgen müssen."
   ]
  },
  {
   "cell_type": "code",
   "execution_count": null,
   "metadata": {},
   "outputs": [],
   "source": [
    "a_list = ['Monday', 'Tuesday', 'Wednesday', 'Thursday', 'Friday']\n",
    "\n",
    "for i in range(len(a_list)):\n",
    "    print('The value at position {} is {}.'.format(i, a_list[i]))"
   ]
  },
  {
   "cell_type": "markdown",
   "metadata": {},
   "source": [
    "Eine andere Möglichkeit, das gleiche Ergebnis zu erzielen, ist die Verwendung der Funktion `enumerate` mit `a_list` als Eingabe, die ein Tupel mit dem Index und dem entsprechenden Element zurückgibt."
   ]
  },
  {
   "cell_type": "code",
   "execution_count": null,
   "metadata": {},
   "outputs": [],
   "source": [
    "for i, val in enumerate(a_list):\n",
    "    print('The value at position {} is {}.'.format(i, val))"
   ]
  },
  {
   "cell_type": "markdown",
   "metadata": {},
   "source": [
    "### `break`, `continue` und `pass` Anweisungen\n",
    "\n",
    "Ähnlich wie `while`-Schleifen unterstützen auch `for`-Schleifen die Anweisungen `break` und `continue`. Mit `break` wird die Schleife unterbrochen und mit `continue` wird zur nächsten Iteration übersprungen."
   ]
  },
  {
   "cell_type": "code",
   "execution_count": null,
   "metadata": {},
   "outputs": [],
   "source": [
    "weekdays = ['Monday', 'Tuesday', 'Wednesday', 'Thursday', 'Friday']"
   ]
  },
  {
   "cell_type": "code",
   "execution_count": null,
   "metadata": {},
   "outputs": [],
   "source": [
    "for day in weekdays:\n",
    "    print('Today is {}'.format(day))\n",
    "    if (day == 'Wednesday'):\n",
    "        print(\"I don't work beyond Wednesday!\")\n",
    "        break"
   ]
  },
  {
   "cell_type": "code",
   "execution_count": null,
   "metadata": {},
   "outputs": [],
   "source": [
    "for day in weekdays:\n",
    "    if (day == 'Wednesday'):\n",
    "        print(\"I don't work on Wednesday!\")\n",
    "        continue\n",
    "    print('Today is {}'.format(day))"
   ]
  },
  {
   "cell_type": "markdown",
   "metadata": {},
   "source": [
    "Wie `if`-Anweisungen können auch `for`-Schleifen nicht leer sein. Sie können also eine `pass`-Anweisung verwenden, wenn Sie keine Anweisungen innerhalb der Schleife ausführen wollen."
   ]
  },
  {
   "cell_type": "code",
   "execution_count": null,
   "metadata": {},
   "outputs": [],
   "source": [
    "for day in weekdays:\n",
    "    pass"
   ]
  },
  {
   "cell_type": "markdown",
   "metadata": {},
   "source": [
    "### Verschachtelte `for`- und `while`-Schleifen\n",
    "\n",
    "Ähnlich wie bei bedingten Anweisungen können Schleifen in andere Schleifen verschachtelt werden. Dies ist nützlich für Schleifen von Listen, Wörterbüchern usw."
   ]
  },
  {
   "cell_type": "code",
   "execution_count": null,
   "metadata": {},
   "outputs": [],
   "source": [
    "persons = [{'name': 'John', 'sex': 'Male'}, {'name': 'Jane', 'sex': 'Female'}]\n",
    "\n",
    "for person in persons:\n",
    "    for key in person:\n",
    "        print(key, \":\", person[key])\n",
    "    print(\" \")"
   ]
  },
  {
   "cell_type": "code",
   "execution_count": null,
   "metadata": {},
   "outputs": [],
   "source": [
    "days = ['Monday', 'Tuesday', 'Wednesday']\n",
    "fruits = ['apple', 'banana', 'guava']\n",
    "\n",
    "for day in days:\n",
    "    for fruit in fruits:\n",
    "        print(day, fruit)"
   ]
  },
  {
   "cell_type": "markdown",
   "metadata": {},
   "source": [
    "### Aufgabe\n",
    "\n",
    "1. **Summe** Der Benutzer gibt eine ganze Zahl ein. Das Programm berechnet die Summe der Zahlen bis zur eingegebenen Zahl in einer Schleife. \n",
    "1. **Ratespiel** Der Computer erzeugt eine Zufallszahl zwischen 1 und 100. Nun darf der Benutzer raten, welches die gespeicherte Zahl ist. Es wird zurück gegeben, ob die geratene Zahl zu klein oder zu gross war. Das Programm soll mitzählen, wie oft geraten werden musste."
   ]
  },
  {
   "cell_type": "code",
   "execution_count": null,
   "metadata": {},
   "outputs": [],
   "source": [
    "# Aufgabe Summe"
   ]
  },
  {
   "cell_type": "code",
   "execution_count": null,
   "metadata": {},
   "outputs": [],
   "source": [
    "#Aufgabe Ratespiel\n",
    "import random as rd\n",
    "\n",
    "geheim_zahl = rd.randrange(1,100)\n",
    "# hier den rest des Programms schreiben"
   ]
  },
  {
   "cell_type": "markdown",
   "metadata": {},
   "source": [
    "## Weitere Lektüre und Referenzen\n",
    "\n",
    "Wir haben in wenigen Tutorials eine Menge Stoff behandelt. \n",
    "\n",
    "Im Folgenden finden Sie einige Quellen, um mehr über bedingte Anweisungen und Schleifen in Python zu erfahren:\n",
    "\n",
    "* Python-Tutorial bei W3Schools: https://www.w3schools.com/python/\n",
    "* Praktische Python-Programmierung: https://dabeaz-course.github.io/practical-python/Notes/Contents.html\n",
    "* Offizielle Python-Dokumentation: https://docs.python.org/3/tutorial/index.html\n",
    "\n"
   ]
  },
  {
   "cell_type": "code",
   "execution_count": null,
   "metadata": {},
   "outputs": [],
   "source": []
  }
 ],
 "metadata": {
  "kernelspec": {
   "display_name": "Python 3",
   "language": "python",
   "name": "python3"
  },
  "language_info": {
   "codemirror_mode": {
    "name": "ipython",
    "version": 3
   },
   "file_extension": ".py",
   "mimetype": "text/x-python",
   "name": "python",
   "nbconvert_exporter": "python",
   "pygments_lexer": "ipython3",
   "version": "3.7.3"
  }
 },
 "nbformat": 4,
 "nbformat_minor": 4
}
