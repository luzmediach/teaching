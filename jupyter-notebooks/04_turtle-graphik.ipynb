{
 "cells": [
  {
   "cell_type": "markdown",
   "metadata": {},
   "source": [
    "# Turtle mit Jupyter\n",
    "\n",
    "![Imgur](https://i.imgur.com/1Lx0t66.png)\n",
    "\n",
    "[github.com/gkvoelkl/ipython-turtle-widget](https://github.com/gkvoelkl/ipython-turtle-widget)\n",
    "\n",
    "In diesem Abschnitt lernen Sie die Grundbegriffe um mit Turtle-Graphik Bilder zu erzeugen. Befehle für diese Aufgabe findet man in der Bibliothek `ipyturtle`. Mit dieser Bibliothek können wir eine *Schildkröte* erzeugen welche beim Bewegen eine Spur hinterlässt. \n",
    "\n",
    "Damit wir die Bibliothek benutzen können müssen wir sie erst laden. Im Anschluss müssen wir unsere eigenen Schildkröte erzeugen. Dies macht man mit dem Befehl `Turtle()`"
   ]
  },
  {
   "cell_type": "markdown",
   "metadata": {},
   "source": [
    "## Grundlagen\n",
    "\n",
    "Turtle-Graphics ist eine einfache Umgebung um Graphiken zu erzeugen. Es gibt diese Umgebung als eigene Sprache Logo aber auch als Modul in Python. \n",
    "Ein Modul ist einfach gesagt eine Python-Datei mit vorgefertigten Befehlen die man weiterbenutzen darf. Man kann eigene Module erstellen, es gibt aber sehr viele Module/Bibliotheken.\n",
    "\n",
    "~~~python\n",
    "from ipyturtle import *\n",
    "sam = Turtle(width=300, height=300)\n",
    "sam\n",
    "~~~\n",
    "\n",
    "Mit der ersten Zeile laden wir die benötigten Befehle, die zweite Zeile erzeugt die Schildkröte und gibt an, wie gross die Zeichenfläche sein soll.\n",
    "Mit der letzten Zeile gibt man den Befehl, dass sich die Schildkröte mit dem Namen `sam`.  Sie können irgend einen Namen für die Schildkröte wählen. Meist wird nur einfach `t` gewählt, damit man nicht zu viel schreiben muss.\n"
   ]
  },
  {
   "cell_type": "code",
   "execution_count": 17,
   "metadata": {},
   "outputs": [
    {
     "data": {
      "application/vnd.jupyter.widget-view+json": {
       "model_id": "32cf14e98f7d4e19995c0adf6e72ed73",
       "version_major": 2,
       "version_minor": 0
      },
      "text/plain": [
       "Turtle()"
      ]
     },
     "metadata": {},
     "output_type": "display_data"
    }
   ],
   "source": [
    "from ipyturtle import *\n",
    "sam = Turtle(width=400, height=400)\n",
    "sam"
   ]
  },
  {
   "cell_type": "code",
   "execution_count": 9,
   "metadata": {},
   "outputs": [],
   "source": [
    "sam.reset()\n",
    "sam.forward(50)\n",
    "sam.right(60)\n",
    "sam.forward(30)\n",
    "sam.pencolor(105,139,34)\n",
    "sam.forward(30)\n",
    "sam.back(30)"
   ]
  },
  {
   "cell_type": "markdown",
   "metadata": {},
   "source": [
    "Der Befehl bewirkt nichts von aussen sichtbares. Die Schildkröte mit Namen *sam* ist nun bereit und erwartet unsere Befehle. Die wichtigsten Befehle sind:\n",
    "\n",
    "| Befehl | Parameter | Bedeutung |\n",
    "|  --- | ---     | :---     |\n",
    "| sam.reset() |  - | leert die Zeichnungsfläche |\n",
    "| sam.forward(length) | Schrittlänge | Bewegt die Schildkröte length Schritte vorwärts |\n",
    "| sam.back(length) | Schrittlänge | Bewegt sie Schildkröte length Schritte rückwärts |\n",
    "| sam.left(alpha) | Winkel | Dreht die Schildkröte um alpha Grad nach links |\n",
    "| sam.right(alpha) | Winkel | Dreht die Schildkröte um alpha Grad nach rechts |\n",
    "| sam.penup() | | Stift anheben, ab jetzt wird nicht mehr gezeichnet.|\n",
    "| sam.pendown()| | Stift senken, ab jetzt wird gezeichnet. |\n",
    "| sam.pencolor(r,g,b) | Stiftfarbe | RGB-Werte |\n",
    "\n",
    "\n",
    "\n",
    ">Natürlich schreiben sie anstelle von sam den Namen ihrer Schildkröte.\n",
    "\n",
    "\n",
    "Beispiele für Farbcodes findet man hier: (https://www.farb-tabelle.de/de/farbtabelle.htm). Für den Farbwert muss man angeben, wie der Bildschirm die Farbe mischen muss. \n",
    "Jeder der Werte r,g und b nimmt einen der Zahlenwerte zwischen 0 und 255 an. Man kann die Werte auch als Hexadezimalwerte 0x00 - 0xFF angeben. "
   ]
  },
  {
   "cell_type": "code",
   "execution_count": null,
   "metadata": {},
   "outputs": [],
   "source": [
    "sam.reset()\n",
    "sam.pencolor(0x00,0x00,0x00)\n",
    "sam.forward(100)"
   ]
  },
  {
   "cell_type": "markdown",
   "metadata": {},
   "source": [
    "### Aufgaben \n",
    "\n",
    "\n",
    "1. **Figur** Zeichnen Sie die vorgegebene Figur nach. Die Schildkröte startet in der Mitte. Bei der letzten Drehung wurde um 60° gedreht.\n",
    "![Imgur](https://i.imgur.com/MR4arps.png)\n",
    "1. **Quadrat** Zeichnen Sie ein Quadrat mit Seitenlänge 100.\n",
    "1. **Blume** Zeichnen Sie die folgende Blume. Die Anzahl der Blütenblätter darf man gerne etwas herabsetzen.\n",
    "![Imgur](https://i.imgur.com/ViyxW4p.png)\n",
    "\n",
    "1. **Quadrate** Zeichen Sie eine Linie aus 5 Quadraten mit Seitenlänge 20.\n",
    "![Imgur](https://i.imgur.com/UEW9wIL.png)\n",
    "\n",
    "1. **Ecken der Quadrate** Versuchen Sie die folgende Figur zu zeichnen:\n",
    "![Imgur](https://i.imgur.com/LYnBViD.png)"
   ]
  },
  {
   "cell_type": "code",
   "execution_count": null,
   "metadata": {},
   "outputs": [],
   "source": [
    "#Aufgabe Figur\n"
   ]
  },
  {
   "cell_type": "code",
   "execution_count": 14,
   "metadata": {},
   "outputs": [],
   "source": [
    "#Aufgabe Quadrat\n"
   ]
  },
  {
   "cell_type": "code",
   "execution_count": null,
   "metadata": {},
   "outputs": [],
   "source": [
    "#Aufgabe Blume\n"
   ]
  },
  {
   "cell_type": "code",
   "execution_count": null,
   "metadata": {},
   "outputs": [],
   "source": [
    "#Aufgabe Quadrate\n"
   ]
  },
  {
   "cell_type": "code",
   "execution_count": null,
   "metadata": {},
   "outputs": [],
   "source": [
    "#Aufgabe Ecken der Quadrate\n"
   ]
  },
  {
   "cell_type": "markdown",
   "metadata": {},
   "source": [
    "## Schleifen mit range()\n",
    "\n",
    "Anstelle von der Reihe von Befehlen können wir auch hier längere Befehlslisten abkürzen:\n",
    "\n",
    "~~~python\n",
    "sam.right(90)\n",
    "sam.forward(100)\n",
    "sam.right(90)\n",
    "sam.forward(100)\n",
    "sam.right(90)\n",
    "sam.forward(100)\n",
    "sam.right(90)\n",
    "sam.forward(100)\n",
    "~~~\n",
    "\n",
    "wird zu \n",
    "\n",
    "~~~python\n",
    "for i in range(4):\n",
    "    sam.right(90)\n",
    "    sam.forward(100)\n",
    "~~~\n",
    "\n",
    "Die Variable `i` zählt dabei die Durchläufe mit. Achten Sie darauf, dass jede Schleife dieser Art innerhalb einer anderen Schleife eine eigene Zählvariable hat. \n",
    "\n",
    "Der Befehl range(4) erzeugt eine Liste mit den Einträgen [0,1,2,3]. Die Variable i geht diese vier Werte durch. Alles was in der Schleife steht wird womit viermal wiederholt.\n",
    "Damit der Computer weis, welcher Teil wiederholt werden soll, rückt man diesen Teil um 4 Leerzeichen ein. Dies wird in Python mit dem *Doppelpunkt* am Ende der Zeile angekündigt.\n",
    "Wird nicht mehr eingerückt bedeutet dies, dass der weitere Code nicht wiederholt werden sollte.\n",
    "\n",
    "> Ein Programmierer sucht in seinem Code Strukturen die sich wiederholen. Diese kann man in einer Schleife zusammenfassen. Auf diese Weise wird der Code kürzer und übersichtlicher.\n",
    "\n"
   ]
  },
  {
   "cell_type": "code",
   "execution_count": null,
   "metadata": {},
   "outputs": [],
   "source": []
  },
  {
   "cell_type": "markdown",
   "metadata": {},
   "source": [
    "## Aufgaben\n",
    "\n",
    "1. Schreiben Sie das Programm 4(Quadrate) mit Schleifen. Wie viele Zeilen Code konnten sie in diesem Beispiel sparen? (Im Menu >View kann man die Zeilennummern einblenden lassen.)\n",
    "\n",
    "1. **Fenster** Schreiben Sie ein Programm welches das folgende Fenster zeichnet. Es werden einige Linien doppelt gezeichnet. Die Seitenlänge eines kleinen Quadrates ist 50 Einheiten.\n",
    "   ![Fenster](https://i.imgur.com/ul6tZdt.png)\n",
    "\n",
    "1. **Treppe** Zeichnen Sie eine Treppe mit 5 Stufen. Wie viele Zeilen Code haben sie gebraucht?\n",
    "![Treppe](https://i.imgur.com/d0T2apF.png)\n",
    "\n",
    "1. **individuelle Treppe** Erweitern Sie ihr Treppenprogramm so, dass der Benutzer eingeben kann wie viele Stufen gezeichnet werden sollen.\n",
    "\n",
    "1. **Burgzinnen** Erstellen Sie ein Programm welches eine solche Burgzinne zeichnet. Höhe einer Zinne: 20, Breite einer Zinne: 30\n",
    "![Imgur](https://i.imgur.com/EMhK32g.png)"
   ]
  },
  {
   "cell_type": "code",
   "execution_count": null,
   "metadata": {},
   "outputs": [],
   "source": []
  },
  {
   "cell_type": "code",
   "execution_count": null,
   "metadata": {},
   "outputs": [],
   "source": []
  },
  {
   "cell_type": "code",
   "execution_count": null,
   "metadata": {},
   "outputs": [],
   "source": []
  },
  {
   "cell_type": "code",
   "execution_count": null,
   "metadata": {},
   "outputs": [],
   "source": []
  },
  {
   "cell_type": "code",
   "execution_count": null,
   "metadata": {},
   "outputs": [],
   "source": []
  }
 ],
 "metadata": {
  "kernelspec": {
   "display_name": "Python 3",
   "language": "python",
   "name": "python3"
  },
  "language_info": {
   "codemirror_mode": {
    "name": "ipython",
    "version": 3
   },
   "file_extension": ".py",
   "mimetype": "text/x-python",
   "name": "python",
   "nbconvert_exporter": "python",
   "pygments_lexer": "ipython3",
   "version": "3.7.3"
  }
 },
 "nbformat": 4,
 "nbformat_minor": 4
}
