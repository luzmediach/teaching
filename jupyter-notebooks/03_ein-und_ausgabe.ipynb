{
 "cells": [
  {
   "cell_type": "markdown",
   "metadata": {},
   "source": [
    "# Das E.V.A. Prinzip\n",
    "In diesem Abschnitt lernen wir, wie man den Benutzer eines Programmes nach Informationen fragt und diese im Programm speichert. \n",
    "#### Eingabe\n",
    "- Eingabe von Text\n",
    "- Eingabe von ganzen Zahlen\n",
    "- Eingabe von Dezimalzahlen\n",
    "    \n",
    "#### Ausgabe\n",
    "\n",
    "- Ausgabe mit dem Print-Befehl\n",
    "- Text und Variablenwerte mischen\n",
    "\n",
    "## Eingabe, Verarbeitung und Ausgabe\n",
    "\n",
    "**Alle** Programme welche wir im folgenden erstellen werden funktionieren nach dem E.V.A.-Prinzip. Vor der Verarbeitung müssen Daten eingegeben oder gelesen werden. Erst im Anschluss können diese Verarbeitet oder Verrechnet werden. \n",
    "\n",
    "Die Ergebnisse können natürlich erst nach der Verarbeitung ausgegeben werden."
   ]
  },
  {
   "cell_type": "markdown",
   "metadata": {},
   "source": [
    "## Eingabe von Daten\n",
    "Die meisten Programme brauchen einen Input des Benutzers. Der einfachste Weg ist den Benutzer nach einer Eingabe zu fragen. Die Eingabe muss aber für die weitere Verwendung in einer Variable gespeichert werden.\n",
    "~~~ python\n",
    "wert = input(\"Geben Sie einen Text ein: \")\n",
    "~~~\n",
    "Die Eingabe des Benutzers wird in der Variable Wert als Text gespeichert. Ist die Eingabe eine Zahl, so muss man dies entsprechend Vorbereiten.\n",
    "~~~ python\n",
    "wert = int(input(\"Geben Sie eine ganze Zahl ein:\"))\n",
    "~~~\n",
    "Die Funktion `int()` wandelt die Eingabe in eine ganze Zahl um. Dies natürlich nur, wenn der Benutzer einen «brauchbaren» Wert eingegeben hat. Sollte die Eingabe eine Zahl mit Kommastellen sein, so sieht die Funktion etwas anders aus:\n",
    "~~~ python\n",
    "wert = float(input(\"Geben Sie eine ganze Zahl ein:\"))\n",
    "~~~\n",
    "`float()` ist die Bezeichnung für eine beliebige Dezimalzahl. Die Eingabe wird entsprechend umgewandelt.\n",
    "## Ausgabe\n",
    "Um Werte und Texte ausgeben zu können, brauchen wir den Befehl `print()`. Will man einen Text ausgeben, so muss dieser durch Anführungszeichen eingeschlossen werden. Das Programm muss den Text von möglichen Variablen unterscheiden können.\n",
    "~~~ python\n",
    "print(\"Text für die Ausgabe\")\n",
    "print(f\"Ausgabe mit einer Variable {wert} mit einer anderen {wert2}\")\n",
    "~~~\n",
    "Der Wert der Variable wird bei der Ausgabe in den Platzhalter **`{}`** eingesetzt."
   ]
  },
  {
   "cell_type": "code",
   "execution_count": null,
   "metadata": {},
   "outputs": [],
   "source": [
    "name = input(\"Bitte gib mir einen Namen: \")\n",
    "print(f\"Dein Name ist: {name}\")"
   ]
  },
  {
   "cell_type": "code",
   "execution_count": null,
   "metadata": {},
   "outputs": [],
   "source": [
    "zahl = int(input(\"Gib mir eine Zahl: \"))\n",
    "print(zahl*10)"
   ]
  },
  {
   "cell_type": "markdown",
   "metadata": {},
   "source": [
    "Für zwei Variabeln muss man einfach alle Werte in Format auflisten und für jedes einen Platzhalter {} einfügen."
   ]
  },
  {
   "cell_type": "code",
   "execution_count": null,
   "metadata": {},
   "outputs": [],
   "source": [
    "a=2\n",
    "b=3\n",
    "print(f\"Die beiden Werte sind {a} und {b}\")"
   ]
  },
  {
   "cell_type": "markdown",
   "metadata": {},
   "source": [
    "## Beispiel Kletterseil\n",
    "\n",
    "Wir sollen für den Kletterklub Seile kaufen. 10 Meter Seil kosten 2.5CHF. Das Programm soll nachfragen wie viel Geld ausgegeben werden soll und anschliessend angeben, wie viele Meter Kletterseil damit gekauft werden kann. \n",
    "\n",
    "- Benutzer fragen nach dem Geldbetrag\n",
    "- Anzahl Meter berechnen\n",
    "- Ausgeben\n",
    "\n",
    "> Bedenken sie, dass man nur Einheit von 10m kaufen kann."
   ]
  },
  {
   "cell_type": "code",
   "execution_count": null,
   "metadata": {},
   "outputs": [],
   "source": [
    "# Eingabe der Daten\n",
    "\n",
    "#Umrechnung\n",
    "\n",
    "#Ausgabe"
   ]
  },
  {
   "cell_type": "markdown",
   "metadata": {},
   "source": [
    "### Zylinder\n",
    "Wir wollen ein Programm schreiben welches den Radius und die Höhe eines Zylinders entgegen nimmt und das Volumen und die Oberfläche ausgibt.\n",
    "\n",
    "Man kann weder die Oberfläche noch das Volumen berechnen ohne die Werte zu kennen. Wir müssen somit als erstes diese Werte erfragen. Wir gehen davon aus, dass der Benutzer sinnvolle Werte eingibt. Die Ausgabe kann auch erst gemacht werden nach der Berechnung der Ausgabewerte. Für die Berechnung brauchen wir die folgenden Formeln:\n",
    "\n",
    "$$ O = 2\\cdot \\pi \\cdot r^2 + 2\\cdot\\pi \\cdot r \\cdot h$$\n",
    "$$ \\pi \\cdot r^2 \\cdot h  = V$$\n",
    "\n",
    "In der Formel kommt $\\pi$ vor. Entwerder geben wir einen ungefähren Wert von Hand ein oder wir benutzen die Bibliothek `math`. Diese brauchen wir immer dann, wenn mathematisch 'anspruchsvollere' Formeln benutzt werden.\n",
    "\n",
    "~~~python\n",
    "import math\n",
    "\n",
    "# Eingabe der Masse. Beide Zahlen könnnen Dezimalzahlen (float) sein.\n",
    "radius = float(input(\"Geben Sie bitte den Radius des Zylinders an: \"))\n",
    "hoehe = float(input(\"Geben Sie bitte die Höhe des Zylinders an: \"))\n",
    "\n",
    "# Berechnung der Ausgabegrössen\n",
    "volumen = math.pi*radius**2 * hoehe\n",
    "oberflaeche = 2*math.pi*radius**2 + 2*radius*hoehe*math.pi\n",
    "\n",
    "# Ausgabe der Ergebnisse (4 signifikante Stellen)\n",
    "print(f\"Das Volumen eines Zylinders mit Radius r={radius} und Höhe h={hoehe} ist V = {volumen:.4}\")\n",
    "print(f\"Die Oberfläche einer Zylinders mit Radius r={radius} und Höhe h={hoehe} ist O = {oberflaeche:.4}\")\n",
    "\n",
    "~~~"
   ]
  },
  {
   "cell_type": "code",
   "execution_count": 13,
   "metadata": {},
   "outputs": [
    {
     "name": "stdout",
     "output_type": "stream",
     "text": [
      "Geben Sie bitte den Radius des Zylinders an: 2\n",
      "Geben Sie bitte die Höhe des Zylinders an: 45\n",
      "Das Volumen eines Zylinders mit Radius r=2.0 und Höhe h=45.0 ist V = 565.5\n",
      "Die Oberfläche einer Zylinders mit Radius r=2.0 und Höhe h=45.0 ist O = 590.6\n"
     ]
    }
   ],
   "source": [
    "import math\n",
    "\n",
    "# Eingabe der Masse. Beide Zahlen könnnen Dezimalzahlen (float) sein.\n",
    "radius = float(input(\"Geben Sie bitte den Radius des Zylinders an: \"))\n",
    "hoehe = float(input(\"Geben Sie bitte die Höhe des Zylinders an: \"))\n",
    "\n",
    "# Berechnung der Ausgabegrössen\n",
    "volumen = math.pi*radius**2 * hoehe\n",
    "oberflaeche = 2*math.pi*radius**2 + 2*radius*hoehe*math.pi\n",
    "\n",
    "# Ausgabe der Ergebnisse\n",
    "print(f\"Das Volumen eines Zylinders mit Radius r={radius} und Höhe h={hoehe} ist V = {volumen:.4}\")\n",
    "print(f\"Die Oberfläche einer Zylinders mit Radius r={radius} und Höhe h={hoehe} ist O = {oberflaeche:.4}\")\n"
   ]
  },
  {
   "cell_type": "markdown",
   "metadata": {},
   "source": [
    "Der Aufbau aller dieser kleinen Aufgaben ist immer gleich: \n",
    "1. Werte entgegen nehmen (int/float/string)\n",
    "2. Ausgabewerte berechnen\n",
    "3. Werte ausgeben"
   ]
  },
  {
   "cell_type": "markdown",
   "metadata": {},
   "source": [
    "## Aufgaben\n",
    "1. **Begrüssung** Schreiben Sie ein kurzes Programm das den Benutzer nach dem Vornamen und anschliessend nach dem Nachnamen fragt. Das Programm soll beide Namen zusammen ausgeben.\n",
    "2. **Potenzrechnung** Das Programm soll nach zwei ganzen Zahlen ,Basis und Exponent, fragen und das Ergebnis der Rechnung ausgeben.\n",
    "3. **Wochen und Tage** Machen Sie ein Programm das die eingegebene Anzahl Tage umrechnet in Anzahl ganze Wochen und wie viele Resttage. Sie brauchen dazu die ganzzahlige Division `tage//7`. Mit dem Befehl `tage%7` kann man berechnen wie viele Tage übrig sind.\n",
    "4. **Schokolade** Der Benutzer soll eingeben, wie viel Geld er/sie für Schokolade ausgeben möchte. Das Programm gibt aus, wie viel Tafel sie kaufen können. Eine Tafel kostet 0.8 CHF.\n"
   ]
  },
  {
   "cell_type": "code",
   "execution_count": null,
   "metadata": {},
   "outputs": [],
   "source": []
  },
  {
   "cell_type": "code",
   "execution_count": null,
   "metadata": {},
   "outputs": [],
   "source": [
    "#aufgabe 1\n"
   ]
  },
  {
   "cell_type": "code",
   "execution_count": null,
   "metadata": {},
   "outputs": [],
   "source": [
    "#aufgabe 2\n"
   ]
  },
  {
   "cell_type": "code",
   "execution_count": null,
   "metadata": {},
   "outputs": [],
   "source": [
    "#aufgabe3 \n"
   ]
  },
  {
   "cell_type": "code",
   "execution_count": null,
   "metadata": {},
   "outputs": [],
   "source": [
    "#aufgabe4\n"
   ]
  }
 ],
 "metadata": {
  "kernelspec": {
   "display_name": "Python 3",
   "language": "python",
   "name": "python3"
  },
  "language_info": {
   "codemirror_mode": {
    "name": "ipython",
    "version": 3
   },
   "file_extension": ".py",
   "mimetype": "text/x-python",
   "name": "python",
   "nbconvert_exporter": "python",
   "pygments_lexer": "ipython3",
   "version": "3.7.3"
  }
 },
 "nbformat": 4,
 "nbformat_minor": 2
}
