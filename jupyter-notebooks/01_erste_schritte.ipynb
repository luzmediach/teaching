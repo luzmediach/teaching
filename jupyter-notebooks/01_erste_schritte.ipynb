{
 "cells": [
  {
   "cell_type": "markdown",
   "metadata": {},
   "source": [
    "# Erste Schritte mit Python und Jupyter\n",
    "\n",
    "\n",
    "<img src=\"https://i.imgur.com/AoitOuy.png\" alt=\"drawing\" width=\"800\"/>"
   ]
  },
  {
   "cell_type": "markdown",
   "metadata": {},
   "source": [
    "\n",
    "Dieser Abschnitt behandelt die folgenden Themen:\n",
    "\n",
    "* Rechenoperationen in Python durchführen\n",
    "* Probleme in mehreren Schritten ausführen mit Variablen\n",
    "* Bedingungen in Python auswerten\n",
    "* Bedingungen mit logischen Operatoren kombinieren\n",
    "* Markdown benutzen\n"
   ]
  },
  {
   "cell_type": "markdown",
   "metadata": {},
   "source": [
    "### Wie man den Code ausführt\n",
    "\n",
    "Dieses Tutorial ist ein ausführbares [Jupyter-Notizbuch](https://jupyter.org), das auf einem Server der Schule gehostet wird (keine Sorge, wenn Ihnen diese Begriffe nicht geläufig sind; wir werden bald mehr darüber lernen). \n",
    "\n",
    "**Jupyter-Notebooks**: Dieses Tutorial ist ein [Jupyter-Notebook](https://jupyter.org) - ein Dokument, das aus _Zellen_ besteht. Jede Zelle kann in Python geschriebenen Code oder Erklärungen in einfachem Englisch enthalten. Sie können Codezellen ausführen und die Ergebnisse, z. B. Zahlen, Meldungen, Diagramme, Tabellen, Dateien usw., sofort innerhalb des Notizbuchs anzeigen. Jupyter ist eine leistungsstarke Plattform für Experimente und Analysen. Scheuen Sie sich nicht, mit dem Code herumzuspielen und Dinge kaputt zu machen - Sie werden viel lernen, wenn Sie auf Fehler stoßen und diese beheben. Sie können die Menüoption \"Kernel > Restart & Clear Output\" verwenden, um alle Ausgaben zu löschen und wieder von vorne zu beginnen.\n"
   ]
  },
  {
   "cell_type": "markdown",
   "metadata": {},
   "source": [
    "## Arithmetische Operationen mit Python durchführen\n",
    "\n",
    "Beginnen wir damit, Python als Taschenrechner zu verwenden. Sie können Python mit Hilfe einer Codezelle in Jupyter schreiben und ausführen. \n",
    "\n",
    "> **Arbeiten mit Zellen**: Um eine neue Zelle in Jupyter zu erstellen, können Sie in der Menüleiste \"Einfügen > Zelle unten einfügen\" wählen oder einfach die Schaltfläche `+` in der Symbolleiste drücken. Sie können auch die Tastenkombination `Esc+B` verwenden, um eine neue Zelle zu erstellen. Sobald eine Zelle erstellt ist, klicken Sie darauf, um sie auszuwählen. Sie können dann den Zellentyp über die Menüoption `Zelle > Zellentyp` in Code oder Markdown (Text) ändern. Sie können auch die Tastaturkürzel `Esc+Y` und `Esc+M` verwenden. Doppelklicken Sie auf eine Zelle, um den Inhalt der Zelle zu bearbeiten. Um Ihre Änderungen zu übernehmen und eine Zelle auszuführen, verwenden Sie die Menüoption \"Zelle > Zellen ausführen\" oder klicken Sie auf die Schaltfläche \"Ausführen\" in der Symbolleiste oder verwenden Sie einfach die Tastenkombination \"Umschalt+Eingabe\". Eine vollständige Liste der Tastaturkürzel finden Sie unter dem Menüpunkt `Hilfe > Tastaturkürzel`.\n",
    "\n",
    "Führen Sie die nachstehenden Code-Zellen aus, um Berechnungen durchzuführen und deren Ergebnis zu sehen. Versuchen Sie, die Zahlen zu ändern und führen Sie die geänderten Zellen erneut aus, um die aktualisierten Ergebnisse zu sehen. Können Sie erraten, wofür die Operatoren `//`, `%` und `**` verwendet werden?\n"
   ]
  },
  {
   "cell_type": "code",
   "execution_count": null,
   "metadata": {},
   "outputs": [],
   "source": [
    "2 + 3 + 9"
   ]
  },
  {
   "cell_type": "code",
   "execution_count": null,
   "metadata": {},
   "outputs": [],
   "source": [
    "99 - 73"
   ]
  },
  {
   "cell_type": "code",
   "execution_count": null,
   "metadata": {
    "scrolled": true
   },
   "outputs": [],
   "source": [
    "23.54 * -1432"
   ]
  },
  {
   "cell_type": "code",
   "execution_count": null,
   "metadata": {},
   "outputs": [],
   "source": [
    "100 / 7"
   ]
  },
  {
   "cell_type": "code",
   "execution_count": null,
   "metadata": {},
   "outputs": [],
   "source": [
    "100 // 7"
   ]
  },
  {
   "cell_type": "code",
   "execution_count": null,
   "metadata": {},
   "outputs": [],
   "source": [
    "100 % 7"
   ]
  },
  {
   "cell_type": "code",
   "execution_count": null,
   "metadata": {},
   "outputs": [],
   "source": [
    "5 ** 3"
   ]
  },
  {
   "cell_type": "markdown",
   "metadata": {},
   "source": [
    "Wie sie es sich gewohnt sind werden erst die Operationen `/` und `*` ausgewertet bevor die anderen Operationen ausgeführt werden. Wie in der Mathematik üblich kann man Klammern `(` und `)` setzen um die Reihenfolge der Operationen steuern möchte.  "
   ]
  },
  {
   "cell_type": "code",
   "execution_count": 1,
   "metadata": {},
   "outputs": [
    {
     "data": {
      "text/plain": [
       "1.53125"
      ]
     },
     "execution_count": 1,
     "metadata": {},
     "output_type": "execute_result"
    }
   ],
   "source": [
    "((2 + 5) * (17 - 3)) / (4 ** 3)"
   ]
  },
  {
   "cell_type": "markdown",
   "metadata": {},
   "source": [
    "Python unterstützt die folgenden arithmetischen Operationen\n",
    "\n",
    "| Operator   | Purpose           | Example     | Result    |\n",
    "|------------|-------------------|-------------|-----------|\n",
    "| `+`        | Addition          | `2 + 3`     | `5`       |\n",
    "| `-`        | Subtraktion       | `3 - 2`     | `1`       |\n",
    "| `*`        | Multiplikation    | `8 * 12`    | `96`      |\n",
    "| `/`        | Division          | `100 / 7`   | `14.28..` |\n",
    "| `//`       | ganzzahlige Division    | `100 // 7`  | `14`      |    \n",
    "| `%`        | Modulus/Rest | `100 % 7`   | `2`       |\n",
    "| `**`       | Exponent          | `5 ** 3`    | `125`     |\n",
    "\n",
    "\n",
    "Versuchen sie die folgenden Aufgaben hier zu lösen:\n",
    "<a href=\"https://ksenge.sharepoint.com/:b:/r/sites/informatik/unterlagen_sus/Freigegebene%20Dokumente/programmieren/ArithmetischeAufgabenPython.pdf?csf=1&web=1&e=C1U2DZ\"> Übungsaufgaben</a>. \n",
    "\n",
    "Benutzen Sie die leeren Zellen unten für die Berechnung. Sie können auch weitere leere Zellen einfügen.\n",
    "\n",
    "1. Die Einwohnerzahl einer Stadt beträgt 198568. Von ihnen sind 45312 Männer und 35678 Frauen. Ermitteln Sie die Anzahl der Kinder in der Stadt.\n",
    "2. Ein Ladenbesitzer hat 2425 Schachteln mit je 24 Bleistiften. Wie viele Bleistifte enthalten die Schachteln insgesamt?\n",
    "3. Linda hat einen Mantel für 2265 CHF und einen Saree für 2150 CHF gekauft. Sie hat dem Ladenbesitzer 5000 CHF  gegeben. Wie viel Geld hat der Ladenbesitzer ihr zurückgegeben?\n",
    "4. Die Kosten für 21 Fernsehgeräte betragen 95844 CHF. Finden Sie die Kosten eines Fernsehers.\n",
    "5. Eine Fabrik produziert 24532 Glühbirnen in einem Monat. Wie hoch ist ihre Jahresproduktion?\n",
    "6. In einem Lagerhaus befinden sich 145968 Säcke Zucker, 236487 Säcke Weizen und einige Säcke Reis. Wenn die Gesamtzahl der Säcke in der Lagerhalle 450000 beträgt, finden Sie die Anzahl der Reissäcke.\n",
    "7. Eine Fabrik hat in drei Wochen 483685 Spielzeuge hergestellt. Die Produktion in der ersten Woche betrug 146345 Spielzeuge und in der zweiten Woche 138152 Spielzeuge. Ermitteln Sie die Produktion in der dritten Woche.\n"
   ]
  },
  {
   "cell_type": "code",
   "execution_count": null,
   "metadata": {},
   "outputs": [],
   "source": []
  },
  {
   "cell_type": "code",
   "execution_count": null,
   "metadata": {},
   "outputs": [],
   "source": []
  },
  {
   "cell_type": "code",
   "execution_count": null,
   "metadata": {},
   "outputs": [],
   "source": []
  },
  {
   "cell_type": "code",
   "execution_count": null,
   "metadata": {},
   "outputs": [],
   "source": []
  },
  {
   "cell_type": "markdown",
   "metadata": {},
   "source": [
    "## Lösen von Textaufgaben in mehreren Schritten\n",
    "\n",
    "Versuchen wir die folgende Textaufgabe mit Python zu lösen: \n",
    "\n",
    "> Ein Lebensmittelgeschäft verkauft einen Beutel Eis für  CHF 1.25 und macht damit 20% Profit. Das Geschäft verkauft heute 500 Beutel Eis, wie viel Gewinn in CHF wird damit erzielt?\n",
    "\n",
    "Wir listen alle gegebenen Informationen auf und versuchen die Textaufgabe in einen mathematischen Ausdruckt zu verwandeln. Diesen mathematischen Ausdruck kann Python für uns auswerten. \n",
    "\n",
    "- *Kosten eines Eisbeutels (CHF)* = 1.25\n",
    "- *Profit * = 20% = .2\n",
    "- *Profit pro Beutel (CHF)* = profit  * Kosten pro Beutel = .2 * 1.25\n",
    "- *Anzahl Beutel* = 500\n",
    "- *Total Profit* = Anzahl Beutel * Profit pro Beutel = 500 * (.2 * 1.25)"
   ]
  },
  {
   "cell_type": "code",
   "execution_count": null,
   "metadata": {},
   "outputs": [],
   "source": [
    "500 * (.2 * 1.25)"
   ]
  },
  {
   "cell_type": "markdown",
   "metadata": {},
   "source": [
    "Das Geschäft macht also 125 CHF Gewinn. Dies ist zwar ein korrekter und sinnvoller Weg die Aufgabe zu lösen, man sieht der Codezelle aber nicht an, was genau gemacht wurde und warum. Wir können den verschiedenen Zahlenwerten einen Namen zuordnen damit wir den Code besser lesen können: *Variablen* .\n",
    "\n",
    "> **Variablen**: Arbeitet man mit einer Programmiersprache wie Python, speichert man Informationen in *Variablen*. Stellen sie sich Variablen vor als Behälter in welchen Informationen, texte, Zahlenwerte etc. abgelegt werden können. Über den Namen dieses Behälters kann man den *Wert* darin abrufen."
   ]
  },
  {
   "cell_type": "code",
   "execution_count": null,
   "metadata": {},
   "outputs": [],
   "source": [
    "kosten_pro_eisbeutel = 1.25"
   ]
  },
  {
   "cell_type": "code",
   "execution_count": null,
   "metadata": {},
   "outputs": [],
   "source": [
    "profit_prozent = .2"
   ]
  },
  {
   "cell_type": "code",
   "execution_count": null,
   "metadata": {},
   "outputs": [],
   "source": [
    "anzahl_beutel = 500"
   ]
  },
  {
   "cell_type": "markdown",
   "metadata": {},
   "source": [
    "Die Variablen `kosten_pro_eisbeutel`, `profit_prozent`, und `anzahl_beutel` enthalten nun die Informationen welche in der Textaufgabe angegeben wurden. Wir können dies kontrollieren indem wir den Namen einer Variable in eine Codezelle eingeben. Mit arithmetischen Operationen können wir nun die Werte der Variablen verarbeiten.\n",
    "\n",
    "> **Codevervollständigung**: Tippt man den Namen einer existierenden Variable in eine Codezelle in Jupyter, so muss man nur die ersten paar Buchstaben eingeben und die `Tab`-Taste drücken. Jupyter vervollständigt automatisch den ganzen Variablenname oder gibt eine Liste von möglichen Variablen an. Tippt man `anz` + `Tab` so ergänzt Jupyter und schreibt den ganzen Namen der Variable `anzahl_beutel`."
   ]
  },
  {
   "cell_type": "code",
   "execution_count": null,
   "metadata": {},
   "outputs": [],
   "source": [
    "profit_prozent"
   ]
  },
  {
   "cell_type": "code",
   "execution_count": null,
   "metadata": {},
   "outputs": [],
   "source": [
    "profit_pro_beutel = kosten_pro_eisbeutel * profit_prozent"
   ]
  },
  {
   "cell_type": "code",
   "execution_count": null,
   "metadata": {},
   "outputs": [],
   "source": [
    "profit_pro_beutel"
   ]
  },
  {
   "cell_type": "code",
   "execution_count": null,
   "metadata": {},
   "outputs": [],
   "source": [
    "total_profit = profit_pro_beutel * anzahl_beutel"
   ]
  },
  {
   "cell_type": "code",
   "execution_count": null,
   "metadata": {},
   "outputs": [],
   "source": [
    "total_profit"
   ]
  },
  {
   "cell_type": "markdown",
   "metadata": {},
   "source": [
    "Versucht man den Wert einer Variable zu sehen welche noch nicht *definiert* wurde, d.h. es gab noch keine Codezeile der Form `variablen_name = wert`, so erhält man von Python eine **Fehlermeldung**.\n",
    "\n",
    "<img src=\"https://i.imgur.com/WUAbCGz.png\" width= 500 />\n",
    "\n"
   ]
  },
  {
   "cell_type": "code",
   "execution_count": null,
   "metadata": {},
   "outputs": [],
   "source": [
    "net_profit"
   ]
  },
  {
   "cell_type": "markdown",
   "metadata": {},
   "source": [
    "Das Speichern und Verarbeiten von Daten mit sinnvoll gewählten Variablennamen ist ein guter Weg zu erklären, was der Code genau macht.\n",
    "\n",
    "Wollen wir das Ergebnis einer Berechnung benutzerfreundlich ausgeben, so benutzen wir die *Funktion* `print`.\n",
    "\n",
    "> **Funktionen**: Eine Funktion ist eine wiederverwendbare Liste von Anweisungen. Sie kann mehrere Eingaben entgegen nehmen, Operationen durchführen und gibt oft ein Ergebnis zurück. Python bietet viele eingabuete Funktionen an, wie zum Beispiel `print`. Später werden wir eigenen solche Befehle definieren."
   ]
  },
  {
   "cell_type": "code",
   "execution_count": null,
   "metadata": {},
   "outputs": [],
   "source": [
    "print(f\"Das Lebensmittelgeschäft macht einen Gewinn von {total_profit} CHF!\")"
   ]
  },
  {
   "cell_type": "markdown",
   "metadata": {},
   "source": [
    "> **`print`**: Der `print` Befehl wird benutzt um Informationen darzustellen und auszugeben. Der Befehl kann einen oder mehr  Eingabewerte entgegen nehmen, welche Texte sein können (innerhalb von Anführungsstrichen), Zahlen, Variablen, mathematische Ausdrücke und weiteres sein.\n",
    "\n",
    ">Das `f` vor dem ersten Anführungsstrich gibt an, dass im Text einen Teil durch den Wert einer Variable ersetzt werden muss. Diese Stelle ist duch `{}` markiert und enthält den Namen der Variable deren Wert dort benutzt werden soll: `total_profit`.\n",
    "\n",
    "Wir werden dies später noch genauer anschauen. \n",
    "\n",
    "Für jede Variable und jeden mathematischen Ausdruck zu erstellen ist sehr mühsam. Glücklicherweise kann man mit Jupyter auch mehrere Zeilen Code in eine Codezelle schreiben. Das Ergebnis der letzten Codezeile wird als Ausgabe angezeigt. Dies können wir ändern mit dem `print`-Befehl. \n",
    "\n",
    "Schreiben wir die Lösung der Textaufgabe in einer einzelnen Codeblock."
   ]
  },
  {
   "cell_type": "code",
   "execution_count": null,
   "metadata": {},
   "outputs": [],
   "source": [
    "# Speichern von Daten in Variablen\n",
    "kosten_pro_beutel = 1.25\n",
    "profit_prozent = .2\n",
    "anzahl_beutel = 500\n",
    "\n",
    "# Berechnungen durchführen\n",
    "profit_pro_beutel = kosten_pro_beutel * profit_prozent\n",
    "total_profit = anzahl_beutel * profit_pro_beutel\n",
    "\n",
    "# Ausgabe des Resultats\n",
    "print(f\"Das Lebensmittelgeschäft macht einen Gewinn von {total_profit} CHF\")"
   ]
  },
  {
   "cell_type": "markdown",
   "metadata": {},
   "source": [
    "Beachten Sie, dass wir das Zeichen `#` benutzen um *Kommentare* innerhabl des Codes zu machen. \n",
    "\n",
    "> **Kommentare**: Kommentare und Leerzeilen werden während der Ausführung des Codes ignoriert, sie sind aber eine grosse Hilfe für Personen welche den Code verstehen wollen. Dies schliesst auch sie selbst ein. Es gibt Kommentare in einer Zeile (am Ende des Codes), auf separaten Zeilen oder gar über mehrere Zeilen\n",
    "\n",
    "Kommentare auf einer Zeile oder am Ende einer Codezeile beginnen mit `#`. Mehrzeiliger Kommentar wird mit drei Anführungsstrichen `\"\"\"` begonnen und beendet.\n"
   ]
  },
  {
   "cell_type": "code",
   "execution_count": null,
   "metadata": {},
   "outputs": [],
   "source": [
    "meine_lieblingszahl = 1 # ein einzeiliger Kommentar"
   ]
  },
  {
   "cell_type": "code",
   "execution_count": null,
   "metadata": {},
   "outputs": [],
   "source": [
    "# Kommentar auf einer eigenen Zeile\n",
    "my_least_favorite_number = 3"
   ]
  },
  {
   "cell_type": "code",
   "execution_count": null,
   "metadata": {},
   "outputs": [],
   "source": [
    "\"\"\"Dies ist ein mehrzeiliger Kommentar.\n",
    "Schreiben Sie so wenig oder so viel, wie Sie möchten.\n",
    "\n",
    "Kommentare sind sehr hilfreich für andere, die Ihren Code lesen.\n",
    "Ihren Code lesen, aber versuchen Sie, sie kurz und knapp zu halten.\n",
    "\n",
    "Wenn Sie außerdem gute Variablennamen verwenden, ist Ihr Code\n",
    "oft selbsterklärend, und Sie brauchen vielleicht nicht einmal Kommentare!\n",
    "\"\"\"\n",
    "a_neutral_number = 5"
   ]
  },
  {
   "cell_type": "markdown",
   "metadata": {},
   "source": [
    "\n",
    "\n",
    "> **Aufgabe**: Ein Reiseunternehmen möchte ein Flugzeug auf die Bahamas fliegen. Der Flug mit dem Flugzeug kostet 5000 CHF. Bislang haben sich 29 Personen für die Reise angemeldet. Wenn das Unternehmen 200 CHF pro Ticket verlangt, wie hoch ist dann der Gewinn des Unternehmens? Erstellen Sie Variablen für jede numerische Größe und verwenden Sie geeignete Rechenoperationen."
   ]
  },
  {
   "cell_type": "code",
   "execution_count": null,
   "metadata": {},
   "outputs": [],
   "source": [
    "flug_kosten = 5000"
   ]
  },
  {
   "cell_type": "code",
   "execution_count": null,
   "metadata": {},
   "outputs": [],
   "source": [
    "flug_gaeste = 29"
   ]
  },
  {
   "cell_type": "code",
   "execution_count": null,
   "metadata": {},
   "outputs": [],
   "source": [
    "preis_pro_ticket = 200"
   ]
  },
  {
   "cell_type": "code",
   "execution_count": null,
   "metadata": {},
   "outputs": [],
   "source": [
    "(preis_pro_ticket*flug_gaeste -flug_kosten)"
   ]
  },
  {
   "cell_type": "markdown",
   "metadata": {},
   "source": [
    "## Bedingungen auswerten mit Python\n",
    "\n",
    "Neben arithmetischen Operationen bietet Python auch die Möglichkeit Zahlen und Variablen zu vergleichen.\n",
    "\n",
    "| Operator    | Description                                                     |\n",
    "|-------------|-----------------------------------------------------------------|\n",
    "| `==`        | Kontrolle, ob die Operanden gleich sind                          |\n",
    "| `!=`        | Kontrolle, ob die Operanden verschieden sind                    |\n",
    "| `>`         | Kontrolle, ob der linke Operand grösser ist als der rechte Operand            |\n",
    "| `<`         | Kontrolle, ob der linke Operand kleiner ist als der rechte Operand               |\n",
    "| `>=`        | Kontrolle, ob der linke Operand grösser oder gleich ist als der rechte Operand   |\n",
    "| `<=`        | Kontrolle, ob der linke Operand kleiner oder gleich ist als der rechte Operand   |\n",
    "\n",
    "Das Resultat eines solchen Vergleichs ist entweder `True` (Wahr) oder `False` (Falsch). Bitte beachten sie, dass die Grossbuchstaben.\n",
    "\n",
    "![](https://i.imgur.com/47B6DJH.png)\n",
    "\n",
    "Versuchen wir ein paar Experimente mit den Vergleichsoperatoren."
   ]
  },
  {
   "cell_type": "code",
   "execution_count": null,
   "metadata": {},
   "outputs": [],
   "source": [
    "my_favorite_number = 17\n",
    "my_least_favorite_number = 5\n",
    "a_neutral_number = 3"
   ]
  },
  {
   "cell_type": "code",
   "execution_count": null,
   "metadata": {},
   "outputs": [],
   "source": [
    "# Equality check - True\n",
    "my_favorite_number == 1"
   ]
  },
  {
   "cell_type": "code",
   "execution_count": null,
   "metadata": {},
   "outputs": [],
   "source": [
    "# Equality check - False\n",
    "my_favorite_number == my_least_favorite_number"
   ]
  },
  {
   "cell_type": "code",
   "execution_count": null,
   "metadata": {},
   "outputs": [],
   "source": [
    "# Not equal check - True\n",
    "my_favorite_number != a_neutral_number"
   ]
  },
  {
   "cell_type": "code",
   "execution_count": null,
   "metadata": {},
   "outputs": [],
   "source": [
    "# Not equal check - False\n",
    "a_neutral_number != 3"
   ]
  },
  {
   "cell_type": "code",
   "execution_count": null,
   "metadata": {},
   "outputs": [],
   "source": [
    "# Greater than check - True\n",
    "my_least_favorite_number > a_neutral_number"
   ]
  },
  {
   "cell_type": "code",
   "execution_count": null,
   "metadata": {},
   "outputs": [],
   "source": [
    "# Greater than check - False\n",
    "my_favorite_number > my_least_favorite_number"
   ]
  },
  {
   "cell_type": "code",
   "execution_count": null,
   "metadata": {},
   "outputs": [],
   "source": [
    "# Less than check - True\n",
    "my_favorite_number < 10"
   ]
  },
  {
   "cell_type": "code",
   "execution_count": null,
   "metadata": {},
   "outputs": [],
   "source": [
    "# Less than check - False\n",
    "my_least_favorite_number < my_favorite_number"
   ]
  },
  {
   "cell_type": "code",
   "execution_count": null,
   "metadata": {},
   "outputs": [],
   "source": [
    "# Greater than or equal check - True\n",
    "my_favorite_number >= 1"
   ]
  },
  {
   "cell_type": "code",
   "execution_count": null,
   "metadata": {},
   "outputs": [],
   "source": [
    "# Greater than or equal check - False\n",
    "my_favorite_number >= 3"
   ]
  },
  {
   "cell_type": "code",
   "execution_count": null,
   "metadata": {},
   "outputs": [],
   "source": [
    "# Less than or equal check - True\n",
    "3 + 6 <= 9"
   ]
  },
  {
   "cell_type": "code",
   "execution_count": null,
   "metadata": {},
   "outputs": [],
   "source": [
    "# Less than or equal check - False\n",
    "my_favorite_number + a_neutral_number <= 3"
   ]
  },
  {
   "cell_type": "markdown",
   "metadata": {},
   "source": [
    "Wie auch bei arithmetischen Operationen , kann man das Resultat einer Vergleichsoperation in einer Variable speichern."
   ]
  },
  {
   "cell_type": "code",
   "execution_count": null,
   "metadata": {},
   "outputs": [],
   "source": [
    "cost_of_ice_bag = 1.25\n",
    "is_ice_bag_expensive = cost_of_ice_bag >= 10\n",
    "print(\"Is the ice bag expensive?\", is_ice_bag_expensive)"
   ]
  },
  {
   "cell_type": "markdown",
   "metadata": {},
   "source": [
    "## Kombination von Bedingungen mit logischen Operatoren\n",
    "\n",
    "\n",
    "Die logischen Operatoren `and`, `or` und `not` wirken auf die logischen Werte `True` & `False` (auch bekannt als *booleans*). `and` und `or` arbeiten mit zwei Operanden, `not` nur mit einem Operanden.\n",
    "\n",
    "Der `and` Operator liefert `True` nur, wenn beide Operanden `True` sind. In allen anderen Fällen ist das Ergebnis `False`.\n",
    "\n",
    "| `a`     | `b`    | `a and b` |\n",
    "|---------|--------|-----------|\n",
    "|  `True` | `True` | `True`    |\n",
    "|  `True` | `False`| `False`   |\n",
    "|  `False`| `True` | `False`   |\n",
    "|  `False`| `False`| `False`   |\n"
   ]
  },
  {
   "cell_type": "code",
   "execution_count": null,
   "metadata": {
    "scrolled": true
   },
   "outputs": [],
   "source": [
    "my_favorite_number"
   ]
  },
  {
   "cell_type": "code",
   "execution_count": null,
   "metadata": {},
   "outputs": [],
   "source": [
    "my_favorite_number > 0 and my_favorite_number <= 3"
   ]
  },
  {
   "cell_type": "code",
   "execution_count": null,
   "metadata": {},
   "outputs": [],
   "source": [
    "my_favorite_number < 0 and my_favorite_number <= 3"
   ]
  },
  {
   "cell_type": "code",
   "execution_count": null,
   "metadata": {},
   "outputs": [],
   "source": [
    "my_favorite_number > 0 and my_favorite_number >= 3"
   ]
  },
  {
   "cell_type": "code",
   "execution_count": null,
   "metadata": {},
   "outputs": [],
   "source": [
    "True and False"
   ]
  },
  {
   "cell_type": "code",
   "execution_count": null,
   "metadata": {},
   "outputs": [],
   "source": [
    "True and True"
   ]
  },
  {
   "cell_type": "markdown",
   "metadata": {},
   "source": [
    "The `or` operator returns `True` if at least one of the conditions evaluates to `True`. It returns `False` only if both conditions are `False`.\n",
    "\n",
    "| `a`     | `b`    | `a or b`  |\n",
    "|---------|--------|-----------|\n",
    "|  `True` | `True` | `True`    |\n",
    "|  `True` | `False`| `True`    |\n",
    "|  `False`| `True` | `True`    |\n",
    "|  `False`| `False`| `False`   |\n",
    "\n"
   ]
  },
  {
   "cell_type": "code",
   "execution_count": null,
   "metadata": {},
   "outputs": [],
   "source": [
    "a_neutral_number = 3"
   ]
  },
  {
   "cell_type": "code",
   "execution_count": null,
   "metadata": {},
   "outputs": [],
   "source": [
    "a_neutral_number == 3 or my_favorite_number < 0"
   ]
  },
  {
   "cell_type": "code",
   "execution_count": null,
   "metadata": {},
   "outputs": [],
   "source": [
    "a_neutral_number != 3 or my_favorite_number < 0"
   ]
  },
  {
   "cell_type": "code",
   "execution_count": null,
   "metadata": {},
   "outputs": [],
   "source": [
    "my_favorite_number < 0 or True"
   ]
  },
  {
   "cell_type": "code",
   "execution_count": null,
   "metadata": {},
   "outputs": [],
   "source": [
    "False or False"
   ]
  },
  {
   "cell_type": "markdown",
   "metadata": {},
   "source": [
    "Der `not` Operator liefert als Ergebnis `False` wenn das Argument `True` ist und `True` wenn das Argument `False` ist."
   ]
  },
  {
   "cell_type": "code",
   "execution_count": null,
   "metadata": {},
   "outputs": [],
   "source": [
    "not a_neutral_number == 3"
   ]
  },
  {
   "cell_type": "code",
   "execution_count": null,
   "metadata": {},
   "outputs": [],
   "source": [
    "not my_favorite_number < 0"
   ]
  },
  {
   "cell_type": "code",
   "execution_count": null,
   "metadata": {},
   "outputs": [],
   "source": [
    "not False"
   ]
  },
  {
   "cell_type": "code",
   "execution_count": null,
   "metadata": {},
   "outputs": [],
   "source": [
    "not True"
   ]
  },
  {
   "cell_type": "markdown",
   "metadata": {},
   "source": [
    "Logische Operatoren können kombiniert werden, um komplexe Bedingungen zu bilden. Verwenden Sie runde Klammern oder Klammern `(` und `)`, um die Reihenfolge anzugeben, in der logische Operatoren angewendet werden sollen."
   ]
  },
  {
   "cell_type": "code",
   "execution_count": null,
   "metadata": {},
   "outputs": [],
   "source": [
    "(2 > 3 and 4 <= 5) or not (my_favorite_number < 0 and True)"
   ]
  },
  {
   "cell_type": "code",
   "execution_count": null,
   "metadata": {},
   "outputs": [],
   "source": [
    "not (True and 0 < 1) or (False and True)"
   ]
  },
  {
   "cell_type": "markdown",
   "metadata": {},
   "source": [
    "If parentheses are not used, logical operators are applied from left to right."
   ]
  },
  {
   "cell_type": "code",
   "execution_count": null,
   "metadata": {},
   "outputs": [],
   "source": [
    "not True and 0 < 1 or False and True"
   ]
  },
  {
   "cell_type": "markdown",
   "metadata": {},
   "source": [
    "Experimentieren Sie mit arithmetischen, bedingten und logischen Operatoren in Python, indem Sie die interaktive Natur von Jupyter-Notebooks nutzen. In zukünftigen Tutorials werden wir mehr über Variablen und Funktionen lernen."
   ]
  },
  {
   "cell_type": "markdown",
   "metadata": {},
   "source": [
    "## Texte hinzufügen mit Markdown\n",
    "\n",
    "Zusätzliche Erklärungen mit Textzellen (Markdown) ist ein guter Weg das Notizbuch mit Informationen zum Code zu erweitern. \n",
    "Es ist auch nützlich, wenn Sie in Zukunft darauf zurückgreifen müssen. Sie können auf eine Textzelle in Jupyter doppelklicken, um sie zu bearbeiten. Im Bearbeitungsmodus werden Sie feststellen, dass der Text etwas anders aussieht (z. B. hat die Überschrift ein Präfix `##`. Dieser Text wurde mit Markdown geschrieben, einer einfachen Methode, um Stile zu Ihrem Text hinzuzufügen. Führen Sie diese Zelle aus, um die Ausgabe ohne die Sonderzeichen zu sehen. Sie können zwischen der Quelle und der Ausgabe hin- und herwechseln, um einen bestimmten Stil anzuwenden.\n",
    "\n",
    "Sie können zum Beispiel ein oder mehrere \"#\"-Zeichen am Anfang einer Zeile verwenden, um Kopfzeilen in verschiedenen Größen zu erstellen:\n",
    "\n",
    "# Überschrift 1\n",
    "\n",
    "## Überschrift 2\n",
    "\n",
    "### Überschrift 3\n",
    "\n",
    "#### Überschrift 4\n",
    "\n",
    "Um eine Aufzählung oder eine nummerierte Liste zu erstellen, beginnen Sie einfach eine Zeile mit `*` oder `1.`.\n",
    "\n",
    "Eine Aufzählungsliste:\n",
    "\n",
    "* Punkt 1\n",
    "* Punkt 2\n",
    "* Punkt 3\n",
    "\n",
    "Eine nummerierte Liste:\n",
    "\n",
    "1. Apfel\n",
    "2. Banane\n",
    "3. Ananas\n",
    "\n",
    "Sie können einen Teil des Textes fett machen, indem Sie `**` verwenden, z.B. **fetter Text**, oder kursiv machen, indem Sie `*` verwenden, z.B. *kursiver Text*. Sie können auch Links erstellen, z.B. [ein Link](https://ksenge.sharepoint.com/sites/informatik/unterlagen_sus). Auch Bilder lassen sich leicht einbetten:\n",
    "\n",
    "![](https://i.imgur.com/xDHeVER.jpg)\n",
    "\n",
    "Ein weiteres sehr nützliches Feature ist es im Markdown Codeblöcke einzufügen. Diese können aber nicht ausgeführt werden. Sie dienen nur der Erläuterung.\n",
    "\n",
    "```python\n",
    "# Perform the required calculations\n",
    "profit_per_bag = cost_of_ice_bag * profit_margin\n",
    "total_profit = number_of_bags * profit_per_bag\n",
    "\n",
    "# Display the result\n",
    "print(f\"The grocery store makes a total profit of {total_profit}\")\n",
    "\n",
    "```\n",
    "\n",
    "Den vollständingen Syntax von Markdown kann man hier nachlesen: https://learnxinyminutes.com/docs/markdown/"
   ]
  },
  {
   "cell_type": "markdown",
   "metadata": {},
   "source": [
    "## Weiteren Lesestoff und Referenzen\n",
    "\n",
    "Following are some resources where you can learn about more arithmetic, conditional and logical operations in Python:\n",
    "\n",
    "* Python Tutorial at W3Schools: https://www.w3schools.com/python/\n",
    "* Practical Python Programming: https://dabeaz-course.github.io/practical-python/Notes/Contents.html\n",
    "* Python official documentation: https://docs.python.org/3/tutorial/index.html\n",
    "\n",
    "Now that you have taken your first steps with Python, you are ready to move on to the next tutorial: [\"A Quick Tour of Variables and Data Types in Python\"](https://jovian.ml/aakashns/python-variables-and-data-types)."
   ]
  },
  {
   "cell_type": "code",
   "execution_count": null,
   "metadata": {},
   "outputs": [],
   "source": []
  }
 ],
 "metadata": {
  "kernelspec": {
   "display_name": "Python 3",
   "language": "python",
   "name": "python3"
  },
  "language_info": {
   "codemirror_mode": {
    "name": "ipython",
    "version": 3
   },
   "file_extension": ".py",
   "mimetype": "text/x-python",
   "name": "python",
   "nbconvert_exporter": "python",
   "pygments_lexer": "ipython3",
   "version": "3.7.3"
  }
 },
 "nbformat": 4,
 "nbformat_minor": 4
}
