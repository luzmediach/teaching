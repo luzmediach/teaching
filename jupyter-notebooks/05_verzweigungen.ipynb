{
 "cells": [
  {
   "cell_type": "markdown",
   "metadata": {},
   "source": [
    "# Verzweigungen und Schleifen in Python\n",
    "\n",
    "<img src=\"https://i.imgur.com/TSH0mLP.png\" width=1000/>\n"
   ]
  },
  {
   "cell_type": "markdown",
   "metadata": {},
   "source": [
    "Dieses Tutorial behandelt die folgenden Themen:\n",
    "\n",
    "- Verzweigung mit `if`, `else` und `elif`\n",
    "- Verschachtelte Bedingungen und \"wenn\"-Ausdrücke\n",
    "- Iteration mit \"while\"-Schleifen\n",
    "- Iteration über Container mit \"for\"-Schleifen\n",
    "- Verschachtelte Schleifen, `break` und `continue`-Anweisungen\n",
    "\n",
    "\n",
    "## If-Befehl\n",
    "Mit dem Schlüsselwort if wird dieser Befehl begonnen. Im Anschluss muss eine Bedingung fol-gen. Mit dem Doppelpunkt wird der Codeblock begonnen, der ausgeführt wird falls die Bedin-gung erfüllt ist. Dieser Codeblock muss eingerückt sein gegenüber dem Schlüsselwort if.\n",
    "Ist der Codeblock beendet schreibt man wieder auf der gleichen Höhe wie if. Man kann einen weiteren else: Befehl angeben. Dieser Codeblock wird ausgeführt falls die erste Bedingung nicht erfüllt ist.\n",
    "~~~ python\n",
    "if a ==3 :\n",
    "    # Codeblock falls die Bedingung erfüllt ist.\n",
    "    print(' a ist 3')\n",
    "else:\n",
    "    # Codeblock falls die Bedingung nicht erfüllt ist.\n",
    "    print('a ist nicht 3')\n",
    "print('dieser Befehl wird sicher ausgeführt')\n",
    "~~~\n",
    "Bitte beachten Sie, dass jeder Codeblock etwas enthalten muss. Den else-Teil des Befehles kann man ganz weglassen. Sollte man das else aber schreiben, muss mindestens ein Platzhalter vor-handen sein.\n",
    "~~~ python\n",
    "if a ==3 :\n",
    "    # Codeblock falls die Bedingung erfüllt ist.\n",
    "    print(' a ist 3')\n",
    "else:\n",
    "    pass # Codeblock ist leer.\n",
    "print('dieser Befehl wird sicher ausgeführt')\n",
    "~~~\n",
    "oder \n",
    "~~~ python\n",
    "if a ==3 :\n",
    "    # Codeblock falls die Bedingung erfüllt ist.\n",
    "    print(' a ist 3')\n",
    "print('dieser Befehl wird sicher ausgeführt')\n",
    "~~~"
   ]
  },
  {
   "cell_type": "markdown",
   "metadata": {},
   "source": [
    "## Verzweigung mit `if`, `else` und `elif`\n",
    "\n",
    "Eine der leistungsfähigsten Funktionen von Programmiersprachen ist die *Verzweigung*: die Möglichkeit, Entscheidungen zu treffen und eine andere Reihe von Anweisungen auszuführen, je nachdem, ob eine oder mehrere Bedingungen erfüllt sind.\n",
    "\n",
    "### Die `if`-Anweisung\n",
    "\n",
    "In Python wird die Verzweigung durch die `if`-Anweisung implementiert, die wie folgt geschrieben wird:\n",
    "\n",
    "```python\n",
    "if Bedingung:\n",
    "    Anweisung1\n",
    "    Anweisung2\n",
    "```\n",
    "\n",
    "Die `Bedingung` kann ein Wert, eine Variable oder ein Ausdruck sein. Wenn die Bedingung als `Wahr` ausgewertet wird, werden die Anweisungen innerhalb des *`wenn`-Blocks* ausgeführt. Beachten Sie die vier Leerzeichen vor `Anweisung1`, `Anweisung2`, usw. Die Leerzeichen teilen Python mit, dass diese Anweisungen mit der obigen \"if\"-Anweisung verbunden sind. Diese Technik, Code durch das Hinzufügen von Leerzeichen zu strukturieren, wird *Einrückung* genannt.\n",
    "\n",
    "> **Einrückung**: Python verlässt sich stark auf die *Einrückung* (Leerzeichen vor einer Anweisung), um die Codestruktur zu definieren. Dadurch ist Python-Code leicht zu lesen und zu verstehen. Sie können Probleme bekommen, wenn Sie die Einrückung nicht richtig verwenden. Richten Sie Ihren Code ein, indem Sie den Cursor an den Anfang der Zeile setzen und die `Tab`-Taste einmal drücken, um 4 Leerzeichen hinzuzufügen. Durch erneutes Drücken von \"Tab\" wird der Code um weitere 4 Leerzeichen eingerückt, und durch Drücken von \"Umschalt+Tab\" wird die Einrückung um **4 Leerzeichen** verringert. \n",
    "\n",
    "\n",
    "Lassen Sie uns zum Beispiel einen Code schreiben, der prüft, ob eine bestimmte Zahl gerade ist, und eine Meldung ausgibt.\n"
   ]
  },
  {
   "cell_type": "code",
   "execution_count": null,
   "metadata": {},
   "outputs": [],
   "source": [
    "eine_zahl = 34"
   ]
  },
  {
   "cell_type": "code",
   "execution_count": null,
   "metadata": {},
   "outputs": [],
   "source": [
    "if eine_zahl % 2 == 0:\n",
    "    print(\"Wir sind innerhalb eines if-Blocks\")\n",
    "    print(f'Die angegebene Zahl {eine_zahl} ist gerade.')"
   ]
  },
  {
   "cell_type": "markdown",
   "metadata": {},
   "source": [
    "Wir verwenden den Modulus-Operator `%`, um den Rest der Division von `eine_zahl` durch `2` zu berechnen. Dann benutzen wir den Vergleichsoperator `==`, um zu prüfen, ob der Rest `0` ist, was uns sagt, ob die Zahl gerade, d.h. durch 2 teilbar ist.\n",
    "\n",
    "Da `34` durch `2` teilbar ist, wird der Ausdruck `eine_zahl % 2 == 0` als `True` ausgewertet, also wird die `print`-Anweisung unter der `if`-Anweisung ausgeführt. Beachten Sie auch, dass wir die String-Methode `f\"...{eine_zahl}...\"` verwenden, um den Wert der Variable `eine_zahl` in die Nachricht aufzunehmen.\n",
    "\n",
    "Versuchen wir das oben Gesagte noch einmal mit einer ungeraden Zahl."
   ]
  },
  {
   "cell_type": "code",
   "execution_count": null,
   "metadata": {},
   "outputs": [],
   "source": [
    "andere_zahl = 33"
   ]
  },
  {
   "cell_type": "code",
   "execution_count": null,
   "metadata": {},
   "outputs": [],
   "source": [
    "if andere_zahl % 2 == 0:\n",
    "    print(f'Die gegebene Zahl  {andere_zahl} ist gerade.')"
   ]
  },
  {
   "cell_type": "markdown",
   "metadata": {},
   "source": [
    "Da die Bedingung `andere_zahl % 2 == 0` zu `False` ausgewertet wird, wird erwartungsgemäß keine Meldung ausgegeben. \n",
    "\n",
    "### Die `else`-Anweisung\n",
    "\n",
    "Wenn die Zahl im obigen Beispiel nicht gerade ist, möchten wir vielleicht eine andere Meldung ausgeben. Dies kann durch Hinzufügen der `else`-Anweisung erreicht werden. Sie wird wie folgt geschrieben:\n",
    "\n",
    "```python\n",
    "if Bedingung:\n",
    "    Anweisung1\n",
    "    Anweisung2\n",
    "else:\n",
    "    Anweisung4\n",
    "    Anweisung5\n",
    "\n",
    "```\n",
    "\n",
    "Wenn `condition` als `True` ausgewertet wird, werden die Anweisungen im `if`-Block ausgeführt. Wenn sie `False` ergibt, werden die Anweisungen im `else`-Block ausgeführt.\n"
   ]
  },
  {
   "cell_type": "code",
   "execution_count": null,
   "metadata": {},
   "outputs": [],
   "source": [
    "eine_zahl = 34"
   ]
  },
  {
   "cell_type": "code",
   "execution_count": null,
   "metadata": {},
   "outputs": [],
   "source": [
    "if eine_zahl % 2 == 0:\n",
    "    print(f'Die gegebene Zahl {eine_zahl} ist gerade.')\n",
    "else:\n",
    "    print(f'Die gegebene Zahl {eine_zahl} ist ungerade.')"
   ]
  },
  {
   "cell_type": "code",
   "execution_count": null,
   "metadata": {},
   "outputs": [],
   "source": [
    "andere_zahl = 33"
   ]
  },
  {
   "cell_type": "code",
   "execution_count": null,
   "metadata": {},
   "outputs": [],
   "source": [
    "if andere_zahl % 2 == 0:\n",
    "    print(f'Die gegebene Zahl {andere_zahl} ist gerade.')\n",
    "else:\n",
    "    print(f'Die gegebene Zahl {andere_zahl} ist ungerade.')"
   ]
  },
  {
   "cell_type": "markdown",
   "metadata": {},
   "source": [
    "Hier ein weiteres Beispiel, bei dem der Operator \"in\" verwendet wird, um die Zugehörigkeit zu einem Tupel zu prüfen."
   ]
  },
  {
   "cell_type": "code",
   "execution_count": null,
   "metadata": {},
   "outputs": [],
   "source": [
    "die_drei_musketiere = ('Athos', 'Porthos', 'Aramis')"
   ]
  },
  {
   "cell_type": "code",
   "execution_count": null,
   "metadata": {},
   "outputs": [],
   "source": [
    "ein_kandidat = \"D'Artagnan\""
   ]
  },
  {
   "cell_type": "code",
   "execution_count": null,
   "metadata": {},
   "outputs": [],
   "source": [
    "if ein_kandidat in die_drei_musketiere:\n",
    "    print(f\"{ein_kandidat} is a musketeer\")\n",
    "else:\n",
    "    print(f\"{ein_kandidat} is not a musketeer\")"
   ]
  },
  {
   "cell_type": "markdown",
   "metadata": {},
   "source": [
    "### Die `elif`-Anweisung\n",
    "\n",
    "Python bietet auch eine `elif`-Anweisung (kurz für `else if`), um eine Reihe von bedingten Blöcken zu verketten. Die Bedingungen werden eine nach der anderen ausgewertet. Bei der ersten Bedingung, die als `True` ausgewertet wird, wird der darunter liegende Block von Anweisungen ausgeführt. Die übrigen Bedingungen und Anweisungen werden nicht ausgewertet. In einer `if`-, `if`-, `if`-Kette wird also höchstens ein Anweisungsblock ausgeführt, und zwar derjenige, der der ersten Bedingung entspricht, die als \"wahr\" bewertet wird. "
   ]
  },
  {
   "cell_type": "code",
   "execution_count": null,
   "metadata": {},
   "outputs": [],
   "source": [
    "heute = 'Donnerstag'"
   ]
  },
  {
   "cell_type": "code",
   "execution_count": null,
   "metadata": {},
   "outputs": [],
   "source": [
    "if heute == 'Sonntag':\n",
    "    print(\"Heute ist der Tag der Sonne.\")\n",
    "elif heute == 'Montag':\n",
    "    print(\"Heute ist der Tag des Mondes.\")\n",
    "elif heute == 'Dienstag':\n",
    "    print(\"Heute ist der Tag von Tyr, dem Gott des Krieges.\")\n",
    "elif heute == 'Mittwoch':\n",
    "    print(\"Heute ist der Tag von Odin, der obersten Gottheit.\")\n",
    "elif heute == 'Donnerstag':\n",
    "    print(\"Heute ist der Tag von Thor, dem Gott des Donners.\")\n",
    "elif heute == 'Freitag':\n",
    "    print(\"Heute ist der Tag von Frigga, die Göttin der Schönheit.\")\n",
    "elif heute == 'Samstag':\n",
    "    print(\"Heute ist der Tag des Saturn, der Gott der Feste und der Ruhetag.\")"
   ]
  },
  {
   "cell_type": "markdown",
   "metadata": {},
   "source": [
    "Im obigen Beispiel ergeben die ersten 3 Bedingungen `False`, also wird keine der ersten 3 Meldungen gedruckt. Die vierte Bedingung ergibt `True`, so dass die entsprechende Meldung gedruckt wird. Die übrigen Bedingungen werden übersprungen. Versuchen Sie, den Wert von \"heute\" oben zu ändern und die Zellen erneut auszuführen, um alle verschiedenen Meldungen zu drucken.\n",
    "\n",
    "\n",
    "Um zu überprüfen, ob die übrigen Bedingungen übersprungen werden, versuchen wir ein weiteres Beispiel."
   ]
  },
  {
   "cell_type": "code",
   "execution_count": null,
   "metadata": {},
   "outputs": [],
   "source": [
    "eine_zahl = 30"
   ]
  },
  {
   "cell_type": "code",
   "execution_count": null,
   "metadata": {},
   "outputs": [],
   "source": [
    "if eine_zahl % 2 == 0:\n",
    "    print(f'{eine_zahl} ist durch  2 teilbar')\n",
    "elif eine_zahl % 3 == 0:\n",
    "    print(f'{eine_zahl} ist durch  3 teilbar')\n",
    "elif eine_zahl % 5 == 0:\n",
    "    print(f'{eine_zahl} ist durch  5 teilbar')\n",
    "elif eine_zahl % 7 == 0:\n",
    "    print(f'{eine_zahl} ist durch  7 teilbar')"
   ]
  },
  {
   "cell_type": "markdown",
   "metadata": {},
   "source": [
    "Beachten Sie, dass die Meldung `15 ist durch 5 teilbar` nicht gedruckt wird, weil die Bedingung `eine_zahl % 5 == 0` nicht ausgewertet wird, da die vorherige Bedingung `eine_zahl % 3 == 0` als `True` ausgewertet wird. Dies ist der Hauptunterschied zwischen einer Kette von `if`, `elif`, `elif`... Anweisungen und einer Kette von `if` Anweisungen, bei denen jede Bedingung unabhängig ausgewertet wird."
   ]
  },
  {
   "cell_type": "code",
   "execution_count": null,
   "metadata": {},
   "outputs": [],
   "source": [
    "if eine_zahl % 2 == 0:\n",
    "    print(f'{eine_zahl} ist durch  2 teilbar')\n",
    "if eine_zahl % 3 == 0:\n",
    "    print(f'{eine_zahl} ist durch  3 teilbar')\n",
    "if eine_zahl % 5 == 0:\n",
    "    print(f'{eine_zahl} ist durch  5 teilbar')\n",
    "if eine_zahl % 7 == 0:\n",
    "    print(f'{eine_zahl} ist durch  7 teilbar')"
   ]
  },
  {
   "cell_type": "markdown",
   "metadata": {},
   "source": [
    "### Verwendung von `if`, `elif` und `else` zusammen\n",
    "\n",
    "Sie können auch eine `else`-Anweisung am Ende einer Kette von `if`, `elif`... Anweisungen einfügen. Dieser Code innerhalb des `else`-Blocks wird ausgewertet, wenn keine der Bedingungen zutrifft."
   ]
  },
  {
   "cell_type": "code",
   "execution_count": null,
   "metadata": {},
   "outputs": [],
   "source": [
    "eine_zahl = 49"
   ]
  },
  {
   "cell_type": "code",
   "execution_count": null,
   "metadata": {},
   "outputs": [],
   "source": [
    "if eine_zahl % 2 == 0:\n",
    "    print(f'{eine_zahl} is divisible by 2')\n",
    "elif eine_zahl % 3 == 0:\n",
    "    print(f'{eine_zahl} is divisible by 3')\n",
    "elif eine_zahl % 5 == 0:\n",
    "    print(f'{eine_zahl} is divisible by 5')\n",
    "else:\n",
    "    print('All checks failed!')\n",
    "    print(f'{eine_zahl} is not divisible by 2, 3 or 5')"
   ]
  },
  {
   "cell_type": "markdown",
   "metadata": {},
   "source": [
    "Bedingungen können auch mit den logischen Operatoren \"und\", \"oder\" und \"nicht\" kombiniert werden. Die logischen Operatoren werden im [ersten Lernprogramm] () ausführlich erklärt."
   ]
  },
  {
   "cell_type": "code",
   "execution_count": null,
   "metadata": {},
   "outputs": [],
   "source": [
    "eine_zahl = 12"
   ]
  },
  {
   "cell_type": "code",
   "execution_count": null,
   "metadata": {},
   "outputs": [],
   "source": [
    "if eine_zahl % 3 == 0 and eine_zahl % 5 == 0:\n",
    "    print(f\"The number {eine_zahl} is divisible by 3 and 5\")\n",
    "elif not a_number % 5 == 0:\n",
    "    print(f\"The number {eine_zahl} is not divisible by 5\")"
   ]
  },
  {
   "cell_type": "markdown",
   "metadata": {},
   "source": [
    "### Aufgabe\n",
    "1. **theoretische Ablauf** Was wird am Ende dieses Programmes ausgegeben? Was ist der Wert von x?\n",
    "\n",
    "```python\n",
    "x = 18\n",
    "if x * 2 > 30:\n",
    "    x = x + 4\n",
    "x = x / 2\n",
    "x = x + 1\n",
    "if x - 11 < 2 * x - 23:\n",
    "    x = x - 1\n",
    "print(x)\n",
    "```\n",
    "\n",
    "2. **Teilbarkeit** Der Benutzer soll eine ganze Zahl eingeben können. Das Programm gibt an ob die Zahl durch 13 teilbar ist. Man kann dies kontrollieren indem man die Bedingung `zahl%13==0` benutzt.\n"
   ]
  },
  {
   "cell_type": "code",
   "execution_count": null,
   "metadata": {},
   "outputs": [],
   "source": [
    "# Aufgabe 1"
   ]
  },
  {
   "cell_type": "code",
   "execution_count": null,
   "metadata": {},
   "outputs": [],
   "source": [
    "# Aufgabe 2"
   ]
  },
  {
   "cell_type": "markdown",
   "metadata": {},
   "source": [
    "#### Bemerkung\n",
    "\n",
    "> Verschachtelte `if`, `else`-Anweisungen sind oft verwirrend zu lesen und anfällig für menschliche Fehler. Es ist gut, Verschachtelungen zu vermeiden, wann immer dies möglich ist, oder die Verschachtelung auf 1 oder 2 Ebenen zu beschränken."
   ]
  },
  {
   "cell_type": "markdown",
   "metadata": {},
   "source": [
    "### Kurzschreibweise `if` Ausdruck\n",
    "\n",
    "Ein häufiger Anwendungsfall der \"if\"-Anweisung besteht darin, eine Bedingung zu testen und den Wert einer Variablen auf der Grundlage der Bedingung zu setzen."
   ]
  },
  {
   "cell_type": "code",
   "execution_count": null,
   "metadata": {},
   "outputs": [],
   "source": [
    "eine_zahl = 13\n",
    "\n",
    "if eine_zahl % 2 == 0:\n",
    "    parity = 'gerade'\n",
    "else:\n",
    "    parity = 'ungerade'\n",
    "\n",
    "print(f'Die Zahl {eine_zahl} ist {parity}.')"
   ]
  },
  {
   "cell_type": "markdown",
   "metadata": {},
   "source": [
    "Python bietet eine kürzere Syntax, die es ermöglicht, solche Bedingungen in einer einzigen Codezeile zu schreiben. Er ist als *Bedingungsausdruck* bekannt, manchmal auch als *Nebenoperator* bezeichnet. Er hat die folgende Syntax:\n",
    "\n",
    "```python\n",
    "x = true_value if condition else false_value\n",
    "```\n",
    "\n",
    "Er hat das gleiche Verhalten wie der folgende `if`-`else`-Block:\n",
    "\n",
    "```python\n",
    "if Bedingung:\n",
    "    x = wahrer_Wert\n",
    "else:\n",
    "    x = false_value\n",
    "```\n",
    "\n",
    "Probieren wir es für das obige Beispiel aus."
   ]
  },
  {
   "cell_type": "code",
   "execution_count": null,
   "metadata": {},
   "outputs": [],
   "source": [
    "paritaet = 'gerade' if eine_zahl % 2 == 0 else 'ungerade'"
   ]
  },
  {
   "cell_type": "code",
   "execution_count": null,
   "metadata": {},
   "outputs": [],
   "source": [
    "print(f'Die Zahl {eine_zahl} ist {paritaet}.')"
   ]
  },
  {
   "cell_type": "markdown",
   "metadata": {},
   "source": [
    "### Anweisungen und Ausdrücke\n",
    "\n",
    "Der bedingte Ausdruck verdeutlicht einen wesentlichen Unterschied zwischen *Aussagen* und *Ausdrücken* in Python. \n",
    "\n",
    "> **Anweisungen**: Eine Anweisung ist eine Anweisung, die ausgeführt werden kann. Jede Zeile Code, die wir bisher geschrieben haben, ist eine Anweisung, z.B. das Zuweisen einer Variablen, der Aufruf einer Funktion, bedingte Anweisungen mit `if`, `else` und `elif`, Schleifen mit `for` und `while` usw.\n",
    "\n",
    "> **Ausdrücke**: Ein Ausdruck ist ein Code, der zu einem Wert ausgewertet wird. Beispiele sind Werte verschiedener Datentypen, arithmetische Ausdrücke, Bedingungen, Variablen, Funktionsaufrufe, bedingte Ausdrücke usw. \n",
    "\n",
    "\n",
    "Die meisten Ausdrücke können als Anweisungen ausgeführt werden, aber nicht alle Anweisungen sind Ausdrücke. Die reguläre \"if\"-Anweisung ist zum Beispiel kein Ausdruck, da sie keinen Wert auswertet. Sie führt lediglich eine Verzweigung im Code aus. Auch Schleifen und Funktionsdefinitionen sind keine Ausdrücke (wir werden in späteren Abschnitten mehr über diese lernen).\n",
    "\n",
    "Als Faustregel gilt, dass ein Ausdruck alles ist, was auf der rechten Seite des Zuweisungsoperators `=` stehen kann. Sie können dies als Test verwenden, um zu prüfen, ob etwas ein Ausdruck ist oder nicht. Sie erhalten einen Syntaxfehler, wenn Sie versuchen, etwas zuzuweisen, das kein Ausdruck ist."
   ]
  },
  {
   "cell_type": "code",
   "execution_count": null,
   "metadata": {},
   "outputs": [],
   "source": [
    "# if statement\n",
    "result = if a_number % 2 == 0: \n",
    "    'gerade'\n",
    "else:\n",
    "    'ungerade'"
   ]
  },
  {
   "cell_type": "code",
   "execution_count": null,
   "metadata": {},
   "outputs": [],
   "source": [
    "# if expression\n",
    "result = 'gerade' if a_number % 2 == 0 else 'ungerade'"
   ]
  },
  {
   "cell_type": "markdown",
   "metadata": {},
   "source": [
    "### Die `pass`-Anweisung\n",
    "\n",
    "Die `if`-Anweisungen können nicht leer sein, es muss mindestens eine Anweisung in jedem `if`- und `elif`-Block enthalten sein. Sie können die `pass`-Anweisung verwenden, um nichts zu tun und einen Fehler zu vermeiden."
   ]
  },
  {
   "cell_type": "code",
   "execution_count": null,
   "metadata": {},
   "outputs": [],
   "source": [
    "eine_zahl = 9"
   ]
  },
  {
   "cell_type": "code",
   "execution_count": null,
   "metadata": {},
   "outputs": [],
   "source": [
    "if eine_zahl % 2 == 0:\n",
    "elif eine_zahl % 3 == 0:\n",
    "    print(f'{eine_zahl} ist durch 3 teilbar aber nicht teilbar durch 2')"
   ]
  },
  {
   "cell_type": "code",
   "execution_count": null,
   "metadata": {},
   "outputs": [],
   "source": [
    "if eine_zahl % 2 == 0:\n",
    "    pass\n",
    "elif eine_zahl % 3 == 0:\n",
    "    print(f'{eine_zahl} ist durch 3 teilbar aber nicht teilbar durch 2')"
   ]
  },
  {
   "cell_type": "markdown",
   "metadata": {},
   "source": [
    "### Beispiel\n",
    "\n",
    "Das Programm nimmt einen Text entgegen und vergleicht ihn mit einem Passwort das im Programm gespeichert ist. Stimmen die beiden Texte überein, so wird **\"Greetings Professor Falken.\"** ausgegeben. Stimmen die Texte nicht überein, so wird **\"!!!Eindringlingsalarm!!!\"** ausgegeben.\n",
    "\n",
    "\n",
    "```python\n",
    "secret_password = \"joshua\"\n",
    "\n",
    "#Eingabe\n",
    "eingabetext = input(\"Geben Sie das Passwort ein: \")\n",
    "\n",
    "# Verarbeitung + Ausgabe\n",
    "if eingabetext == secret_password:\n",
    "    print(\"Greetings Professor Falken.\")\n",
    "    print(\"Shall we play a game?\")\n",
    "else:\n",
    "    print(\"!!! Eindringlingsalarm!!!\")\n",
    "    \n",
    "```\n",
    "\n",
    "[Wargames, Film von 1983](https://web.microsoftstream.com/video/a5781cb9-24ba-4c7b-b5b6-be8f88e98827)"
   ]
  },
  {
   "cell_type": "code",
   "execution_count": null,
   "metadata": {},
   "outputs": [],
   "source": [
    "secret_password = \"joshua\"\n",
    "\n",
    "#Eingabe\n",
    "eingabetext = input(\"Geben Sie das Passwort ein: \")\n",
    "\n",
    "# Verarbeitung + Ausgabe\n",
    "if eingabetext == secret_password:\n",
    "    print(\"Greetings Professor Falken.\")\n",
    "    print(\"Shall we play a game?\")\n",
    "else:\n",
    "    print(\"!!! Eindringlingsalarm!!!\")"
   ]
  },
  {
   "cell_type": "markdown",
   "metadata": {},
   "source": [
    "### Aufgaben zur Selektion\n",
    "1. **Vorname** Schreiben Sie ein Programm, welches einen Namen entgegennimmt. Nun wird kontrolliert ob es ihr Vorname ist. Falls ja, geben Sie den Text: \"Dich kenne ich\" aus. Falls der Name nicht übereinstimmt soll der Text \"Nett sie kennen zu lernen\" ausgegeben.\n",
    "2. **BMI** Das folgende Programm soll den Benutzer nach dem Gewicht und der Körpergrösse fragen. Die Körpergrösse sollte in m angegeben werden, das Gewicht in kg. Anschliessend berechnet das Programm den BMI aus den eingegebenen Werten. Benutzen Sie die Prozedur aus dem letzten Abschnitt. \n",
    "~~~ python\n",
    "    bmi=gewicht/(grösse**2)\n",
    "~~~\n",
    "Nun wird das Ergebnis bekanntgegeben. Je nach BMI-Wert wird ein anderer Kommentar ausgegeben. Ist BMI über 25 so soll eine Warnung ausgegeben werden.\n",
    "3. **Promillerechner** Wir wollen nun das Programm zur Promilleberechnung anpassen. Die Berechnung ist relativ einfach. Der Benutzer muss die getrunkene Menge reiner Alkohol in g angeben. Pro Glas etwa 10g. Zudem brauchen wir das Körpergewicht in kg. Anschliessend sollte der Benutzer das Geschlecht angeben *('m' oder 'w')*. Mit der letzten Eingabe wird der Wert der Variable a festgelegt: für Männer a = 0.7, für Frauen a = 0.6. Nun kann der Promillewert über die Formel berechnet werden.\n",
    "~~~ python\n",
    "    p=alkohol/(a∙gewicht) \n",
    "~~~\n",
    "Je nachdem ob der Promillewert über 0.5 liegt oder nicht, sollte ein Kommentar ausgegeben werden.\n",
    "\n",
    "4. **Gerade Zahl** Schreiben Sie ein Programm welches eine Eingabe entgegen nimmt.Ist die eingegebene Zahl gerade, `(x%2==0)` , so wird nichts gemacht. Ist die Zahl ungerade, so wird sie auf 0 gesetzt. \n",
    "5. **AHV** Schreiben Sie ein Programm welches nach dem Alter und dem Geschlecht fragt. Das Programm soll angeben ob man *AHV-beitragspflichtig* (ab 18) ist oder ob man schon *AHV-Bezüger* ist (Männer ab 65, Frauen ab 64). "
   ]
  },
  {
   "cell_type": "code",
   "execution_count": null,
   "metadata": {},
   "outputs": [],
   "source": [
    "#Aufgabe Vorname"
   ]
  },
  {
   "cell_type": "code",
   "execution_count": null,
   "metadata": {},
   "outputs": [],
   "source": [
    "#Aufgabe BMI"
   ]
  },
  {
   "cell_type": "code",
   "execution_count": null,
   "metadata": {},
   "outputs": [],
   "source": [
    "#Aufgabe Promillerechner"
   ]
  },
  {
   "cell_type": "code",
   "execution_count": null,
   "metadata": {},
   "outputs": [],
   "source": [
    "#Aufgabe geradeZahl"
   ]
  },
  {
   "cell_type": "code",
   "execution_count": null,
   "metadata": {},
   "outputs": [],
   "source": [
    "#Aufgabe AHV"
   ]
  },
  {
   "cell_type": "code",
   "execution_count": null,
   "metadata": {},
   "outputs": [],
   "source": []
  },
  {
   "cell_type": "markdown",
   "metadata": {},
   "source": [
    "## Weitere Lektüre und Referenzen\n",
    "\n",
    "Wir haben in nur 3 Tutorials eine Menge Stoff behandelt. \n",
    "\n",
    "Im Folgenden finden Sie einige Quellen, um mehr über bedingte Anweisungen und Schleifen in Python zu erfahren:\n",
    "\n",
    "* Python-Tutorial bei W3Schools: https://www.w3schools.com/python/\n",
    "* Praktische Python-Programmierung: https://dabeaz-course.github.io/practical-python/Notes/Contents.html\n",
    "* Offizielle Python-Dokumentation: https://docs.python.org/3/tutorial/index.html\n",
    "\n"
   ]
  },
  {
   "cell_type": "code",
   "execution_count": null,
   "metadata": {},
   "outputs": [],
   "source": []
  }
 ],
 "metadata": {
  "kernelspec": {
   "display_name": "Python 3",
   "language": "python",
   "name": "python3"
  },
  "language_info": {
   "codemirror_mode": {
    "name": "ipython",
    "version": 3
   },
   "file_extension": ".py",
   "mimetype": "text/x-python",
   "name": "python",
   "nbconvert_exporter": "python",
   "pygments_lexer": "ipython3",
   "version": "3.7.3"
  }
 },
 "nbformat": 4,
 "nbformat_minor": 4
}
