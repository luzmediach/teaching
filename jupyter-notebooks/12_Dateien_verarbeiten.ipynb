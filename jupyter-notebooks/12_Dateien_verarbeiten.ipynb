{
 "cells": [
  {
   "cell_type": "code",
   "execution_count": 4,
   "metadata": {},
   "outputs": [],
   "source": [
    "Cities = [\"London\", \"Paris\", \"New York\", \"Shanghai\"]\n",
    "\n",
    "\n",
    "File = open(\"datei.txt\",\"w\")\n",
    "for city in Cities:\n",
    "    File.write(city+\"\\n\")\n",
    "\n",
    "    \n",
    "    \n",
    "File.close()\n",
    "\n"
   ]
  },
  {
   "cell_type": "code",
   "execution_count": 6,
   "metadata": {},
   "outputs": [
    {
     "name": "stdout",
     "output_type": "stream",
     "text": [
      "London\n",
      "Paris\n",
      "New York\n",
      "Shanghai\n",
      "\n"
     ]
    }
   ],
   "source": [
    "File = open(\"datei.txt\", \"r\")\n",
    "content = File.read()\n",
    "File.close()\n",
    "print(content)"
   ]
  },
  {
   "cell_type": "code",
   "execution_count": 8,
   "metadata": {},
   "outputs": [
    {
     "name": "stdout",
     "output_type": "stream",
     "text": [
      "London\n",
      "Paris\n",
      "New York\n",
      "Shanghai\n"
     ]
    }
   ],
   "source": [
    "File = open(\"datei.txt\", \"r\")\n",
    "for line in File:\n",
    "    print(line, end=\"\")\n",
    "File.close()"
   ]
  },
  {
   "cell_type": "code",
   "execution_count": 16,
   "metadata": {},
   "outputs": [
    {
     "name": "stdout",
     "output_type": "stream",
     "text": [
      "London\n",
      "Paris\n",
      "New York\n",
      "Shanghai\n"
     ]
    }
   ],
   "source": [
    "with open(\"datei.txt\",\"r\") as File:\n",
    "    for line in File:\n",
    "        print(line, end=\"\")"
   ]
  },
  {
   "cell_type": "code",
   "execution_count": null,
   "metadata": {},
   "outputs": [],
   "source": []
  }
 ],
 "metadata": {
  "kernelspec": {
   "display_name": "Python 3",
   "language": "python",
   "name": "python3"
  },
  "language_info": {
   "codemirror_mode": {
    "name": "ipython",
    "version": 3
   },
   "file_extension": ".py",
   "mimetype": "text/x-python",
   "name": "python",
   "nbconvert_exporter": "python",
   "pygments_lexer": "ipython3",
   "version": "3.7.3"
  }
 },
 "nbformat": 4,
 "nbformat_minor": 4
}
