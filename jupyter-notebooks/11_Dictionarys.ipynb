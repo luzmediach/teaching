{
 "cells": [
  {
   "cell_type": "markdown",
   "metadata": {},
   "source": [
    "### Wörterbuch\n",
    "\n",
    "Ein Wörterbuch ist eine ungeordnete Sammlung von Elementen. Jedes Element, das in einem Wörterbuch gespeichert ist, hat einen Schlüssel und einen Wert. Sie können einen Schlüssel verwenden, um den entsprechenden Wert aus dem Wörterbuch abzurufen.  Wörterbücher haben den Typ `dict`.\n",
    "\n",
    "Wörterbücher werden häufig verwendet, um viele Informationen, z. B. Details über eine Person, in einer einzigen Variablen zu speichern. Wörterbücher werden erstellt, indem Schlüssel-Wert-Paare in geschweifte Klammern `{` und `}` eingeschlossen werden."
   ]
  },
  {
   "cell_type": "code",
   "execution_count": null,
   "metadata": {},
   "outputs": [],
   "source": [
    "person1 = {\n",
    "    'name': 'John Doe',\n",
    "    'sex': 'Male',\n",
    "    'age': 32,\n",
    "    'married': True\n",
    "}"
   ]
  },
  {
   "cell_type": "code",
   "execution_count": null,
   "metadata": {},
   "outputs": [],
   "source": [
    "person1"
   ]
  },
  {
   "cell_type": "markdown",
   "metadata": {},
   "source": [
    "Wörterbücher können auch mit der Funktion `dict` erstellt werden."
   ]
  },
  {
   "cell_type": "code",
   "execution_count": null,
   "metadata": {},
   "outputs": [],
   "source": [
    "person2 = dict(name='Jane Judy', sex='Female', age=28, married=False)"
   ]
  },
  {
   "cell_type": "code",
   "execution_count": null,
   "metadata": {},
   "outputs": [],
   "source": [
    "person2"
   ]
  },
  {
   "cell_type": "code",
   "execution_count": null,
   "metadata": {},
   "outputs": [],
   "source": [
    "type(person1)"
   ]
  },
  {
   "cell_type": "markdown",
   "metadata": {},
   "source": [
    "Mit Hilfe von eckigen Klammern `[` und `]` können Schlüssel für den Zugriff auf Werte verwendet werden."
   ]
  },
  {
   "cell_type": "code",
   "execution_count": null,
   "metadata": {},
   "outputs": [],
   "source": [
    "person1['name']"
   ]
  },
  {
   "cell_type": "code",
   "execution_count": null,
   "metadata": {},
   "outputs": [],
   "source": [
    "person1['married']"
   ]
  },
  {
   "cell_type": "code",
   "execution_count": null,
   "metadata": {},
   "outputs": [],
   "source": [
    "person2['name']"
   ]
  },
  {
   "cell_type": "markdown",
   "metadata": {},
   "source": [
    "Wenn ein Schlüssel nicht im Wörterbuch vorhanden ist, wird ein `KeyError` ausgelöst."
   ]
  },
  {
   "cell_type": "code",
   "execution_count": null,
   "metadata": {},
   "outputs": [],
   "source": [
    "person1['address']"
   ]
  },
  {
   "cell_type": "markdown",
   "metadata": {},
   "source": [
    "Sie können auch die Methode `get` verwenden, um auf den mit einem Schlüssel verbundenen Wert zuzugreifen."
   ]
  },
  {
   "cell_type": "code",
   "execution_count": null,
   "metadata": {},
   "outputs": [],
   "source": [
    "person2.get(\"name\")"
   ]
  },
  {
   "cell_type": "markdown",
   "metadata": {},
   "source": [
    "Die Methode \"get\" akzeptiert auch einen Standardwert, der zurückgegeben wird, wenn der Schlüssel nicht im Wörterbuch vorhanden ist."
   ]
  },
  {
   "cell_type": "code",
   "execution_count": null,
   "metadata": {},
   "outputs": [],
   "source": [
    "person2.get(\"address\", \"Unknown\")"
   ]
  },
  {
   "cell_type": "markdown",
   "metadata": {},
   "source": [
    "Mit dem Operator \"in\" können Sie prüfen, ob ein Schlüssel in einem Wörterbuch vorhanden ist."
   ]
  },
  {
   "cell_type": "code",
   "execution_count": null,
   "metadata": {},
   "outputs": [],
   "source": [
    "'name' in person1"
   ]
  },
  {
   "cell_type": "code",
   "execution_count": null,
   "metadata": {},
   "outputs": [],
   "source": [
    "'address' in person1"
   ]
  },
  {
   "cell_type": "markdown",
   "metadata": {},
   "source": [
    "Mit dem Zuweisungsoperator können Sie den mit einer Taste verbundenen Wert ändern."
   ]
  },
  {
   "cell_type": "code",
   "execution_count": null,
   "metadata": {},
   "outputs": [],
   "source": [
    "person2['married']"
   ]
  },
  {
   "cell_type": "code",
   "execution_count": null,
   "metadata": {},
   "outputs": [],
   "source": [
    "person2['married'] = True"
   ]
  },
  {
   "cell_type": "code",
   "execution_count": null,
   "metadata": {},
   "outputs": [],
   "source": [
    "person2['married']"
   ]
  },
  {
   "cell_type": "markdown",
   "metadata": {},
   "source": [
    "Der Zuweisungsoperator kann auch verwendet werden, um neue Schlüssel-Wert-Paare in das Wörterbuch aufzunehmen."
   ]
  },
  {
   "cell_type": "code",
   "execution_count": null,
   "metadata": {},
   "outputs": [],
   "source": [
    "person1"
   ]
  },
  {
   "cell_type": "code",
   "execution_count": null,
   "metadata": {},
   "outputs": [],
   "source": [
    "person1['address'] = '1, Penny Lane'"
   ]
  },
  {
   "cell_type": "code",
   "execution_count": null,
   "metadata": {},
   "outputs": [],
   "source": [
    "person1"
   ]
  },
  {
   "cell_type": "markdown",
   "metadata": {},
   "source": [
    "Um einen Schlüssel und den zugehörigen Wert aus einem Wörterbuch zu entfernen, verwenden Sie die Methode `pop`."
   ]
  },
  {
   "cell_type": "code",
   "execution_count": null,
   "metadata": {},
   "outputs": [],
   "source": [
    "person1.pop('address')"
   ]
  },
  {
   "cell_type": "code",
   "execution_count": null,
   "metadata": {},
   "outputs": [],
   "source": [
    "person1"
   ]
  },
  {
   "cell_type": "markdown",
   "metadata": {},
   "source": [
    "Dictionaries bieten auch Methoden, um die Liste der Schlüssel, Werte oder Schlüssel-Wert-Paare darin anzuzeigen."
   ]
  },
  {
   "cell_type": "code",
   "execution_count": null,
   "metadata": {},
   "outputs": [],
   "source": [
    "person1.keys()"
   ]
  },
  {
   "cell_type": "code",
   "execution_count": null,
   "metadata": {},
   "outputs": [],
   "source": [
    "person1.values()"
   ]
  },
  {
   "cell_type": "code",
   "execution_count": null,
   "metadata": {},
   "outputs": [],
   "source": [
    "person1.items()"
   ]
  },
  {
   "cell_type": "code",
   "execution_count": null,
   "metadata": {},
   "outputs": [],
   "source": [
    "person1.items()[1]"
   ]
  },
  {
   "cell_type": "markdown",
   "metadata": {},
   "source": [
    "Die Ergebnisse von `keys`, `values` und `items` sehen wie Listen aus. Sie unterstützen jedoch nicht den Indexierungsoperator `[]` zum Abrufen von Elementen. \n",
    "\n",
    "Kannst du herausfinden, wie man auf ein Element mit einem bestimmten Index aus diesen Ergebnissen zugreifen kann? Versuchen Sie es unten. *Tipp: Benutze die Funktion `list`"
   ]
  },
  {
   "cell_type": "code",
   "execution_count": null,
   "metadata": {},
   "outputs": [],
   "source": []
  },
  {
   "cell_type": "code",
   "execution_count": null,
   "metadata": {},
   "outputs": [],
   "source": []
  },
  {
   "cell_type": "markdown",
   "metadata": {},
   "source": [
    "Wörterbücher bieten viele weitere Methoden. Sie können mehr über sie hier erfahren: https://www.w3schools.com/python/python_ref_dictionary.asp.\n",
    "\n",
    "Hier sind einige Experimente, die Sie mit Wörterbüchern ausprobieren können (verwenden Sie die leeren Zellen unten):\n",
    "* Was passiert, wenn Sie beim Erstellen eines Wörterbuchs denselben Schlüssel mehrmals verwenden?\n",
    "* Wie kann man eine Kopie eines Wörterbuchs erstellen (die Kopie sollte das Original nicht verändern)?\n",
    "* Kann der mit einem Schlüssel verbundene Wert selbst ein Wörterbuch sein?\n",
    "* Wie kann man die Schlüssel-Wert-Paare aus einem Wörterbuch in ein anderes Wörterbuch einfügen? Tipp: Siehe die Methode `update`.\n",
    "* Können die Schlüssel des Wörterbuchs etwas anderes als eine Zeichenkette sein, z. B. eine Zahl, ein Boolescher Wert, eine Liste usw.?"
   ]
  },
  {
   "cell_type": "markdown",
   "metadata": {},
   "source": [
    "## Aufgaben\n",
    "\n",
    "1. Erstellen Sie ein kleines Programm für ein Restaurant. Das Menü u wird als Wörterbuch in der folgenden Form gespeichert:\n",
    "\n",
    "~~~python\n",
    "MENU = {'sandwich': 10, 'tea': 7, 'salad': 9}\n",
    "~~~\n",
    "\n",
    "Der Kunde kann bestellen. Die Bestellung wird ebenfalls als Wörterbuch gespeichert. Hier nun aber der Name des Gegenstandes als Schlüssel und die Anzahl als Wert. Ist das gewünschte Element auf dem Menü so wird der Betrag zum Total dazugezählt. Ist das Gewünschte nicht auf dem Menü so wird dies angegeben und weiter gefragt. Das Programm endet sobald der Kunde nichts eingibt."
   ]
  },
  {
   "cell_type": "code",
   "execution_count": null,
   "metadata": {},
   "outputs": [],
   "source": []
  }
 ],
 "metadata": {
  "kernelspec": {
   "display_name": "Python 3",
   "language": "python",
   "name": "python3"
  },
  "language_info": {
   "codemirror_mode": {
    "name": "ipython",
    "version": 3
   },
   "file_extension": ".py",
   "mimetype": "text/x-python",
   "name": "python",
   "nbconvert_exporter": "python",
   "pygments_lexer": "ipython3",
   "version": "3.7.3"
  }
 },
 "nbformat": 4,
 "nbformat_minor": 4
}
