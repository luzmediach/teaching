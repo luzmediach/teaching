{
 "cells": [
  {
   "cell_type": "markdown",
   "metadata": {},
   "source": [
    "# Objekte in Python\n",
    "Objektorientierte Programmierung (OOP) ist eine Methode zur Strukturierung eines Programms, bei der zusammengehörige Eigenschaften und Verhaltensweisen in einzelnen Objekten gebündelt werden. In diesem Lernprogramm lernen Sie die Grundlagen der objektorientierten Programmierung in Python kennen.\n",
    "\n",
    "Vom Konzept her sind Objekte wie die Komponenten eines Systems. Stellen Sie sich ein Programm als eine Art Fließband vor. Auf jeder Stufe des Fließbandes verarbeitet eine Systemkomponente ein bestimmtes Material und verwandelt schließlich das Rohmaterial in ein fertiges Produkt.\n",
    "\n",
    "Ein Objekt enthält Daten, z. B. das Rohmaterial oder die vorverarbeiteten Materialien bei jedem Schritt auf dem Fließband, und Verhalten, z. B. die Aktion, die jede Fließbandkomponente ausführt.\n",
    "\n",
    "In diesem Lernprogramm lernen Sie, wie man:\n",
    "\n",
    "- eine Klasse zu erstellen, die wie eine Blaupause für die Erstellung eines Objekts ist\n",
    "- Klassen zum Erstellen neuer Objekte zu verwenden\n",
    "- Systeme mit Klassenvererbung modellieren\n",
    "\n",
    "## Was ist objektorientiertes Programmieren in Python?\n",
    "Die objektorientierte Programmierung ist ein Programmierparadigma, mit dem Programme so strukturiert werden können, dass Eigenschaften und Verhaltensweisen in einzelnen Objekten gebündelt werden.\n",
    "\n",
    "Ein Objekt kann zum Beispiel eine Person mit Eigenschaften wie Name, Alter und Adresse und Verhaltensweisen wie Gehen, Sprechen, Atmen und Laufen darstellen. Oder es kann eine E-Mail mit Eigenschaften wie einer Empfängerliste, einem Betreff und einem Text und Verhaltensweisen wie dem Hinzufügen von Anhängen und dem Versenden darstellen.\n",
    "\n",
    "> Anders ausgedrückt: Objektorientierte Programmierung ist ein Ansatz zur Modellierung konkreter, realer Dinge wie Autos sowie von Beziehungen zwischen Dingen wie Unternehmen und Mitarbeitern, Schülern und Lehrern und so weiter. OOP modelliert reale Entitäten als Softwareobjekte, die mit bestimmten Daten verknüpft sind und bestimmte Funktionen ausführen können.\n",
    "\n",
    "Ein weiteres gängiges Programmierparadigma ist die prozedurale Programmierung, die ein Programm wie ein Kochrezept strukturiert, indem sie eine Reihe von Schritten in Form von Funktionen und Codeblöcken bereitstellt, die nacheinander ablaufen, um eine Aufgabe zu erfüllen.\n",
    "\n",
    "Das Wichtigste ist, dass Objekte im Mittelpunkt der objektorientierten Programmierung in Python stehen, und zwar nicht nur zur Darstellung der Daten wie bei der prozeduralen Programmierung, sondern auch in der Gesamtstruktur des Programms.\n",
    "\n"
   ]
  },
  {
   "cell_type": "markdown",
   "metadata": {},
   "source": [
    "## Definieren Sie eine Klasse in Python\n",
    "Primitive Datenstrukturen wie Zahlen, Zeichenketten und Listen wurden entwickelt, um einfache Informationen darzustellen, z. B. den Preis eines Apfels, den Namen eines Gedichts oder Ihre Lieblingsfarben. Was aber, wenn Sie etwas Komplexeres darstellen möchten?\n",
    "\n",
    "Nehmen wir zum Beispiel an, Sie möchten die Mitarbeiter einer Organisation erfassen. Sie müssen einige grundlegende Informationen über jeden Mitarbeiter speichern, z. B. seinen Namen, sein Alter, seine Position und das Jahr, in dem er angefangen hat zu arbeiten.\n",
    "\n",
    "Eine Möglichkeit, dies zu tun, besteht darin, jeden Mitarbeiter als Liste darzustellen:"
   ]
  },
  {
   "cell_type": "code",
   "execution_count": 1,
   "metadata": {},
   "outputs": [],
   "source": [
    "kirk = [\"James Kirk\", 34, \"Captain\", 2265]\n",
    "spock = [\"Spock\", 35, \"Science Officer\", 2254]\n",
    "mccoy = [\"Leonard McCoy\", \"Chief Medical Officer\", 2266]"
   ]
  },
  {
   "cell_type": "markdown",
   "metadata": {},
   "source": [
    "Es gibt eine Reihe von Problemen mit diesem Ansatz. Versuchen sie vorauszusagen, was die folgenden Codezeilen als Ergebnis liefern?\n"
   ]
  },
  {
   "cell_type": "code",
   "execution_count": 2,
   "metadata": {},
   "outputs": [
    {
     "data": {
      "text/plain": [
       "'James Kirk'"
      ]
     },
     "execution_count": 2,
     "metadata": {},
     "output_type": "execute_result"
    }
   ],
   "source": [
    "kirk[0]"
   ]
  },
  {
   "cell_type": "code",
   "execution_count": 3,
   "metadata": {},
   "outputs": [
    {
     "data": {
      "text/plain": [
       "'Chief Medical Officer'"
      ]
     },
     "execution_count": 3,
     "metadata": {},
     "output_type": "execute_result"
    }
   ],
   "source": [
    "mccoy[1]"
   ]
  },
  {
   "cell_type": "markdown",
   "metadata": {},
   "source": [
    "## Klassen und Instanzen\n",
    "\n",
    "Wir werden im folgenden eigene Klassen definieren. Dies sind allgemeine Vorlagen für eine eigene, von Ihnen definierte Datenstruktur. Sie geben die Eigenschaften vor welche diese Objekte haben sollen  und welche Funktionen ihre Datenstruktur haben soll. Dies aber alles ohne konkrete Daten.\n",
    "> Eine Klasse ist eine Vorlage für eine benutzer-definierte Datenstruktur mit Methoden (Funktionen) und Eigenschaften (Attributen).\n",
    "\n",
    "\n",
    "> Eine Instanz ist eine Objekt welches nach der Klassenvorlage erstellt wurde.\n",
    "\n",
    "\n",
    "Eine Klasse ist wie ein Fragebogen den man Ausfüllen muss. Eine Instanz ist einer der ausgefüllten Fragebogen.\n",
    "\n",
    "### Erstellen einer Klasse\n",
    "\n",
    "Man erzeugt eine eigenen Klasse mit dem Stichwort `class` und dem Namen dieser Klasse. \n",
    "\n",
    "> Der Name einer Klasse wird in CamelCase geschrieben. Jedes Wort wird mit einem Grossbuchstaben begonnen.\n",
    "\n",
    "Dies ist nur eine Konvention. Sie erhalten keine Fehlermeldung wenn sie sich nicht daran halten. Der Code ist einfach für andere Programmierer besser lesbar.\n",
    "\n",
    "```python\n",
    "class Dog:\n",
    "    pass\n",
    "```\n",
    "\n"
   ]
  },
  {
   "cell_type": "markdown",
   "metadata": {},
   "source": []
  },
  {
   "cell_type": "code",
   "execution_count": null,
   "metadata": {},
   "outputs": [],
   "source": []
  },
  {
   "cell_type": "markdown",
   "metadata": {},
   "source": [
    "Um eine Instanz eines Hundes zu erstellen brauchen wir noch eine Funktion welche die nötigen Informationen entgegennimmt und die Instanz speichert. Wir brauchen dazu die `__init__()` Methode. Diese wird aufgerufen wenn man eine Instanz der Klasse Dog erstellen möchte."
   ]
  },
  {
   "cell_type": "code",
   "execution_count": null,
   "metadata": {},
   "outputs": [],
   "source": [
    "class Dog:\n",
    "    def __init__(self, name, age):\n",
    "        self.name = name\n",
    "        self.age = age"
   ]
  },
  {
   "cell_type": "markdown",
   "metadata": {},
   "source": [
    "Beachten Sie, dass die Signatur der Methode .__init__() um vier Leerzeichen eingerückt ist. Der Körper der Methode ist um acht Leerzeichen eingerückt. Diese Einrückung ist von entscheidender Bedeutung. Sie sagt Python, dass die Methode .__init__() zur Klasse Dog gehört.\n",
    "\n",
    "Im Körper von .__init__() gibt es zwei Anweisungen, die die Variable self verwenden:\n",
    "\n",
    "1. self.name = name legt ein Attribut namens name an und weist ihm den Wert des Parameters name zu.\n",
    "2. self.age = age legt ein Attribut namens age an und weist ihm den Wert des Parameters age zu.\n",
    "\n",
    "Attribute, die in .__init__() erstellt werden, nennt man Instanzattribute. Der Wert eines Instanzattributs ist spezifisch für eine bestimmte Instanz der Klasse. Alle Hundeobjekte haben einen Namen und ein Alter, aber die Werte für die Attribute Name und Alter variieren je nach Hundeinstanz.\n",
    "\n",
    "Andererseits sind Klassenattribute Attribute, die für alle Klasseninstanzen den gleichen Wert haben. Sie können ein Klassenattribut definieren, indem Sie einem Variablennamen außerhalb von .__init__() einen Wert zuweisen."
   ]
  },
  {
   "cell_type": "code",
   "execution_count": null,
   "metadata": {},
   "outputs": [],
   "source": [
    "bello = Dog(\"\")"
   ]
  },
  {
   "cell_type": "markdown",
   "metadata": {},
   "source": [
    "> Methoden einer Klasse mit den doppelten Strichen __ zu Beginn und Ende des Funktionsnamens nennt man **dunder-Methods** und erfüllen immer eine spezielle Funktion.\n",
    "\n",
    "dunder ist dabei eine Abkürzung für *double-underline*."
   ]
  },
  {
   "cell_type": "code",
   "execution_count": null,
   "metadata": {},
   "outputs": [],
   "source": []
  }
 ],
 "metadata": {
  "kernelspec": {
   "display_name": "Python 3",
   "language": "python",
   "name": "python3"
  },
  "language_info": {
   "codemirror_mode": {
    "name": "ipython",
    "version": 3
   },
   "file_extension": ".py",
   "mimetype": "text/x-python",
   "name": "python",
   "nbconvert_exporter": "python",
   "pygments_lexer": "ipython3",
   "version": "3.7.3"
  }
 },
 "nbformat": 4,
 "nbformat_minor": 4
}
