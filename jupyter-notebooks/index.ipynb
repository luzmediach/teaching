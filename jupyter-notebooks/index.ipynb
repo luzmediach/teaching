{
 "cells": [
  {
   "cell_type": "markdown",
   "metadata": {},
   "source": [
    "# Python Grundlagen\n",
    "\n",
    "- [Erste Schritte](01_erste_schritte.ipynb)\n",
    "- [Variablen und Datentypen](02_variablen_datentypen.ipynb)\n",
    "- [Ein- und Ausgabe](03_ein-und_ausgabe.ipynb)\n",
    "- [Turtle-Graphik](04_turtle-graphik.ipynb)\n",
    "- [Verzweigungen](05_verzweigungen.ipynb)\n",
    "- [Schleifen](06_schleifen.ipynb)\n",
    "- [Methoden](07_turtle-graphik_methoden.ipynb)\n",
    "- [Funktionen](08_python_functions-and-scope.ipynb)\n",
    "- [Zeichenketten](09_Strings.ipynb)\n",
    "- [Listen](10_Listen_und_Tupel.ipynb)\n",
    "- [Woerterbücher](11_Dictionarys)\n",
    "- [Dateien verarbeiten](12_Dateien_verarbeiten.ipynb)\n",
    "- [Objekte in Python](13_objekte_in_python.ipynb)\n",
    "- [ISS](14_iss.ipynb)\n"
   ]
  },
  {
   "cell_type": "code",
   "execution_count": null,
   "metadata": {},
   "outputs": [],
   "source": []
  }
 ],
 "metadata": {
  "kernelspec": {
   "display_name": "Python 3",
   "language": "python",
   "name": "python3"
  },
  "language_info": {
   "codemirror_mode": {
    "name": "ipython",
    "version": 3
   },
   "file_extension": ".py",
   "mimetype": "text/x-python",
   "name": "python",
   "nbconvert_exporter": "python",
   "pygments_lexer": "ipython3",
   "version": "3.7.3"
  }
 },
 "nbformat": 4,
 "nbformat_minor": 4
}
